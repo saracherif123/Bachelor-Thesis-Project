{
  "nbformat": 4,
  "nbformat_minor": 0,
  "metadata": {
    "colab": {
      "provenance": [],
      "authorship_tag": "ABX9TyOzwnxh+U4Mq/9QlEeDoNL8",
      "include_colab_link": true
    },
    "kernelspec": {
      "name": "python3",
      "display_name": "Python 3"
    },
    "language_info": {
      "name": "python"
    }
  },
  "cells": [
    {
      "cell_type": "markdown",
      "metadata": {
        "id": "view-in-github",
        "colab_type": "text"
      },
      "source": [
        "<a href=\"https://colab.research.google.com/github/saracherif123/Bachelor-Thesis-Project/blob/main/MultilayerPerceptron_datesets_duplicates_match.ipynb\" target=\"_parent\"><img src=\"https://colab.research.google.com/assets/colab-badge.svg\" alt=\"Open In Colab\"/></a>"
      ]
    },
    {
      "cell_type": "markdown",
      "source": [
        "# **MultilayerPerceptron datesets_duplicates_match (Dup Model)**\n"
      ],
      "metadata": {
        "id": "NVfVauHzUpvB"
      }
    },
    {
      "cell_type": "markdown",
      "source": [
        "## Spark Confirguration in Google Colab\n",
        "\n",
        "\n",
        "\n",
        "\n"
      ],
      "metadata": {
        "id": "WG1AO4miUxf-"
      }
    },
    {
      "cell_type": "code",
      "source": [
        "!ls"
      ],
      "metadata": {
        "colab": {
          "base_uri": "https://localhost:8080/"
        },
        "id": "doOZN7ER_xgJ",
        "outputId": "cb810fc9-8231-49bc-cc5e-69fcccd4b785"
      },
      "execution_count": 1,
      "outputs": [
        {
          "output_type": "stream",
          "name": "stdout",
          "text": [
            "sample_data\n"
          ]
        }
      ]
    },
    {
      "cell_type": "code",
      "source": [
        "!pwd"
      ],
      "metadata": {
        "colab": {
          "base_uri": "https://localhost:8080/"
        },
        "id": "OWpkUIgZ_yBS",
        "outputId": "3359b599-d5f6-4ad9-de2d-30c56885f519"
      },
      "execution_count": 2,
      "outputs": [
        {
          "output_type": "stream",
          "name": "stdout",
          "text": [
            "/content\n"
          ]
        }
      ]
    },
    {
      "cell_type": "code",
      "source": [
        "!apt-get install openjdk-8-jdk-headless -qq > /dev/null\n",
        "!wget -q http://archive.apache.org/dist/spark/spark-3.1.1/spark-3.1.1-bin-hadoop3.2.tgz\n",
        "!tar xf spark-3.1.1-bin-hadoop3.2.tgz\n",
        "!pip install -q findspark"
      ],
      "metadata": {
        "id": "u3mL6zXB_yOG"
      },
      "execution_count": 3,
      "outputs": []
    },
    {
      "cell_type": "code",
      "source": [
        "import os\n",
        "os.environ[\"JAVA_HOME\"] = \"/usr/lib/jvm/java-8-openjdk-amd64\"\n",
        "os.environ[\"SPARK_HOME\"] = \"/content/spark-3.1.1-bin-hadoop3.2\""
      ],
      "metadata": {
        "id": "OVFJCkSD_yVU"
      },
      "execution_count": 4,
      "outputs": []
    },
    {
      "cell_type": "code",
      "source": [
        "import findspark\n",
        "findspark.init()\n",
        "from pyspark.sql import SparkSession\n",
        "spark = SparkSession.builder.master(\"local[*]\").getOrCreate()\n",
        "spark.conf.set(\"spark.sql.repl.eagerEval.enabled\", True) # Property used to format output tables better\n",
        "spark"
      ],
      "metadata": {
        "colab": {
          "base_uri": "https://localhost:8080/",
          "height": 219
        },
        "id": "58rRLDco_yfu",
        "outputId": "460cb302-2d97-4f1b-db9c-6583f87babe5"
      },
      "execution_count": 5,
      "outputs": [
        {
          "output_type": "execute_result",
          "data": {
            "text/plain": [
              "<pyspark.sql.session.SparkSession at 0x7ff4c808ca60>"
            ],
            "text/html": [
              "\n",
              "            <div>\n",
              "                <p><b>SparkSession - in-memory</b></p>\n",
              "                \n",
              "        <div>\n",
              "            <p><b>SparkContext</b></p>\n",
              "\n",
              "            <p><a href=\"http://8df3fb5311cd:4040\">Spark UI</a></p>\n",
              "\n",
              "            <dl>\n",
              "              <dt>Version</dt>\n",
              "                <dd><code>v3.1.1</code></dd>\n",
              "              <dt>Master</dt>\n",
              "                <dd><code>local[*]</code></dd>\n",
              "              <dt>AppName</dt>\n",
              "                <dd><code>pyspark-shell</code></dd>\n",
              "            </dl>\n",
              "        </div>\n",
              "        \n",
              "            </div>\n",
              "        "
            ]
          },
          "metadata": {},
          "execution_count": 5
        }
      ]
    },
    {
      "cell_type": "markdown",
      "source": [
        "### Import necessary libraries"
      ],
      "metadata": {
        "id": "MwEgdhasWZIU"
      }
    },
    {
      "cell_type": "code",
      "source": [
        "from pyspark import SparkContext\n",
        "from pyspark.sql import SparkSession\n",
        "from pyspark.ml.feature import VectorAssembler\n",
        "from pyspark.ml.evaluation import MulticlassClassificationEvaluator\n",
        "import matplotlib.pyplot as plt\n",
        "from pyspark.sql.functions import col\n",
        "import seaborn as sns\n",
        "from pyspark.ml.clustering import KMeans\n",
        "from pyspark.ml.evaluation import ClusteringEvaluator\n",
        "from pyspark.sql.functions import col\n",
        "from pyspark.ml import Pipeline\n",
        "from pyspark.ml.classification import MultilayerPerceptronClassifier\n",
        "from pyspark.ml.feature import StringIndexer, VectorAssembler\n",
        "from pyspark.ml.tuning import CrossValidator, ParamGridBuilder\n",
        "from pyspark.ml.feature import StandardScaler\n"
      ],
      "metadata": {
        "id": "wRetbqddAW30"
      },
      "execution_count": 6,
      "outputs": []
    },
    {
      "cell_type": "markdown",
      "source": [
        "### Load Dataset"
      ],
      "metadata": {
        "id": "LM3G-y8PXduw"
      }
    },
    {
      "cell_type": "code",
      "source": [
        "from pyspark.sql import SparkSession\n",
        "spark = SparkSession.builder.appName(\"Clustering using K-Means\").getOrCreate()\n",
        "data = spark.read.csv(\"all_topics_datasets_matching.csv\", header=True, inferSchema=True)\n",
        "data.show(10)\n",
        "\n"
      ],
      "metadata": {
        "colab": {
          "base_uri": "https://localhost:8080/"
        },
        "id": "49tPSxBRAXIp",
        "outputId": "b74cae4a-c8ac-408b-e603-4ebc9798cdbd"
      },
      "execution_count": 7,
      "outputs": [
        {
          "output_type": "stream",
          "name": "stdout",
          "text": [
            "+----+----+-------------+--------------------+-------------+--------------+--------------+----------------+----------------+----------------+----------------+------------------+-----------------+------------------+------------------+----------------+---------------+----------------+----------------+----------------+----------------+-------------------------+-------------------------+-------------------------+-------------------------+----------------------+--------------------------+---------------------------+-------------------------+\n",
            "|did1|did2|dataset_name1|       dataset_name2|num_instances|num_attributes|dimensionality|num_numeric_attr|pct_numeric_attr|num_nominal_attr|pct_nominal_attr|avg_nominal_values|sd_nominal_values|min_nominal_values|max_nominal_values|avg_numeric_mean|sd_numeric_mean|min_numeric_mean|max_numeric_mean|missing_attr_cnt|missing_attr_pct|missing_instances_max_cnt|missing_instances_max_pct|missing_instances_min_cnt|missing_instances_min_pct|missing_instances_mean|missing_instances_mean_pct|datesets_subject_main_match|datesets_duplicates_match|\n",
            "+----+----+-------------+--------------------+-------------+--------------+--------------+----------------+----------------+----------------+----------------+------------------+-----------------+------------------+------------------+----------------+---------------+----------------+----------------+----------------+----------------+-------------------------+-------------------------+-------------------------+-------------------------+----------------------+--------------------------+---------------------------+-------------------------+\n",
            "| 171| 185|primary-tumor|            baseball|     0.747015|           0.0|      0.747015|             1.0|             1.0|        0.833333|        0.833333|          0.992834|         0.993118|          0.333333|          0.984317|             1.0|            1.0|             0.0|             1.0|             0.8|             0.8|                 0.870968|                 0.967357|                     0.95|                  0.80236|              0.911111|                  0.977512|                          0|                        0|\n",
            "| 171|6331|primary-tumor|LoanDefaultPredic...|     0.996786|      0.976654|      0.862327|             1.0|             1.0|        0.666667|        0.992218|          0.870246|         0.838809|               0.0|          0.671875|             1.0|            1.0|             1.0|             1.0|        0.990476|        0.592063|                  0.99177|                  0.60947|                      0.0|                 0.996786|              0.987738|                   0.73788|                          0|                        0|\n",
            "| 171|1090|primary-tumor|       MercuryinBass|     0.843658|      0.333333|      0.765487|             1.0|             1.0|        0.944444|        0.916667|          0.939203|              1.0|          0.962264|          0.603774|             1.0|            1.0|             0.0|             1.0|             1.0|             1.0|                      1.0|                      1.0|                      1.0|                      1.0|                   1.0|                       1.0|                          0|                        0|\n",
            "| 171| 575|primary-tumor|          kdd_coil_4|    0.0678466|      0.333333|       0.28481|             1.0|             1.0|        0.833333|            0.75|         0.0333333|         0.891071|          0.333333|          0.809524|             1.0|            1.0|             1.0|             1.0|           0.375|        0.583333|                 0.851613|                 0.840813|                      0.5|                 0.533923|              0.626667|                  0.599494|                          0|                        0|\n",
            "| 171|1051|primary-tumor|      cocomo_numeric|     0.823009|     0.0555556|      0.812598|             1.0|             1.0|        0.166667|        0.117647|          0.121212|         0.838432|          0.333333|          0.761905|             1.0|            1.0|             1.0|             1.0|             1.0|             1.0|                      1.0|                      1.0|                      1.0|                      1.0|                   1.0|                       1.0|                          0|                        0|\n",
            "| 171|1481|primary-tumor|             kr-vs-k|     0.987917|      0.611111|      0.995301|             1.0|             1.0|        0.777778|        0.428571|          0.660819|         0.163264|               0.5|          0.142857|             1.0|            1.0|             1.0|             1.0|             1.0|             1.0|                      1.0|                      1.0|                      1.0|                      1.0|                   1.0|                       1.0|                          0|                        0|\n",
            "| 171| 382|primary-tumor|   ipums_la_97-small|     0.951703|      0.704918|      0.836325|             0.0|             0.0|        0.704918|             0.0|          0.934284|         0.954003|               0.5|          0.956967|             0.0|            0.0|             0.0|             0.0|        0.722222|       0.0586419|                 0.975303|                 0.488643|                 0.992593|                  0.84663|              0.984144|                  0.671701|                          0|                        0|\n",
            "| 171| 576|primary-tumor|          kdd_coil_5|    0.0678466|      0.333333|       0.28481|             1.0|             1.0|        0.833333|            0.75|         0.0333333|         0.891071|          0.333333|          0.809524|             1.0|            1.0|             1.0|             1.0|           0.375|        0.583333|                 0.851613|                 0.840813|                      0.5|                 0.533923|              0.626667|                  0.599494|                          0|                        0|\n",
            "| 171|1465|primary-tumor|       breast-tissue|     0.687316|      0.444444|      0.437168|             1.0|             1.0|        0.944444|             0.9|          0.462963|              1.0|          0.666667|          0.714286|             1.0|            1.0|             1.0|             1.0|             1.0|             1.0|                      1.0|                      1.0|                      1.0|                      1.0|                   1.0|                       1.0|                          0|                        0|\n",
            "| 171|1567|primary-tumor|          poker-hand|     0.999669|      0.388889|      0.999798|             1.0|             1.0|        0.944444|        0.909091|          0.677778|              1.0|               0.8|           0.52381|             1.0|            1.0|             1.0|             1.0|             1.0|             1.0|                      1.0|                      1.0|                      1.0|                      1.0|                   1.0|                       1.0|                          0|                        0|\n",
            "+----+----+-------------+--------------------+-------------+--------------+--------------+----------------+----------------+----------------+----------------+------------------+-----------------+------------------+------------------+----------------+---------------+----------------+----------------+----------------+----------------+-------------------------+-------------------------+-------------------------+-------------------------+----------------------+--------------------------+---------------------------+-------------------------+\n",
            "only showing top 10 rows\n",
            "\n"
          ]
        }
      ]
    },
    {
      "cell_type": "code",
      "source": [
        "data.printSchema()"
      ],
      "metadata": {
        "id": "qzdv3GxvCA1t",
        "colab": {
          "base_uri": "https://localhost:8080/"
        },
        "outputId": "b37bfef7-9b90-4bc6-dc91-0b012f162448"
      },
      "execution_count": 8,
      "outputs": [
        {
          "output_type": "stream",
          "name": "stdout",
          "text": [
            "root\n",
            " |-- did1: integer (nullable = true)\n",
            " |-- did2: integer (nullable = true)\n",
            " |-- dataset_name1: string (nullable = true)\n",
            " |-- dataset_name2: string (nullable = true)\n",
            " |-- num_instances: double (nullable = true)\n",
            " |-- num_attributes: double (nullable = true)\n",
            " |-- dimensionality: double (nullable = true)\n",
            " |-- num_numeric_attr: double (nullable = true)\n",
            " |-- pct_numeric_attr: double (nullable = true)\n",
            " |-- num_nominal_attr: double (nullable = true)\n",
            " |-- pct_nominal_attr: double (nullable = true)\n",
            " |-- avg_nominal_values: double (nullable = true)\n",
            " |-- sd_nominal_values: double (nullable = true)\n",
            " |-- min_nominal_values: double (nullable = true)\n",
            " |-- max_nominal_values: double (nullable = true)\n",
            " |-- avg_numeric_mean: double (nullable = true)\n",
            " |-- sd_numeric_mean: double (nullable = true)\n",
            " |-- min_numeric_mean: double (nullable = true)\n",
            " |-- max_numeric_mean: double (nullable = true)\n",
            " |-- missing_attr_cnt: double (nullable = true)\n",
            " |-- missing_attr_pct: double (nullable = true)\n",
            " |-- missing_instances_max_cnt: double (nullable = true)\n",
            " |-- missing_instances_max_pct: double (nullable = true)\n",
            " |-- missing_instances_min_cnt: double (nullable = true)\n",
            " |-- missing_instances_min_pct: double (nullable = true)\n",
            " |-- missing_instances_mean: double (nullable = true)\n",
            " |-- missing_instances_mean_pct: double (nullable = true)\n",
            " |-- datesets_subject_main_match: integer (nullable = true)\n",
            " |-- datesets_duplicates_match: integer (nullable = true)\n",
            "\n"
          ]
        }
      ]
    },
    {
      "cell_type": "code",
      "source": [
        "data=data.drop(\"did1\",\"did2\",\"dataset_name1\",\"dataset_name2\")\n",
        "data"
      ],
      "metadata": {
        "colab": {
          "base_uri": "https://localhost:8080/",
          "height": 545
        },
        "id": "t660_UpeCIj0",
        "outputId": "a9606915-0a51-4bc0-9938-bf1884e2a23f"
      },
      "execution_count": 9,
      "outputs": [
        {
          "output_type": "execute_result",
          "data": {
            "text/plain": [
              "+-------------+--------------+--------------+----------------+----------------+----------------+----------------+------------------+-----------------+------------------+------------------+----------------+---------------+----------------+----------------+----------------+----------------+-------------------------+-------------------------+-------------------------+-------------------------+----------------------+--------------------------+---------------------------+-------------------------+\n",
              "|num_instances|num_attributes|dimensionality|num_numeric_attr|pct_numeric_attr|num_nominal_attr|pct_nominal_attr|avg_nominal_values|sd_nominal_values|min_nominal_values|max_nominal_values|avg_numeric_mean|sd_numeric_mean|min_numeric_mean|max_numeric_mean|missing_attr_cnt|missing_attr_pct|missing_instances_max_cnt|missing_instances_max_pct|missing_instances_min_cnt|missing_instances_min_pct|missing_instances_mean|missing_instances_mean_pct|datesets_subject_main_match|datesets_duplicates_match|\n",
              "+-------------+--------------+--------------+----------------+----------------+----------------+----------------+------------------+-----------------+------------------+------------------+----------------+---------------+----------------+----------------+----------------+----------------+-------------------------+-------------------------+-------------------------+-------------------------+----------------------+--------------------------+---------------------------+-------------------------+\n",
              "|     0.747015|           0.0|      0.747015|             1.0|             1.0|        0.833333|        0.833333|          0.992834|         0.993118|          0.333333|          0.984317|             1.0|            1.0|             0.0|             1.0|             0.8|             0.8|                 0.870968|                 0.967357|                     0.95|                  0.80236|              0.911111|                  0.977512|                          0|                        0|\n",
              "|     0.996786|      0.976654|      0.862327|             1.0|             1.0|        0.666667|        0.992218|          0.870246|         0.838809|               0.0|          0.671875|             1.0|            1.0|             1.0|             1.0|        0.990476|        0.592063|                  0.99177|                  0.60947|                      0.0|                 0.996786|              0.987738|                   0.73788|                          0|                        0|\n",
              "|     0.843658|      0.333333|      0.765487|             1.0|             1.0|        0.944444|        0.916667|          0.939203|              1.0|          0.962264|          0.603774|             1.0|            1.0|             0.0|             1.0|             1.0|             1.0|                      1.0|                      1.0|                      1.0|                      1.0|                   1.0|                       1.0|                          0|                        0|\n",
              "|    0.0678466|      0.333333|       0.28481|             1.0|             1.0|        0.833333|            0.75|         0.0333333|         0.891071|          0.333333|          0.809524|             1.0|            1.0|             1.0|             1.0|           0.375|        0.583333|                 0.851613|                 0.840813|                      0.5|                 0.533923|              0.626667|                  0.599494|                          0|                        0|\n",
              "|     0.823009|     0.0555556|      0.812598|             1.0|             1.0|        0.166667|        0.117647|          0.121212|         0.838432|          0.333333|          0.761905|             1.0|            1.0|             1.0|             1.0|             1.0|             1.0|                      1.0|                      1.0|                      1.0|                      1.0|                   1.0|                       1.0|                          0|                        0|\n",
              "|     0.987917|      0.611111|      0.995301|             1.0|             1.0|        0.777778|        0.428571|          0.660819|         0.163264|               0.5|          0.142857|             1.0|            1.0|             1.0|             1.0|             1.0|             1.0|                      1.0|                      1.0|                      1.0|                      1.0|                   1.0|                       1.0|                          0|                        0|\n",
              "|     0.951703|      0.704918|      0.836325|             0.0|             0.0|        0.704918|             0.0|          0.934284|         0.954003|               0.5|          0.956967|             0.0|            0.0|             0.0|             0.0|        0.722222|       0.0586419|                 0.975303|                 0.488643|                 0.992593|                  0.84663|              0.984144|                  0.671701|                          0|                        0|\n",
              "|    0.0678466|      0.333333|       0.28481|             1.0|             1.0|        0.833333|            0.75|         0.0333333|         0.891071|          0.333333|          0.809524|             1.0|            1.0|             1.0|             1.0|           0.375|        0.583333|                 0.851613|                 0.840813|                      0.5|                 0.533923|              0.626667|                  0.599494|                          0|                        0|\n",
              "|     0.687316|      0.444444|      0.437168|             1.0|             1.0|        0.944444|             0.9|          0.462963|              1.0|          0.666667|          0.714286|             1.0|            1.0|             1.0|             1.0|             1.0|             1.0|                      1.0|                      1.0|                      1.0|                      1.0|                   1.0|                       1.0|                          0|                        0|\n",
              "|     0.999669|      0.388889|      0.999798|             1.0|             1.0|        0.944444|        0.909091|          0.677778|              1.0|               0.8|           0.52381|             1.0|            1.0|             1.0|             1.0|             1.0|             1.0|                      1.0|                      1.0|                      1.0|                      1.0|                   1.0|                       1.0|                          0|                        0|\n",
              "|     0.997546|           0.5|      0.998773|             1.0|             1.0|        0.944444|        0.888889|          0.892593|              1.0|          0.933333|               0.3|             1.0|            1.0|             1.0|             1.0|             1.0|             1.0|                      1.0|                      1.0|                      1.0|                      1.0|                   1.0|                       1.0|                          0|                        0|\n",
              "|      0.92569|      0.166667|      0.938075|             1.0|             1.0|             0.5|             0.4|          0.704082|         0.603636|               0.0|          0.461538|             1.0|            1.0|             1.0|             1.0|             0.8|            0.76|                 0.432258|                 0.957811|                 0.988636|                 0.847077|              0.530667|                  0.965124|                          0|                        0|\n",
              "|     0.918841|           0.5|      0.959421|             1.0|             1.0|        0.888889|        0.777778|          0.792115|          0.65379|          0.333333|              0.25|             1.0|            1.0|             0.0|             1.0|             1.0|             1.0|                      1.0|                      1.0|                      1.0|                      1.0|                   1.0|                       1.0|                          0|                        0|\n",
              "|    0.0855457|      0.611111|      0.574731|             1.0|             1.0|        0.944444|        0.857143|           0.37931|              1.0|               0.0|          0.904762|             1.0|            1.0|             1.0|             1.0|             1.0|             1.0|                      1.0|                      1.0|                      1.0|                      1.0|                   1.0|                       1.0|                          1|                        0|\n",
              "|     0.961652|      0.222222|      0.950695|             1.0|             1.0|             1.0|             1.0|               1.0|              1.0|               1.0|               1.0|             1.0|            1.0|             1.0|             1.0|             1.0|             1.0|                      1.0|                      1.0|                      1.0|                      1.0|                   1.0|                       1.0|                          0|                        0|\n",
              "|     0.858407|      0.555556|      0.681416|             1.0|             1.0|        0.944444|           0.875|           0.93287|              1.0|          0.958333|            0.5625|             1.0|            1.0|             1.0|             1.0|             1.0|             1.0|                      1.0|                      1.0|                      1.0|                      1.0|                   1.0|                       1.0|                          0|                        0|\n",
              "|     0.383481|      0.555556|      0.279107|             1.0|             1.0|        0.944444|           0.875|          0.892593|              1.0|          0.933333|               0.3|             1.0|            1.0|             1.0|             1.0|             1.0|             1.0|                      1.0|                      1.0|                      1.0|                      1.0|                   1.0|                       1.0|                          0|                        0|\n",
              "|     0.705015|      0.666667|      0.115044|             0.0|             0.0|        0.666667|             0.0|           0.12069|         0.753402|               0.0|          0.761905|             0.0|            0.0|             0.0|             0.0|             1.0|             1.0|                      1.0|                      1.0|                      1.0|                      1.0|                   1.0|                       1.0|                          0|                        0|\n",
              "|    0.0678466|      0.333333|       0.28481|             1.0|             1.0|        0.833333|            0.75|         0.0333333|         0.891071|          0.333333|          0.809524|             1.0|            1.0|             1.0|             1.0|           0.375|        0.583333|                 0.851613|                 0.840813|                      0.5|                 0.533923|              0.626667|                  0.599494|                          0|                        0|\n",
              "|     0.772861|      0.111111|      0.744469|             1.0|             1.0|        0.833333|          0.8125|          0.887597|         0.873601|               0.0|          0.727273|             1.0|            1.0|             1.0|             1.0|             1.0|             1.0|                      1.0|                      1.0|                      1.0|                      1.0|                   1.0|                       1.0|                          0|                        0|\n",
              "+-------------+--------------+--------------+----------------+----------------+----------------+----------------+------------------+-----------------+------------------+------------------+----------------+---------------+----------------+----------------+----------------+----------------+-------------------------+-------------------------+-------------------------+-------------------------+----------------------+--------------------------+---------------------------+-------------------------+\n",
              "only showing top 20 rows"
            ],
            "text/html": [
              "<table border='1'>\n",
              "<tr><th>num_instances</th><th>num_attributes</th><th>dimensionality</th><th>num_numeric_attr</th><th>pct_numeric_attr</th><th>num_nominal_attr</th><th>pct_nominal_attr</th><th>avg_nominal_values</th><th>sd_nominal_values</th><th>min_nominal_values</th><th>max_nominal_values</th><th>avg_numeric_mean</th><th>sd_numeric_mean</th><th>min_numeric_mean</th><th>max_numeric_mean</th><th>missing_attr_cnt</th><th>missing_attr_pct</th><th>missing_instances_max_cnt</th><th>missing_instances_max_pct</th><th>missing_instances_min_cnt</th><th>missing_instances_min_pct</th><th>missing_instances_mean</th><th>missing_instances_mean_pct</th><th>datesets_subject_main_match</th><th>datesets_duplicates_match</th></tr>\n",
              "<tr><td>0.747015</td><td>0.0</td><td>0.747015</td><td>1.0</td><td>1.0</td><td>0.833333</td><td>0.833333</td><td>0.992834</td><td>0.993118</td><td>0.333333</td><td>0.984317</td><td>1.0</td><td>1.0</td><td>0.0</td><td>1.0</td><td>0.8</td><td>0.8</td><td>0.870968</td><td>0.967357</td><td>0.95</td><td>0.80236</td><td>0.911111</td><td>0.977512</td><td>0</td><td>0</td></tr>\n",
              "<tr><td>0.996786</td><td>0.976654</td><td>0.862327</td><td>1.0</td><td>1.0</td><td>0.666667</td><td>0.992218</td><td>0.870246</td><td>0.838809</td><td>0.0</td><td>0.671875</td><td>1.0</td><td>1.0</td><td>1.0</td><td>1.0</td><td>0.990476</td><td>0.592063</td><td>0.99177</td><td>0.60947</td><td>0.0</td><td>0.996786</td><td>0.987738</td><td>0.73788</td><td>0</td><td>0</td></tr>\n",
              "<tr><td>0.843658</td><td>0.333333</td><td>0.765487</td><td>1.0</td><td>1.0</td><td>0.944444</td><td>0.916667</td><td>0.939203</td><td>1.0</td><td>0.962264</td><td>0.603774</td><td>1.0</td><td>1.0</td><td>0.0</td><td>1.0</td><td>1.0</td><td>1.0</td><td>1.0</td><td>1.0</td><td>1.0</td><td>1.0</td><td>1.0</td><td>1.0</td><td>0</td><td>0</td></tr>\n",
              "<tr><td>0.0678466</td><td>0.333333</td><td>0.28481</td><td>1.0</td><td>1.0</td><td>0.833333</td><td>0.75</td><td>0.0333333</td><td>0.891071</td><td>0.333333</td><td>0.809524</td><td>1.0</td><td>1.0</td><td>1.0</td><td>1.0</td><td>0.375</td><td>0.583333</td><td>0.851613</td><td>0.840813</td><td>0.5</td><td>0.533923</td><td>0.626667</td><td>0.599494</td><td>0</td><td>0</td></tr>\n",
              "<tr><td>0.823009</td><td>0.0555556</td><td>0.812598</td><td>1.0</td><td>1.0</td><td>0.166667</td><td>0.117647</td><td>0.121212</td><td>0.838432</td><td>0.333333</td><td>0.761905</td><td>1.0</td><td>1.0</td><td>1.0</td><td>1.0</td><td>1.0</td><td>1.0</td><td>1.0</td><td>1.0</td><td>1.0</td><td>1.0</td><td>1.0</td><td>1.0</td><td>0</td><td>0</td></tr>\n",
              "<tr><td>0.987917</td><td>0.611111</td><td>0.995301</td><td>1.0</td><td>1.0</td><td>0.777778</td><td>0.428571</td><td>0.660819</td><td>0.163264</td><td>0.5</td><td>0.142857</td><td>1.0</td><td>1.0</td><td>1.0</td><td>1.0</td><td>1.0</td><td>1.0</td><td>1.0</td><td>1.0</td><td>1.0</td><td>1.0</td><td>1.0</td><td>1.0</td><td>0</td><td>0</td></tr>\n",
              "<tr><td>0.951703</td><td>0.704918</td><td>0.836325</td><td>0.0</td><td>0.0</td><td>0.704918</td><td>0.0</td><td>0.934284</td><td>0.954003</td><td>0.5</td><td>0.956967</td><td>0.0</td><td>0.0</td><td>0.0</td><td>0.0</td><td>0.722222</td><td>0.0586419</td><td>0.975303</td><td>0.488643</td><td>0.992593</td><td>0.84663</td><td>0.984144</td><td>0.671701</td><td>0</td><td>0</td></tr>\n",
              "<tr><td>0.0678466</td><td>0.333333</td><td>0.28481</td><td>1.0</td><td>1.0</td><td>0.833333</td><td>0.75</td><td>0.0333333</td><td>0.891071</td><td>0.333333</td><td>0.809524</td><td>1.0</td><td>1.0</td><td>1.0</td><td>1.0</td><td>0.375</td><td>0.583333</td><td>0.851613</td><td>0.840813</td><td>0.5</td><td>0.533923</td><td>0.626667</td><td>0.599494</td><td>0</td><td>0</td></tr>\n",
              "<tr><td>0.687316</td><td>0.444444</td><td>0.437168</td><td>1.0</td><td>1.0</td><td>0.944444</td><td>0.9</td><td>0.462963</td><td>1.0</td><td>0.666667</td><td>0.714286</td><td>1.0</td><td>1.0</td><td>1.0</td><td>1.0</td><td>1.0</td><td>1.0</td><td>1.0</td><td>1.0</td><td>1.0</td><td>1.0</td><td>1.0</td><td>1.0</td><td>0</td><td>0</td></tr>\n",
              "<tr><td>0.999669</td><td>0.388889</td><td>0.999798</td><td>1.0</td><td>1.0</td><td>0.944444</td><td>0.909091</td><td>0.677778</td><td>1.0</td><td>0.8</td><td>0.52381</td><td>1.0</td><td>1.0</td><td>1.0</td><td>1.0</td><td>1.0</td><td>1.0</td><td>1.0</td><td>1.0</td><td>1.0</td><td>1.0</td><td>1.0</td><td>1.0</td><td>0</td><td>0</td></tr>\n",
              "<tr><td>0.997546</td><td>0.5</td><td>0.998773</td><td>1.0</td><td>1.0</td><td>0.944444</td><td>0.888889</td><td>0.892593</td><td>1.0</td><td>0.933333</td><td>0.3</td><td>1.0</td><td>1.0</td><td>1.0</td><td>1.0</td><td>1.0</td><td>1.0</td><td>1.0</td><td>1.0</td><td>1.0</td><td>1.0</td><td>1.0</td><td>1.0</td><td>0</td><td>0</td></tr>\n",
              "<tr><td>0.92569</td><td>0.166667</td><td>0.938075</td><td>1.0</td><td>1.0</td><td>0.5</td><td>0.4</td><td>0.704082</td><td>0.603636</td><td>0.0</td><td>0.461538</td><td>1.0</td><td>1.0</td><td>1.0</td><td>1.0</td><td>0.8</td><td>0.76</td><td>0.432258</td><td>0.957811</td><td>0.988636</td><td>0.847077</td><td>0.530667</td><td>0.965124</td><td>0</td><td>0</td></tr>\n",
              "<tr><td>0.918841</td><td>0.5</td><td>0.959421</td><td>1.0</td><td>1.0</td><td>0.888889</td><td>0.777778</td><td>0.792115</td><td>0.65379</td><td>0.333333</td><td>0.25</td><td>1.0</td><td>1.0</td><td>0.0</td><td>1.0</td><td>1.0</td><td>1.0</td><td>1.0</td><td>1.0</td><td>1.0</td><td>1.0</td><td>1.0</td><td>1.0</td><td>0</td><td>0</td></tr>\n",
              "<tr><td>0.0855457</td><td>0.611111</td><td>0.574731</td><td>1.0</td><td>1.0</td><td>0.944444</td><td>0.857143</td><td>0.37931</td><td>1.0</td><td>0.0</td><td>0.904762</td><td>1.0</td><td>1.0</td><td>1.0</td><td>1.0</td><td>1.0</td><td>1.0</td><td>1.0</td><td>1.0</td><td>1.0</td><td>1.0</td><td>1.0</td><td>1.0</td><td>1</td><td>0</td></tr>\n",
              "<tr><td>0.961652</td><td>0.222222</td><td>0.950695</td><td>1.0</td><td>1.0</td><td>1.0</td><td>1.0</td><td>1.0</td><td>1.0</td><td>1.0</td><td>1.0</td><td>1.0</td><td>1.0</td><td>1.0</td><td>1.0</td><td>1.0</td><td>1.0</td><td>1.0</td><td>1.0</td><td>1.0</td><td>1.0</td><td>1.0</td><td>1.0</td><td>0</td><td>0</td></tr>\n",
              "<tr><td>0.858407</td><td>0.555556</td><td>0.681416</td><td>1.0</td><td>1.0</td><td>0.944444</td><td>0.875</td><td>0.93287</td><td>1.0</td><td>0.958333</td><td>0.5625</td><td>1.0</td><td>1.0</td><td>1.0</td><td>1.0</td><td>1.0</td><td>1.0</td><td>1.0</td><td>1.0</td><td>1.0</td><td>1.0</td><td>1.0</td><td>1.0</td><td>0</td><td>0</td></tr>\n",
              "<tr><td>0.383481</td><td>0.555556</td><td>0.279107</td><td>1.0</td><td>1.0</td><td>0.944444</td><td>0.875</td><td>0.892593</td><td>1.0</td><td>0.933333</td><td>0.3</td><td>1.0</td><td>1.0</td><td>1.0</td><td>1.0</td><td>1.0</td><td>1.0</td><td>1.0</td><td>1.0</td><td>1.0</td><td>1.0</td><td>1.0</td><td>1.0</td><td>0</td><td>0</td></tr>\n",
              "<tr><td>0.705015</td><td>0.666667</td><td>0.115044</td><td>0.0</td><td>0.0</td><td>0.666667</td><td>0.0</td><td>0.12069</td><td>0.753402</td><td>0.0</td><td>0.761905</td><td>0.0</td><td>0.0</td><td>0.0</td><td>0.0</td><td>1.0</td><td>1.0</td><td>1.0</td><td>1.0</td><td>1.0</td><td>1.0</td><td>1.0</td><td>1.0</td><td>0</td><td>0</td></tr>\n",
              "<tr><td>0.0678466</td><td>0.333333</td><td>0.28481</td><td>1.0</td><td>1.0</td><td>0.833333</td><td>0.75</td><td>0.0333333</td><td>0.891071</td><td>0.333333</td><td>0.809524</td><td>1.0</td><td>1.0</td><td>1.0</td><td>1.0</td><td>0.375</td><td>0.583333</td><td>0.851613</td><td>0.840813</td><td>0.5</td><td>0.533923</td><td>0.626667</td><td>0.599494</td><td>0</td><td>0</td></tr>\n",
              "<tr><td>0.772861</td><td>0.111111</td><td>0.744469</td><td>1.0</td><td>1.0</td><td>0.833333</td><td>0.8125</td><td>0.887597</td><td>0.873601</td><td>0.0</td><td>0.727273</td><td>1.0</td><td>1.0</td><td>1.0</td><td>1.0</td><td>1.0</td><td>1.0</td><td>1.0</td><td>1.0</td><td>1.0</td><td>1.0</td><td>1.0</td><td>1.0</td><td>0</td><td>0</td></tr>\n",
              "</table>\n",
              "only showing top 20 rows\n"
            ]
          },
          "metadata": {},
          "execution_count": 9
        }
      ]
    },
    {
      "cell_type": "markdown",
      "source": [
        "## Data Preprocessing"
      ],
      "metadata": {
        "id": "ucS53IbzXznE"
      }
    },
    {
      "cell_type": "code",
      "source": [
        "# Create vector assembler\n",
        "from pyspark.ml.feature import VectorAssembler\n",
        "labelCol = 'datesets_duplicates_match'\n",
        "numericCols = ['num_instances','num_attributes',\n",
        " 'dimensionality','num_numeric_attr','pct_numeric_attr','num_nominal_attr', 'pct_nominal_attr',\n",
        " 'avg_nominal_values','sd_nominal_values','min_nominal_values','max_nominal_values','avg_numeric_mean',\n",
        " 'sd_numeric_mean','min_numeric_mean','max_numeric_mean','missing_attr_cnt','missing_attr_pct',\n",
        " 'missing_instances_max_cnt','missing_instances_max_pct','missing_instances_min_cnt','missing_instances_min_pct',\n",
        " 'missing_instances_mean','missing_instances_mean_pct']\n",
        "assembler = VectorAssembler(inputCols=numericCols, outputCol=\"features\")\n",
        "\n",
        "\n",
        "# Transform the training data\n",
        "data = assembler.transform(data)\n",
        "\n",
        "\n",
        "\n",
        "\n"
      ],
      "metadata": {
        "id": "gv9fIE5mC5lc"
      },
      "execution_count": 10,
      "outputs": []
    },
    {
      "cell_type": "markdown",
      "source": [
        "### Cluster-based undersampling\n",
        "\n"
      ],
      "metadata": {
        "id": "v4bXYSDEXvGM"
      }
    },
    {
      "cell_type": "code",
      "source": [
        "# Filter the data where `datesets_subject_main_match` is equal to zero\n",
        "filtered_data_0 = data.filter(col(\"datesets_duplicates_match\") == 0)\n",
        "\n",
        "# Show the filtered data\n",
        "filtered_data_0.show()\n",
        "\n"
      ],
      "metadata": {
        "colab": {
          "base_uri": "https://localhost:8080/"
        },
        "id": "S1VDzTTWWpQg",
        "outputId": "2f8c3c2c-01ef-4231-bff8-edaf1a6da775"
      },
      "execution_count": 11,
      "outputs": [
        {
          "output_type": "stream",
          "name": "stdout",
          "text": [
            "+-------------+--------------+--------------+----------------+----------------+----------------+----------------+------------------+-----------------+------------------+------------------+----------------+---------------+----------------+----------------+----------------+----------------+-------------------------+-------------------------+-------------------------+-------------------------+----------------------+--------------------------+---------------------------+-------------------------+--------------------+\n",
            "|num_instances|num_attributes|dimensionality|num_numeric_attr|pct_numeric_attr|num_nominal_attr|pct_nominal_attr|avg_nominal_values|sd_nominal_values|min_nominal_values|max_nominal_values|avg_numeric_mean|sd_numeric_mean|min_numeric_mean|max_numeric_mean|missing_attr_cnt|missing_attr_pct|missing_instances_max_cnt|missing_instances_max_pct|missing_instances_min_cnt|missing_instances_min_pct|missing_instances_mean|missing_instances_mean_pct|datesets_subject_main_match|datesets_duplicates_match|            features|\n",
            "+-------------+--------------+--------------+----------------+----------------+----------------+----------------+------------------+-----------------+------------------+------------------+----------------+---------------+----------------+----------------+----------------+----------------+-------------------------+-------------------------+-------------------------+-------------------------+----------------------+--------------------------+---------------------------+-------------------------+--------------------+\n",
            "|     0.747015|           0.0|      0.747015|             1.0|             1.0|        0.833333|        0.833333|          0.992834|         0.993118|          0.333333|          0.984317|             1.0|            1.0|             0.0|             1.0|             0.8|             0.8|                 0.870968|                 0.967357|                     0.95|                  0.80236|              0.911111|                  0.977512|                          0|                        0|[0.747015,0.0,0.7...|\n",
            "|     0.996786|      0.976654|      0.862327|             1.0|             1.0|        0.666667|        0.992218|          0.870246|         0.838809|               0.0|          0.671875|             1.0|            1.0|             1.0|             1.0|        0.990476|        0.592063|                  0.99177|                  0.60947|                      0.0|                 0.996786|              0.987738|                   0.73788|                          0|                        0|[0.996786,0.97665...|\n",
            "|     0.843658|      0.333333|      0.765487|             1.0|             1.0|        0.944444|        0.916667|          0.939203|              1.0|          0.962264|          0.603774|             1.0|            1.0|             0.0|             1.0|             1.0|             1.0|                      1.0|                      1.0|                      1.0|                      1.0|                   1.0|                       1.0|                          0|                        0|[0.843658,0.33333...|\n",
            "|    0.0678466|      0.333333|       0.28481|             1.0|             1.0|        0.833333|            0.75|         0.0333333|         0.891071|          0.333333|          0.809524|             1.0|            1.0|             1.0|             1.0|           0.375|        0.583333|                 0.851613|                 0.840813|                      0.5|                 0.533923|              0.626667|                  0.599494|                          0|                        0|[0.0678466,0.3333...|\n",
            "|     0.823009|     0.0555556|      0.812598|             1.0|             1.0|        0.166667|        0.117647|          0.121212|         0.838432|          0.333333|          0.761905|             1.0|            1.0|             1.0|             1.0|             1.0|             1.0|                      1.0|                      1.0|                      1.0|                      1.0|                   1.0|                       1.0|                          0|                        0|[0.823009,0.05555...|\n",
            "|     0.987917|      0.611111|      0.995301|             1.0|             1.0|        0.777778|        0.428571|          0.660819|         0.163264|               0.5|          0.142857|             1.0|            1.0|             1.0|             1.0|             1.0|             1.0|                      1.0|                      1.0|                      1.0|                      1.0|                   1.0|                       1.0|                          0|                        0|[0.987917,0.61111...|\n",
            "|     0.951703|      0.704918|      0.836325|             0.0|             0.0|        0.704918|             0.0|          0.934284|         0.954003|               0.5|          0.956967|             0.0|            0.0|             0.0|             0.0|        0.722222|       0.0586419|                 0.975303|                 0.488643|                 0.992593|                  0.84663|              0.984144|                  0.671701|                          0|                        0|[0.951703,0.70491...|\n",
            "|    0.0678466|      0.333333|       0.28481|             1.0|             1.0|        0.833333|            0.75|         0.0333333|         0.891071|          0.333333|          0.809524|             1.0|            1.0|             1.0|             1.0|           0.375|        0.583333|                 0.851613|                 0.840813|                      0.5|                 0.533923|              0.626667|                  0.599494|                          0|                        0|[0.0678466,0.3333...|\n",
            "|     0.687316|      0.444444|      0.437168|             1.0|             1.0|        0.944444|             0.9|          0.462963|              1.0|          0.666667|          0.714286|             1.0|            1.0|             1.0|             1.0|             1.0|             1.0|                      1.0|                      1.0|                      1.0|                      1.0|                   1.0|                       1.0|                          0|                        0|[0.687316,0.44444...|\n",
            "|     0.999669|      0.388889|      0.999798|             1.0|             1.0|        0.944444|        0.909091|          0.677778|              1.0|               0.8|           0.52381|             1.0|            1.0|             1.0|             1.0|             1.0|             1.0|                      1.0|                      1.0|                      1.0|                      1.0|                   1.0|                       1.0|                          0|                        0|[0.999669,0.38888...|\n",
            "|     0.997546|           0.5|      0.998773|             1.0|             1.0|        0.944444|        0.888889|          0.892593|              1.0|          0.933333|               0.3|             1.0|            1.0|             1.0|             1.0|             1.0|             1.0|                      1.0|                      1.0|                      1.0|                      1.0|                   1.0|                       1.0|                          0|                        0|[0.997546,0.5,0.9...|\n",
            "|      0.92569|      0.166667|      0.938075|             1.0|             1.0|             0.5|             0.4|          0.704082|         0.603636|               0.0|          0.461538|             1.0|            1.0|             1.0|             1.0|             0.8|            0.76|                 0.432258|                 0.957811|                 0.988636|                 0.847077|              0.530667|                  0.965124|                          0|                        0|[0.92569,0.166667...|\n",
            "|     0.918841|           0.5|      0.959421|             1.0|             1.0|        0.888889|        0.777778|          0.792115|          0.65379|          0.333333|              0.25|             1.0|            1.0|             0.0|             1.0|             1.0|             1.0|                      1.0|                      1.0|                      1.0|                      1.0|                   1.0|                       1.0|                          0|                        0|[0.918841,0.5,0.9...|\n",
            "|    0.0855457|      0.611111|      0.574731|             1.0|             1.0|        0.944444|        0.857143|           0.37931|              1.0|               0.0|          0.904762|             1.0|            1.0|             1.0|             1.0|             1.0|             1.0|                      1.0|                      1.0|                      1.0|                      1.0|                   1.0|                       1.0|                          1|                        0|[0.0855457,0.6111...|\n",
            "|     0.961652|      0.222222|      0.950695|             1.0|             1.0|             1.0|             1.0|               1.0|              1.0|               1.0|               1.0|             1.0|            1.0|             1.0|             1.0|             1.0|             1.0|                      1.0|                      1.0|                      1.0|                      1.0|                   1.0|                       1.0|                          0|                        0|[0.961652,0.22222...|\n",
            "|     0.858407|      0.555556|      0.681416|             1.0|             1.0|        0.944444|           0.875|           0.93287|              1.0|          0.958333|            0.5625|             1.0|            1.0|             1.0|             1.0|             1.0|             1.0|                      1.0|                      1.0|                      1.0|                      1.0|                   1.0|                       1.0|                          0|                        0|[0.858407,0.55555...|\n",
            "|     0.383481|      0.555556|      0.279107|             1.0|             1.0|        0.944444|           0.875|          0.892593|              1.0|          0.933333|               0.3|             1.0|            1.0|             1.0|             1.0|             1.0|             1.0|                      1.0|                      1.0|                      1.0|                      1.0|                   1.0|                       1.0|                          0|                        0|[0.383481,0.55555...|\n",
            "|     0.705015|      0.666667|      0.115044|             0.0|             0.0|        0.666667|             0.0|           0.12069|         0.753402|               0.0|          0.761905|             0.0|            0.0|             0.0|             0.0|             1.0|             1.0|                      1.0|                      1.0|                      1.0|                      1.0|                   1.0|                       1.0|                          0|                        0|[0.705015,0.66666...|\n",
            "|    0.0678466|      0.333333|       0.28481|             1.0|             1.0|        0.833333|            0.75|         0.0333333|         0.891071|          0.333333|          0.809524|             1.0|            1.0|             1.0|             1.0|           0.375|        0.583333|                 0.851613|                 0.840813|                      0.5|                 0.533923|              0.626667|                  0.599494|                          0|                        0|[0.0678466,0.3333...|\n",
            "|     0.772861|      0.111111|      0.744469|             1.0|             1.0|        0.833333|          0.8125|          0.887597|         0.873601|               0.0|          0.727273|             1.0|            1.0|             1.0|             1.0|             1.0|             1.0|                      1.0|                      1.0|                      1.0|                      1.0|                   1.0|                       1.0|                          0|                        0|[0.772861,0.11111...|\n",
            "+-------------+--------------+--------------+----------------+----------------+----------------+----------------+------------------+-----------------+------------------+------------------+----------------+---------------+----------------+----------------+----------------+----------------+-------------------------+-------------------------+-------------------------+-------------------------+----------------------+--------------------------+---------------------------+-------------------------+--------------------+\n",
            "only showing top 20 rows\n",
            "\n"
          ]
        }
      ]
    },
    {
      "cell_type": "code",
      "source": [
        "# Filter the data where `datesets_subject_main_match` is equal to one\n",
        "filtered_data_1 = data.filter(col(\"datesets_duplicates_match\") == 1)\n",
        "\n",
        "# Show the filtered data\n",
        "filtered_data_1.show()\n"
      ],
      "metadata": {
        "colab": {
          "base_uri": "https://localhost:8080/"
        },
        "id": "2F2QHpKFWpkb",
        "outputId": "14fdf75f-5a11-4a70-98d2-3c0f044429c0"
      },
      "execution_count": 12,
      "outputs": [
        {
          "output_type": "stream",
          "name": "stdout",
          "text": [
            "+-------------+--------------+--------------+----------------+----------------+----------------+----------------+------------------+-----------------+------------------+------------------+----------------+---------------+----------------+----------------+----------------+----------------+-------------------------+-------------------------+-------------------------+-------------------------+----------------------+--------------------------+---------------------------+-------------------------+--------------------+\n",
            "|num_instances|num_attributes|dimensionality|num_numeric_attr|pct_numeric_attr|num_nominal_attr|pct_nominal_attr|avg_nominal_values|sd_nominal_values|min_nominal_values|max_nominal_values|avg_numeric_mean|sd_numeric_mean|min_numeric_mean|max_numeric_mean|missing_attr_cnt|missing_attr_pct|missing_instances_max_cnt|missing_instances_max_pct|missing_instances_min_cnt|missing_instances_min_pct|missing_instances_mean|missing_instances_mean_pct|datesets_subject_main_match|datesets_duplicates_match|            features|\n",
            "+-------------+--------------+--------------+----------------+----------------+----------------+----------------+------------------+-----------------+------------------+------------------+----------------+---------------+----------------+----------------+----------------+----------------+-------------------------+-------------------------+-------------------------+-------------------------+----------------------+--------------------------+---------------------------+-------------------------+--------------------+\n",
            "|          0.0|           0.0|           0.0|             0.0|             0.0|             0.0|             0.0|               0.0|              0.0|               0.0|               0.0|       0.0119904|     0.00817033|        0.666667|             0.0|             0.0|             0.0|                      0.0|                      0.0|                      0.0|                      0.0|                   0.0|                       0.0|                          1|                        1|(23,[11,12,13],[0...|\n",
            "|          0.0|           0.0|           0.0|             0.0|             0.0|             0.0|             0.0|               0.0|              0.0|               0.0|               0.0|       0.0119904|     0.00817033|        0.666667|             0.0|             0.0|             0.0|                      0.0|                      0.0|                      0.0|                      0.0|                   0.0|                       0.0|                          1|                        1|(23,[11,12,13],[0...|\n",
            "|          0.0|           0.0|           0.0|             0.0|             0.0|             0.0|             0.0|               0.0|              0.0|               0.0|               0.0|       0.0024213|     0.00169685|             0.5|             0.0|             0.0|             0.0|                      0.0|                      0.0|                      0.0|                      0.0|                   0.0|                       0.0|                          1|                        1|(23,[11,12,13],[0...|\n",
            "|          0.0|           0.0|           0.0|             0.0|             0.0|             0.0|             0.0|               0.0|              0.0|               0.0|               0.0|             0.0|            0.0|             0.0|             0.0|             0.0|             0.0|                      0.0|                      0.0|                      0.0|                      0.0|                   0.0|                       0.0|                          1|                        1|          (23,[],[])|\n",
            "|          0.0|           0.0|           0.0|             0.0|             0.0|             0.0|             0.0|               0.0|              0.0|               0.0|               0.0|      0.00959229|     0.00648448|        0.333333|             0.0|             0.0|             0.0|                      0.0|                      0.0|                      0.0|                      0.0|                   0.0|                       0.0|                          1|                        1|(23,[11,12,13],[0...|\n",
            "|          0.0|           0.0|           0.0|             0.0|             0.0|             0.0|             0.0|          0.806452|              1.0|               0.0|          0.892857|             0.0|            0.0|             0.0|             0.0|             0.0|             0.0|                      0.0|                      0.0|                      0.0|                      0.0|                   0.0|                       0.0|                          1|                        1|(23,[7,8,10],[0.8...|\n",
            "|          0.0|           0.0|           0.0|             0.0|             0.0|             0.0|             0.0|               0.0|              0.0|               0.0|               0.0|        0.014354|      0.0097095|        0.666667|             0.0|             0.0|             0.0|                      0.0|                      0.0|                      0.0|                      0.0|                   0.0|                       0.0|                          1|                        1|(23,[11,12,13],[0...|\n",
            "|          0.0|           0.0|           0.0|             0.0|             0.0|             0.0|             0.0|               0.0|              0.0|               0.0|               0.0|      0.00239234|     0.00155186|             0.0|             0.0|             0.0|             0.0|                      0.0|                      0.0|                      0.0|                      0.0|                   0.0|                       0.0|                          1|                        1|(23,[11,12],[0.00...|\n",
            "|          0.0|           0.0|           0.0|             0.0|             0.0|             0.0|             0.0|               0.0|              0.0|               0.0|               0.0|      0.00239234|     0.00155186|             0.0|             0.0|             0.0|             0.0|                      0.0|                      0.0|                      0.0|                      0.0|                   0.0|                       0.0|                          1|                        1|(23,[11,12],[0.00...|\n",
            "|          0.0|           0.0|           0.0|             0.0|             0.0|             0.0|             0.0|               0.0|              0.0|               0.0|               0.0|       0.0119617|     0.00802627|        0.333333|             0.0|             0.0|             0.0|                      0.0|                      0.0|                      0.0|                      0.0|                   0.0|                       0.0|                          1|                        1|(23,[11,12,13],[0...|\n",
            "|          0.0|           0.0|           0.0|             0.0|             0.0|             0.0|             0.0|               0.0|              0.0|               0.0|               0.0|      0.00717701|     0.00473652|             0.0|             0.0|             0.0|             0.0|                      0.0|                      0.0|                      0.0|                      0.0|                   0.0|                       0.0|                          1|                        1|(23,[11,12],[0.00...|\n",
            "|     0.927894|     0.0263158|      0.929792|        0.027027|      7.30512E-4|             0.0|       0.0263158|               0.0|              0.0|               0.0|               0.0|        0.678764|       0.683206|             0.0|        0.687163|             0.0|             0.0|                      0.0|                      0.0|                      0.0|                      0.0|                   0.0|                       0.0|                          1|                        1|(23,[0,1,2,3,4,6,...|\n",
            "|          0.0|           0.0|           0.0|             0.0|             0.0|             0.0|             0.0|               0.0|              0.0|               0.0|               0.0|             0.0|            0.0|             0.0|             0.0|             0.0|             0.0|                      0.0|                      0.0|                      0.0|                      0.0|                   0.0|                       0.0|                          1|                        1|          (23,[],[])|\n",
            "|     0.598291|           0.0|      0.598291|             0.0|             0.0|             0.0|             0.0|               0.4|              0.0|               0.4|               0.4|             1.0|       0.492861|        0.922509|        0.831325|             0.0|             0.0|                      0.0|                      0.0|                      0.0|                      0.0|                   0.0|                       0.0|                          1|                        1|(23,[0,2,7,9,10,1...|\n",
            "|          0.0|           0.0|           0.0|             0.0|             0.0|             0.0|             0.0|               0.2|              0.0|               0.2|               0.2|             0.0|            0.0|             0.0|             0.0|             0.0|             0.0|                      0.0|                      0.0|                      0.0|                      0.0|                   0.0|                       0.0|                          1|                        1|(23,[7,9,10],[0.2...|\n",
            "|     0.713415|           0.0|      0.713415|             0.0|             0.0|             0.0|             0.0|               0.0|              0.0|               0.0|               0.0|             1.0|       0.134328|        0.876471|        0.915663|             0.0|             0.0|                      0.0|                      0.0|                      0.0|                      0.0|                   0.0|                       0.0|                          1|                        1|(23,[0,2,11,12,13...|\n",
            "|    0.0622578|           0.0|     0.0622579|             0.0|             0.0|             0.0|             0.0|          0.680244|          0.82386|               0.0|          0.864218|             0.0|            0.0|             0.0|             0.0|       0.0555556|       0.0555555|                 0.153282|                 0.205997|                0.0222222|                0.0830966|             0.0760644|                 0.0147232|                          1|                        1|(23,[0,2,7,8,10,1...|\n",
            "|    0.0166667|     0.0588235|     0.0745098|             0.0|       0.0588235|             1.0|             1.0|               1.0|              0.0|               1.0|               1.0|        0.996403|       0.997292|             0.0|        0.997305|             0.0|             0.0|                      0.0|                      0.0|                      0.0|                      0.0|                   0.0|                       0.0|                          1|                        1|(23,[0,1,2,4,5,6,...|\n",
            "|     0.720344|     0.0263158|      0.727703|        0.027027|      7.30512E-4|             0.0|       0.0263158|               0.0|              0.0|               0.0|               0.0|        0.919734|       0.925814|             0.0|        0.926687|             0.0|             0.0|                      0.0|                      0.0|                      0.0|                      0.0|                   0.0|                       0.0|                          1|                        1|(23,[0,1,2,3,4,6,...|\n",
            "|     0.742163|           0.0|      0.742163|             0.0|             0.0|             0.0|             0.0|               0.0|              0.0|               0.0|               0.0|        0.750134|       0.765823|             0.0|         0.76565|             0.0|             0.0|                      0.0|                      0.0|                      0.0|                      0.0|                   0.0|                       0.0|                          1|                        1|(23,[0,2,11,12,14...|\n",
            "+-------------+--------------+--------------+----------------+----------------+----------------+----------------+------------------+-----------------+------------------+------------------+----------------+---------------+----------------+----------------+----------------+----------------+-------------------------+-------------------------+-------------------------+-------------------------+----------------------+--------------------------+---------------------------+-------------------------+--------------------+\n",
            "only showing top 20 rows\n",
            "\n"
          ]
        }
      ]
    },
    {
      "cell_type": "code",
      "source": [
        "#Standard scaling the filtered datasets\n",
        "scale=StandardScaler(inputCol='features',outputCol='standardized')\n",
        "data_scale=scale.fit(filtered_data_0)\n",
        "data_scale_output_0=data_scale.transform(filtered_data_0)\n",
        "data_scale_output_0.show(2)"
      ],
      "metadata": {
        "id": "LAFw05YsC6Io",
        "colab": {
          "base_uri": "https://localhost:8080/"
        },
        "outputId": "291b52ea-e426-4a28-b9ec-130ae877ccfd"
      },
      "execution_count": 13,
      "outputs": [
        {
          "output_type": "stream",
          "name": "stdout",
          "text": [
            "+-------------+--------------+--------------+----------------+----------------+----------------+----------------+------------------+-----------------+------------------+------------------+----------------+---------------+----------------+----------------+----------------+----------------+-------------------------+-------------------------+-------------------------+-------------------------+----------------------+--------------------------+---------------------------+-------------------------+--------------------+--------------------+\n",
            "|num_instances|num_attributes|dimensionality|num_numeric_attr|pct_numeric_attr|num_nominal_attr|pct_nominal_attr|avg_nominal_values|sd_nominal_values|min_nominal_values|max_nominal_values|avg_numeric_mean|sd_numeric_mean|min_numeric_mean|max_numeric_mean|missing_attr_cnt|missing_attr_pct|missing_instances_max_cnt|missing_instances_max_pct|missing_instances_min_cnt|missing_instances_min_pct|missing_instances_mean|missing_instances_mean_pct|datesets_subject_main_match|datesets_duplicates_match|            features|        standardized|\n",
            "+-------------+--------------+--------------+----------------+----------------+----------------+----------------+------------------+-----------------+------------------+------------------+----------------+---------------+----------------+----------------+----------------+----------------+-------------------------+-------------------------+-------------------------+-------------------------+----------------------+--------------------------+---------------------------+-------------------------+--------------------+--------------------+\n",
            "|     0.747015|           0.0|      0.747015|             1.0|             1.0|        0.833333|        0.833333|          0.992834|         0.993118|          0.333333|          0.984317|             1.0|            1.0|             0.0|             1.0|             0.8|             0.8|                 0.870968|                 0.967357|                     0.95|                  0.80236|              0.911111|                  0.977512|                          0|                        0|[0.747015,0.0,0.7...|[2.86206619500748...|\n",
            "|     0.996786|      0.976654|      0.862327|             1.0|             1.0|        0.666667|        0.992218|          0.870246|         0.838809|               0.0|          0.671875|             1.0|            1.0|             1.0|             1.0|        0.990476|        0.592063|                  0.99177|                  0.60947|                      0.0|                 0.996786|              0.987738|                   0.73788|                          0|                        0|[0.996786,0.97665...|[3.81902306413757...|\n",
            "+-------------+--------------+--------------+----------------+----------------+----------------+----------------+------------------+-----------------+------------------+------------------+----------------+---------------+----------------+----------------+----------------+----------------+-------------------------+-------------------------+-------------------------+-------------------------+----------------------+--------------------------+---------------------------+-------------------------+--------------------+--------------------+\n",
            "only showing top 2 rows\n",
            "\n"
          ]
        }
      ]
    },
    {
      "cell_type": "code",
      "source": [
        "#Standard scaling the filtered datasets\n",
        "scale=StandardScaler(inputCol='features',outputCol='standardized')\n",
        "data_scale=scale.fit(filtered_data_1)\n",
        "data_scale_output_1=data_scale.transform(filtered_data_1)\n",
        "data_scale_output_1.show(2)"
      ],
      "metadata": {
        "colab": {
          "base_uri": "https://localhost:8080/"
        },
        "id": "Pk0lLDtrcpx8",
        "outputId": "669d467c-b2cb-441c-de65-146b5fca39bf"
      },
      "execution_count": 14,
      "outputs": [
        {
          "output_type": "stream",
          "name": "stdout",
          "text": [
            "+-------------+--------------+--------------+----------------+----------------+----------------+----------------+------------------+-----------------+------------------+------------------+----------------+---------------+----------------+----------------+----------------+----------------+-------------------------+-------------------------+-------------------------+-------------------------+----------------------+--------------------------+---------------------------+-------------------------+--------------------+--------------------+\n",
            "|num_instances|num_attributes|dimensionality|num_numeric_attr|pct_numeric_attr|num_nominal_attr|pct_nominal_attr|avg_nominal_values|sd_nominal_values|min_nominal_values|max_nominal_values|avg_numeric_mean|sd_numeric_mean|min_numeric_mean|max_numeric_mean|missing_attr_cnt|missing_attr_pct|missing_instances_max_cnt|missing_instances_max_pct|missing_instances_min_cnt|missing_instances_min_pct|missing_instances_mean|missing_instances_mean_pct|datesets_subject_main_match|datesets_duplicates_match|            features|        standardized|\n",
            "+-------------+--------------+--------------+----------------+----------------+----------------+----------------+------------------+-----------------+------------------+------------------+----------------+---------------+----------------+----------------+----------------+----------------+-------------------------+-------------------------+-------------------------+-------------------------+----------------------+--------------------------+---------------------------+-------------------------+--------------------+--------------------+\n",
            "|          0.0|           0.0|           0.0|             0.0|             0.0|             0.0|             0.0|               0.0|              0.0|               0.0|               0.0|       0.0119904|     0.00817033|        0.666667|             0.0|             0.0|             0.0|                      0.0|                      0.0|                      0.0|                      0.0|                   0.0|                       0.0|                          1|                        1|(23,[11,12,13],[0...|(23,[11,12,13],[0...|\n",
            "|          0.0|           0.0|           0.0|             0.0|             0.0|             0.0|             0.0|               0.0|              0.0|               0.0|               0.0|       0.0119904|     0.00817033|        0.666667|             0.0|             0.0|             0.0|                      0.0|                      0.0|                      0.0|                      0.0|                   0.0|                       0.0|                          1|                        1|(23,[11,12,13],[0...|(23,[11,12,13],[0...|\n",
            "+-------------+--------------+--------------+----------------+----------------+----------------+----------------+------------------+-----------------+------------------+------------------+----------------+---------------+----------------+----------------+----------------+----------------+-------------------------+-------------------------+-------------------------+-------------------------+----------------------+--------------------------+---------------------------+-------------------------+--------------------+--------------------+\n",
            "only showing top 2 rows\n",
            "\n"
          ]
        }
      ]
    },
    {
      "cell_type": "markdown",
      "source": [
        "## Clustering Dataset Using Kmeans\n",
        "Choice of K based on Elbow Method"
      ],
      "metadata": {
        "id": "XIDZohY8Ysb5"
      }
    },
    {
      "cell_type": "code",
      "source": [
        "# Create an empty list to store the SSE (Sum of Squared Errors) values\n",
        "sse = []\n",
        "\n",
        "# Define the range of cluster numbers to evaluate\n",
        "k_values = range(2, 11)  # Range from 2 to 10 clusters\n",
        "\n",
        "# Iterate over each cluster number\n",
        "for k in k_values:\n",
        "    # Create a KMeans instance with the current cluster number\n",
        "    kmeans = KMeans(featuresCol='standardized', k=k)\n",
        "    \n",
        "    # Fit the KMeans model to the data\n",
        "    model = kmeans.fit(data_scale_output_0)\n",
        "    \n",
        "    # Make predictions on the data\n",
        "    predictions = model.transform(data_scale_output_0)\n",
        "    \n",
        "    # Evaluate the clustering performance using the SSE metric\n",
        "    evaluator = ClusteringEvaluator()\n",
        "    sse_value = evaluator.evaluate(predictions)\n",
        "    sse.append(sse_value)\n",
        "\n",
        "# Plot the SSE values against the number of clusters\n",
        "plt.plot(k_values, sse, 'bo-')\n",
        "plt.xlabel('Number of Clusters (k)')\n",
        "plt.ylabel('Sum of Squared Errors (SSE)')\n",
        "plt.title('Elbow Method')\n",
        "plt.show()\n",
        "\n",
        "\n"
      ],
      "metadata": {
        "colab": {
          "base_uri": "https://localhost:8080/",
          "height": 472
        },
        "id": "GOfaSJBThBew",
        "outputId": "05f6eccd-1c43-46d7-f2d8-4f695ee90c84"
      },
      "execution_count": 15,
      "outputs": [
        {
          "output_type": "display_data",
          "data": {
            "text/plain": [
              "<Figure size 640x480 with 1 Axes>"
            ],
            "image/png": "[encoded data removed]"
          },
          "metadata": {}
        }
      ]
    },
    {
      "cell_type": "markdown",
      "source": [
        "## Clustering Dataset Using Kmeans\n",
        "Choice of K based on Silhouette Score Cost Function\n"
      ],
      "metadata": {
        "id": "8LcOTw2yYy_a"
      }
    },
    {
      "cell_type": "code",
      "source": [
        "silhouette_score=[]\n",
        "evaluator = ClusteringEvaluator(predictionCol='prediction', featuresCol='standardized', \\\n",
        "                                metricName='silhouette', distanceMeasure='squaredEuclidean')\n",
        "for i in range(2,10):\n",
        "    \n",
        "    KMeans_algo=KMeans(featuresCol='standardized', k=i)\n",
        "    \n",
        "    KMeans_fit=KMeans_algo.fit(data_scale_output_0)\n",
        "    \n",
        "    output=KMeans_fit.transform(data_scale_output_0)\n",
        "     \n",
        "    score=evaluator.evaluate(output)\n",
        "    \n",
        "    silhouette_score.append(score)\n",
        "    \n",
        "    print(\"Silhouette Score:\",score)\n",
        "\n",
        "\n",
        "    "
      ],
      "metadata": {
        "id": "QKyviiSsAXWS",
        "colab": {
          "base_uri": "https://localhost:8080/"
        },
        "outputId": "71208402-a8cb-41a6-8a42-3430467e4e6e"
      },
      "execution_count": 16,
      "outputs": [
        {
          "output_type": "stream",
          "name": "stdout",
          "text": [
            "Silhouette Score: 0.5310447841518048\n",
            "Silhouette Score: 0.38648335536983186\n",
            "Silhouette Score: 0.34374368332863586\n",
            "Silhouette Score: 0.3391181773236405\n",
            "Silhouette Score: 0.2600473536640172\n",
            "Silhouette Score: 0.22658145233998922\n",
            "Silhouette Score: 0.23460876536881414\n",
            "Silhouette Score: 0.2690965587790463\n"
          ]
        }
      ]
    },
    {
      "cell_type": "code",
      "execution_count": 17,
      "metadata": {
        "id": "Xn33j2GN-CXm",
        "colab": {
          "base_uri": "https://localhost:8080/",
          "height": 559
        },
        "outputId": "17d43c56-3d0e-473c-f205-04402388cdaf"
      },
      "outputs": [
        {
          "output_type": "execute_result",
          "data": {
            "text/plain": [
              "Text(0, 0.5, 'cost')"
            ]
          },
          "metadata": {},
          "execution_count": 17
        },
        {
          "output_type": "display_data",
          "data": {
            "text/plain": [
              "<Figure size 800x600 with 1 Axes>"
            ],
            "image/png": "[encoded data removed]"
          },
          "metadata": {}
        }
      ],
      "source": [
        "#Visualizing the silhouette scores in a plot\n",
        "import matplotlib.pyplot as plt\n",
        "fig, ax = plt.subplots(1,1, figsize =(8,6))\n",
        "ax.plot(range(2,10),silhouette_score)\n",
        "ax.set_xlabel(\"k\")\n",
        "ax.set_ylabel(\"cost\")"
      ]
    },
    {
      "cell_type": "code",
      "source": [
        "# Perform cluster sampling from the different clusters\n",
        "sampling_ratio = 0.018  # Define the sampling ratio, e.g., 80% of the data\n",
        "seed = 42  # Set a seed for reproducibility\n",
        "\n",
        "# Get the cluster labels from the output DataFrame\n",
        "cluster_labels = output.select(\"prediction\").distinct().rdd.flatMap(lambda x: x).collect()\n",
        "\n",
        "# Perform sampling from each cluster\n",
        "sampled_data = None\n",
        "\n",
        "for label in cluster_labels:\n",
        "    # Filter the data based on the cluster label\n",
        "    cluster_data = output.filter(col(\"prediction\") == label)\n",
        "    \n",
        "    # Perform cluster sampling on the cluster data\n",
        "    cluster_sample = cluster_data.sample(False, sampling_ratio, seed)\n",
        "    \n",
        "    # Union the sampled data with the previous clusters' sampled data\n",
        "    if sampled_data is None:\n",
        "        sampled_data = cluster_sample\n",
        "    else:\n",
        "        sampled_data = sampled_data.union(cluster_sample)\n",
        "\n",
        "# Show the sampled data\n",
        "sampled_data.show()\n"
      ],
      "metadata": {
        "id": "fiwKhDA7GvAC",
        "colab": {
          "base_uri": "https://localhost:8080/"
        },
        "outputId": "d93091ae-fb05-4c26-fe5a-136f9316e8e4"
      },
      "execution_count": 31,
      "outputs": [
        {
          "output_type": "stream",
          "name": "stdout",
          "text": [
            "+-------------+--------------+--------------+----------------+----------------+----------------+----------------+------------------+-----------------+------------------+------------------+----------------+---------------+----------------+----------------+----------------+----------------+-------------------------+-------------------------+-------------------------+-------------------------+----------------------+--------------------------+---------------------------+-------------------------+--------------------+--------------------+----------+\n",
            "|num_instances|num_attributes|dimensionality|num_numeric_attr|pct_numeric_attr|num_nominal_attr|pct_nominal_attr|avg_nominal_values|sd_nominal_values|min_nominal_values|max_nominal_values|avg_numeric_mean|sd_numeric_mean|min_numeric_mean|max_numeric_mean|missing_attr_cnt|missing_attr_pct|missing_instances_max_cnt|missing_instances_max_pct|missing_instances_min_cnt|missing_instances_min_pct|missing_instances_mean|missing_instances_mean_pct|datesets_subject_main_match|datesets_duplicates_match|            features|        standardized|prediction|\n",
            "+-------------+--------------+--------------+----------------+----------------+----------------+----------------+------------------+-----------------+------------------+------------------+----------------+---------------+----------------+----------------+----------------+----------------+-------------------------+-------------------------+-------------------------+-------------------------+----------------------+--------------------------+---------------------------+-------------------------+--------------------+--------------------+----------+\n",
            "|     0.966729|      0.953307|      0.287456|        0.957031|       0.0797526|             0.0|        0.953307|          0.811321|              0.0|          0.811321|          0.811321|         0.99519|       0.981514|             0.0|        0.973684|             0.0|             0.0|                      0.0|                      0.0|                      0.0|                      0.0|                   0.0|                       0.0|                          0|                        0|(23,[0,1,2,3,4,6,...|(23,[0,1,2,3,4,6,...|         1|\n",
            "|     0.999953|      0.272727|      0.999936|             0.3|          0.0375|             0.0|        0.272727|          0.791667|              0.0|          0.791667|          0.791667|        0.931006|       0.976189|             0.5|         0.97561|             0.0|             0.0|                      0.0|                      0.0|                      0.0|                      0.0|                   0.0|                       0.0|                          0|                        0|(23,[0,1,2,3,4,6,...|(23,[0,1,2,3,4,6,...|         1|\n",
            "|     0.965015|         0.375|      0.978134|        0.428571|       0.0857143|             0.0|           0.375|          0.958333|              0.0|          0.958333|          0.958333|        0.992813|       0.988047|             1.0|        0.993031|             0.0|             0.0|                      0.0|                      0.0|                      0.0|                      0.0|                   0.0|                       0.0|                          0|                        0|(23,[0,1,2,3,4,6,...|(23,[0,1,2,3,4,6,...|         1|\n",
            "|     0.457326|      0.934164|      0.878682|        0.935829|       0.0252927|             0.0|        0.934164|          0.666667|              0.0|          0.666667|          0.666667|             1.0|       0.998676|             1.0|          0.9996|             0.0|             0.0|                      0.0|                      0.0|                      0.0|                      0.0|                   0.0|                       0.0|                          0|                        0|(23,[0,1,2,3,4,6,...|(23,[0,1,2,3,4,6,...|         1|\n",
            "|     0.970657|      0.593407|      0.988069|             0.6|       0.0162163|             0.0|        0.593407|               0.6|              0.0|               0.6|               0.6|             1.0|       0.906789|             1.0|        0.997198|             0.0|             0.0|                      0.0|                      0.0|                      0.0|                      0.0|                   0.0|                       0.0|                          0|                        0|(23,[0,1,2,3,4,6,...|(23,[0,1,2,3,4,6,...|         1|\n",
            "|     0.883375|      0.582418|      0.951299|        0.588889|       0.0154971|             0.0|        0.582418|               0.6|              0.0|               0.6|               0.6|        0.965947|       0.974438|             1.0|        0.989605|             0.0|             0.0|                      0.0|                      0.0|                      0.0|                      0.0|                   0.0|                       0.0|                          0|                        0|(23,[0,1,2,3,4,6,...|(23,[0,1,2,3,4,6,...|         1|\n",
            "|     0.971028|      0.705426|      0.901648|        0.710938|       0.0187089|             0.0|        0.705426|          0.666667|              0.0|          0.666667|          0.666667|        0.909763|       0.862463|             1.0|        0.860743|             0.0|             0.0|                      0.0|                      0.0|                      0.0|                      0.0|                   0.0|                       0.0|                          0|                        0|(23,[0,1,2,3,4,6,...|(23,[0,1,2,3,4,6,...|         1|\n",
            "|     0.932182|      0.736842|       0.74229|        0.756757|       0.0756757|             0.0|        0.736842|          0.666667|              0.0|          0.666667|          0.666667|        0.948859|       0.999509|             1.0|        0.998444|             0.0|             0.0|                      0.0|                      0.0|                      0.0|                      0.0|                   0.0|                       0.0|                          0|                        0|(23,[0,1,2,3,4,6,...|(23,[0,1,2,3,4,6,...|         1|\n",
            "|     0.916056|         0.925|      0.993704|        0.948718|        0.316239|             0.0|           0.925|               0.5|              0.0|               0.5|               0.5|        0.997472|            1.0|             1.0|        0.999927|             0.0|             0.0|                      0.0|                      0.0|                      0.0|                      0.0|                   0.0|                       0.0|                          0|                        0|(23,[0,1,2,3,4,6,...|(23,[0,1,2,3,4,6,...|         1|\n",
            "|     0.922741|           0.5|       0.96137|        0.555556|        0.111111|             0.0|             0.5|          0.666667|              0.0|          0.666667|          0.666667|        0.990302|       0.587832|             1.0|        0.962264|             0.0|             0.0|                      0.0|                      0.0|                      0.0|                      0.0|                   0.0|                       0.0|                          0|                        0|(23,[0,1,2,3,4,6,...|(23,[0,1,2,3,4,6,...|         1|\n",
            "|     0.423299|      0.901911|      0.829913|        0.903061|        0.011728|             0.0|        0.901911|               0.8|              0.0|               0.8|               0.8|             1.0|            1.0|             0.0|             1.0|             0.0|             0.0|                      0.0|                      0.0|                      0.0|                      0.0|                   0.0|                       0.0|                          1|                        0|(23,[0,1,2,3,4,6,...|(23,[0,1,2,3,4,6,...|         1|\n",
            "|       0.0295|      0.558442|       0.54502|        0.565789|       0.0166409|             0.0|        0.558442|               0.8|              0.0|               0.8|               0.8|             1.0|            1.0|             0.0|             1.0|             0.0|             0.0|                      0.0|                      0.0|                      0.0|                      0.0|                   0.0|                       0.0|                          0|                        0|(23,[0,1,2,3,4,6,...|(23,[0,1,2,3,4,6,...|         1|\n",
            "|       0.9765|      0.923077|      0.998192|        0.933333|        0.133333|             0.0|        0.923077|               0.5|              0.0|               0.5|               0.5|        0.991851|       0.985522|             1.0|        0.986515|             0.0|             0.0|                      0.0|                      0.0|                      0.0|                      0.0|                   0.0|                       0.0|                          0|                        0|(23,[0,1,2,3,4,6,...|(23,[0,1,2,3,4,6,...|         1|\n",
            "|     0.960388|      0.181818|       0.96759|             0.3|        0.144444|             0.0|        0.181818|          0.833333|              0.0|          0.833333|          0.833333|        0.999418|       0.999627|             1.0|        0.999597|             0.0|             0.0|                      0.0|                      0.0|                      0.0|                      0.0|                   0.0|                       0.0|                          0|                        0|(23,[0,1,2,3,4,6,...|(23,[0,1,2,3,4,6,...|         1|\n",
            "|     0.309677|      0.999845|      0.999893|        0.993994|        0.974159|             0.0|        0.999845|          0.714286|              0.0|          0.714286|          0.714286|        0.954453|        0.96809|        0.944444|        0.949153|             0.0|             0.0|                      0.0|                      0.0|                      0.0|                      0.0|                   0.0|                       0.0|                          0|                        0|(23,[0,1,2,3,4,6,...|(23,[0,1,2,3,4,6,...|         1|\n",
            "|     0.970491|         0.925|      0.997787|        0.948718|        0.316239|             0.0|           0.925|               0.5|              0.0|               0.5|               0.5|        0.999345|            1.0|             1.0|        0.999982|             0.0|             0.0|                      0.0|                      0.0|                      0.0|                      0.0|                   0.0|                       0.0|                          0|                        0|(23,[0,1,2,3,4,6,...|(23,[0,1,2,3,4,6,...|         1|\n",
            "|     0.960241|      0.988673|      0.715111|        0.990276|        0.141468|             0.0|        0.988673|          0.884615|              0.0|          0.884615|          0.884615|             1.0|       0.983328|             1.0|        0.991525|             0.0|             0.0|                      0.0|                      0.0|                      0.0|                      0.0|                   0.0|                       0.0|                          0|                        0|(23,[0,1,2,3,4,6,...|(23,[0,1,2,3,4,6,...|         1|\n",
            "|     0.751058|      0.944984|         0.779|        0.946515|       0.0278387|             0.0|        0.944984|          0.923077|              0.0|          0.923077|          0.923077|             1.0|       0.999999|             1.0|        0.999999|             0.0|             0.0|                      0.0|                      0.0|                      0.0|                      0.0|                   0.0|                       0.0|                          0|                        0|(23,[0,1,2,3,4,6,...|(23,[0,1,2,3,4,6,...|         1|\n",
            "|     0.985877|      0.772727|       0.99679|        0.809524|        0.161905|             0.0|        0.772727|          0.909091|              0.0|          0.909091|          0.909091|        0.829938|       0.928463|             1.0|        0.964517|             0.0|             0.0|                      0.0|                      0.0|                      0.0|                      0.0|                   0.0|                       0.0|                          0|                        0|(23,[0,1,2,3,4,6,...|(23,[0,1,2,3,4,6,...|         1|\n",
            "|     0.922238|      0.758242|        0.9812|        0.766667|       0.0348485|             0.0|        0.758242|               0.6|              0.0|               0.6|               0.6|             1.0|       0.965644|             1.0|        0.998665|             0.0|             0.0|                      0.0|                      0.0|                      0.0|                      0.0|                   0.0|                       0.0|                          0|                        0|(23,[0,1,2,3,4,6,...|(23,[0,1,2,3,4,6,...|         1|\n",
            "+-------------+--------------+--------------+----------------+----------------+----------------+----------------+------------------+-----------------+------------------+------------------+----------------+---------------+----------------+----------------+----------------+----------------+-------------------------+-------------------------+-------------------------+-------------------------+----------------------+--------------------------+---------------------------+-------------------------+--------------------+--------------------+----------+\n",
            "only showing top 20 rows\n",
            "\n"
          ]
        }
      ]
    },
    {
      "cell_type": "code",
      "source": [
        "rows = sampled_data.count()\n",
        "print(f\"DataFrame Rows count : {rows}\") \n"
      ],
      "metadata": {
        "id": "E1CRsWCcPej7",
        "colab": {
          "base_uri": "https://localhost:8080/"
        },
        "outputId": "d2dd78dc-8c38-4391-ff92-f0b51b157bb8"
      },
      "execution_count": 32,
      "outputs": [
        {
          "output_type": "stream",
          "name": "stdout",
          "text": [
            "DataFrame Rows count : 431\n"
          ]
        }
      ]
    },
    {
      "cell_type": "code",
      "source": [
        "filtered_data_1.dtypes"
      ],
      "metadata": {
        "id": "OBJtj03Hl-AZ",
        "colab": {
          "base_uri": "https://localhost:8080/"
        },
        "outputId": "befbbded-934a-432e-e745-4907d5bfb7b2"
      },
      "execution_count": 33,
      "outputs": [
        {
          "output_type": "execute_result",
          "data": {
            "text/plain": [
              "[('num_instances', 'double'),\n",
              " ('num_attributes', 'double'),\n",
              " ('dimensionality', 'double'),\n",
              " ('num_numeric_attr', 'double'),\n",
              " ('pct_numeric_attr', 'double'),\n",
              " ('num_nominal_attr', 'double'),\n",
              " ('pct_nominal_attr', 'double'),\n",
              " ('avg_nominal_values', 'double'),\n",
              " ('sd_nominal_values', 'double'),\n",
              " ('min_nominal_values', 'double'),\n",
              " ('max_nominal_values', 'double'),\n",
              " ('avg_numeric_mean', 'double'),\n",
              " ('sd_numeric_mean', 'double'),\n",
              " ('min_numeric_mean', 'double'),\n",
              " ('max_numeric_mean', 'double'),\n",
              " ('missing_attr_cnt', 'double'),\n",
              " ('missing_attr_pct', 'double'),\n",
              " ('missing_instances_max_cnt', 'double'),\n",
              " ('missing_instances_max_pct', 'double'),\n",
              " ('missing_instances_min_cnt', 'double'),\n",
              " ('missing_instances_min_pct', 'double'),\n",
              " ('missing_instances_mean', 'double'),\n",
              " ('missing_instances_mean_pct', 'double'),\n",
              " ('datesets_subject_main_match', 'int'),\n",
              " ('datesets_duplicates_match', 'int'),\n",
              " ('features', 'vector')]"
            ]
          },
          "metadata": {},
          "execution_count": 33
        }
      ]
    },
    {
      "cell_type": "code",
      "source": [
        "sampled_data.dtypes "
      ],
      "metadata": {
        "id": "Qi6opUlAlpWX",
        "colab": {
          "base_uri": "https://localhost:8080/"
        },
        "outputId": "16005792-5200-42c1-e8b7-605079a3d59b"
      },
      "execution_count": 34,
      "outputs": [
        {
          "output_type": "execute_result",
          "data": {
            "text/plain": [
              "[('num_instances', 'double'),\n",
              " ('num_attributes', 'double'),\n",
              " ('dimensionality', 'double'),\n",
              " ('num_numeric_attr', 'double'),\n",
              " ('pct_numeric_attr', 'double'),\n",
              " ('num_nominal_attr', 'double'),\n",
              " ('pct_nominal_attr', 'double'),\n",
              " ('avg_nominal_values', 'double'),\n",
              " ('sd_nominal_values', 'double'),\n",
              " ('min_nominal_values', 'double'),\n",
              " ('max_nominal_values', 'double'),\n",
              " ('avg_numeric_mean', 'double'),\n",
              " ('sd_numeric_mean', 'double'),\n",
              " ('min_numeric_mean', 'double'),\n",
              " ('max_numeric_mean', 'double'),\n",
              " ('missing_attr_cnt', 'double'),\n",
              " ('missing_attr_pct', 'double'),\n",
              " ('missing_instances_max_cnt', 'double'),\n",
              " ('missing_instances_max_pct', 'double'),\n",
              " ('missing_instances_min_cnt', 'double'),\n",
              " ('missing_instances_min_pct', 'double'),\n",
              " ('missing_instances_mean', 'double'),\n",
              " ('missing_instances_mean_pct', 'double'),\n",
              " ('datesets_subject_main_match', 'int'),\n",
              " ('datesets_duplicates_match', 'int'),\n",
              " ('features', 'vector'),\n",
              " ('standardized', 'vector'),\n",
              " ('prediction', 'int')]"
            ]
          },
          "metadata": {},
          "execution_count": 34
        }
      ]
    },
    {
      "cell_type": "code",
      "source": [
        "sampled_data=sampled_data.drop(\"standardized\",\"prediction\")\n",
        "sampled_data\n"
      ],
      "metadata": {
        "id": "MAj_DtBEmIHY",
        "colab": {
          "base_uri": "https://localhost:8080/",
          "height": 545
        },
        "outputId": "478c7dc1-4c84-450f-a2d0-3774ab467c65"
      },
      "execution_count": 35,
      "outputs": [
        {
          "output_type": "execute_result",
          "data": {
            "text/plain": [
              "+-------------+--------------+--------------+----------------+----------------+----------------+----------------+------------------+-----------------+------------------+------------------+----------------+---------------+----------------+----------------+----------------+----------------+-------------------------+-------------------------+-------------------------+-------------------------+----------------------+--------------------------+---------------------------+-------------------------+--------------------+\n",
              "|num_instances|num_attributes|dimensionality|num_numeric_attr|pct_numeric_attr|num_nominal_attr|pct_nominal_attr|avg_nominal_values|sd_nominal_values|min_nominal_values|max_nominal_values|avg_numeric_mean|sd_numeric_mean|min_numeric_mean|max_numeric_mean|missing_attr_cnt|missing_attr_pct|missing_instances_max_cnt|missing_instances_max_pct|missing_instances_min_cnt|missing_instances_min_pct|missing_instances_mean|missing_instances_mean_pct|datesets_subject_main_match|datesets_duplicates_match|            features|\n",
              "+-------------+--------------+--------------+----------------+----------------+----------------+----------------+------------------+-----------------+------------------+------------------+----------------+---------------+----------------+----------------+----------------+----------------+-------------------------+-------------------------+-------------------------+-------------------------+----------------------+--------------------------+---------------------------+-------------------------+--------------------+\n",
              "|     0.966729|      0.953307|      0.287456|        0.957031|       0.0797526|             0.0|        0.953307|          0.811321|              0.0|          0.811321|          0.811321|         0.99519|       0.981514|             0.0|        0.973684|             0.0|             0.0|                      0.0|                      0.0|                      0.0|                      0.0|                   0.0|                       0.0|                          0|                        0|(23,[0,1,2,3,4,6,...|\n",
              "|     0.999953|      0.272727|      0.999936|             0.3|          0.0375|             0.0|        0.272727|          0.791667|              0.0|          0.791667|          0.791667|        0.931006|       0.976189|             0.5|         0.97561|             0.0|             0.0|                      0.0|                      0.0|                      0.0|                      0.0|                   0.0|                       0.0|                          0|                        0|(23,[0,1,2,3,4,6,...|\n",
              "|     0.965015|         0.375|      0.978134|        0.428571|       0.0857143|             0.0|           0.375|          0.958333|              0.0|          0.958333|          0.958333|        0.992813|       0.988047|             1.0|        0.993031|             0.0|             0.0|                      0.0|                      0.0|                      0.0|                      0.0|                   0.0|                       0.0|                          0|                        0|(23,[0,1,2,3,4,6,...|\n",
              "|     0.457326|      0.934164|      0.878682|        0.935829|       0.0252927|             0.0|        0.934164|          0.666667|              0.0|          0.666667|          0.666667|             1.0|       0.998676|             1.0|          0.9996|             0.0|             0.0|                      0.0|                      0.0|                      0.0|                      0.0|                   0.0|                       0.0|                          0|                        0|(23,[0,1,2,3,4,6,...|\n",
              "|     0.970657|      0.593407|      0.988069|             0.6|       0.0162163|             0.0|        0.593407|               0.6|              0.0|               0.6|               0.6|             1.0|       0.906789|             1.0|        0.997198|             0.0|             0.0|                      0.0|                      0.0|                      0.0|                      0.0|                   0.0|                       0.0|                          0|                        0|(23,[0,1,2,3,4,6,...|\n",
              "|     0.883375|      0.582418|      0.951299|        0.588889|       0.0154971|             0.0|        0.582418|               0.6|              0.0|               0.6|               0.6|        0.965947|       0.974438|             1.0|        0.989605|             0.0|             0.0|                      0.0|                      0.0|                      0.0|                      0.0|                   0.0|                       0.0|                          0|                        0|(23,[0,1,2,3,4,6,...|\n",
              "|     0.971028|      0.705426|      0.901648|        0.710938|       0.0187089|             0.0|        0.705426|          0.666667|              0.0|          0.666667|          0.666667|        0.909763|       0.862463|             1.0|        0.860743|             0.0|             0.0|                      0.0|                      0.0|                      0.0|                      0.0|                   0.0|                       0.0|                          0|                        0|(23,[0,1,2,3,4,6,...|\n",
              "|     0.932182|      0.736842|       0.74229|        0.756757|       0.0756757|             0.0|        0.736842|          0.666667|              0.0|          0.666667|          0.666667|        0.948859|       0.999509|             1.0|        0.998444|             0.0|             0.0|                      0.0|                      0.0|                      0.0|                      0.0|                   0.0|                       0.0|                          0|                        0|(23,[0,1,2,3,4,6,...|\n",
              "|     0.916056|         0.925|      0.993704|        0.948718|        0.316239|             0.0|           0.925|               0.5|              0.0|               0.5|               0.5|        0.997472|            1.0|             1.0|        0.999927|             0.0|             0.0|                      0.0|                      0.0|                      0.0|                      0.0|                   0.0|                       0.0|                          0|                        0|(23,[0,1,2,3,4,6,...|\n",
              "|     0.922741|           0.5|       0.96137|        0.555556|        0.111111|             0.0|             0.5|          0.666667|              0.0|          0.666667|          0.666667|        0.990302|       0.587832|             1.0|        0.962264|             0.0|             0.0|                      0.0|                      0.0|                      0.0|                      0.0|                   0.0|                       0.0|                          0|                        0|(23,[0,1,2,3,4,6,...|\n",
              "|     0.423299|      0.901911|      0.829913|        0.903061|        0.011728|             0.0|        0.901911|               0.8|              0.0|               0.8|               0.8|             1.0|            1.0|             0.0|             1.0|             0.0|             0.0|                      0.0|                      0.0|                      0.0|                      0.0|                   0.0|                       0.0|                          1|                        0|(23,[0,1,2,3,4,6,...|\n",
              "|       0.0295|      0.558442|       0.54502|        0.565789|       0.0166409|             0.0|        0.558442|               0.8|              0.0|               0.8|               0.8|             1.0|            1.0|             0.0|             1.0|             0.0|             0.0|                      0.0|                      0.0|                      0.0|                      0.0|                   0.0|                       0.0|                          0|                        0|(23,[0,1,2,3,4,6,...|\n",
              "|       0.9765|      0.923077|      0.998192|        0.933333|        0.133333|             0.0|        0.923077|               0.5|              0.0|               0.5|               0.5|        0.991851|       0.985522|             1.0|        0.986515|             0.0|             0.0|                      0.0|                      0.0|                      0.0|                      0.0|                   0.0|                       0.0|                          0|                        0|(23,[0,1,2,3,4,6,...|\n",
              "|     0.960388|      0.181818|       0.96759|             0.3|        0.144444|             0.0|        0.181818|          0.833333|              0.0|          0.833333|          0.833333|        0.999418|       0.999627|             1.0|        0.999597|             0.0|             0.0|                      0.0|                      0.0|                      0.0|                      0.0|                   0.0|                       0.0|                          0|                        0|(23,[0,1,2,3,4,6,...|\n",
              "|     0.309677|      0.999845|      0.999893|        0.993994|        0.974159|             0.0|        0.999845|          0.714286|              0.0|          0.714286|          0.714286|        0.954453|        0.96809|        0.944444|        0.949153|             0.0|             0.0|                      0.0|                      0.0|                      0.0|                      0.0|                   0.0|                       0.0|                          0|                        0|(23,[0,1,2,3,4,6,...|\n",
              "|     0.970491|         0.925|      0.997787|        0.948718|        0.316239|             0.0|           0.925|               0.5|              0.0|               0.5|               0.5|        0.999345|            1.0|             1.0|        0.999982|             0.0|             0.0|                      0.0|                      0.0|                      0.0|                      0.0|                   0.0|                       0.0|                          0|                        0|(23,[0,1,2,3,4,6,...|\n",
              "|     0.960241|      0.988673|      0.715111|        0.990276|        0.141468|             0.0|        0.988673|          0.884615|              0.0|          0.884615|          0.884615|             1.0|       0.983328|             1.0|        0.991525|             0.0|             0.0|                      0.0|                      0.0|                      0.0|                      0.0|                   0.0|                       0.0|                          0|                        0|(23,[0,1,2,3,4,6,...|\n",
              "|     0.751058|      0.944984|         0.779|        0.946515|       0.0278387|             0.0|        0.944984|          0.923077|              0.0|          0.923077|          0.923077|             1.0|       0.999999|             1.0|        0.999999|             0.0|             0.0|                      0.0|                      0.0|                      0.0|                      0.0|                   0.0|                       0.0|                          0|                        0|(23,[0,1,2,3,4,6,...|\n",
              "|     0.985877|      0.772727|       0.99679|        0.809524|        0.161905|             0.0|        0.772727|          0.909091|              0.0|          0.909091|          0.909091|        0.829938|       0.928463|             1.0|        0.964517|             0.0|             0.0|                      0.0|                      0.0|                      0.0|                      0.0|                   0.0|                       0.0|                          0|                        0|(23,[0,1,2,3,4,6,...|\n",
              "|     0.922238|      0.758242|        0.9812|        0.766667|       0.0348485|             0.0|        0.758242|               0.6|              0.0|               0.6|               0.6|             1.0|       0.965644|             1.0|        0.998665|             0.0|             0.0|                      0.0|                      0.0|                      0.0|                      0.0|                   0.0|                       0.0|                          0|                        0|(23,[0,1,2,3,4,6,...|\n",
              "+-------------+--------------+--------------+----------------+----------------+----------------+----------------+------------------+-----------------+------------------+------------------+----------------+---------------+----------------+----------------+----------------+----------------+-------------------------+-------------------------+-------------------------+-------------------------+----------------------+--------------------------+---------------------------+-------------------------+--------------------+\n",
              "only showing top 20 rows"
            ],
            "text/html": [
              "<table border='1'>\n",
              "<tr><th>num_instances</th><th>num_attributes</th><th>dimensionality</th><th>num_numeric_attr</th><th>pct_numeric_attr</th><th>num_nominal_attr</th><th>pct_nominal_attr</th><th>avg_nominal_values</th><th>sd_nominal_values</th><th>min_nominal_values</th><th>max_nominal_values</th><th>avg_numeric_mean</th><th>sd_numeric_mean</th><th>min_numeric_mean</th><th>max_numeric_mean</th><th>missing_attr_cnt</th><th>missing_attr_pct</th><th>missing_instances_max_cnt</th><th>missing_instances_max_pct</th><th>missing_instances_min_cnt</th><th>missing_instances_min_pct</th><th>missing_instances_mean</th><th>missing_instances_mean_pct</th><th>datesets_subject_main_match</th><th>datesets_duplicates_match</th><th>features</th></tr>\n",
              "<tr><td>0.966729</td><td>0.953307</td><td>0.287456</td><td>0.957031</td><td>0.0797526</td><td>0.0</td><td>0.953307</td><td>0.811321</td><td>0.0</td><td>0.811321</td><td>0.811321</td><td>0.99519</td><td>0.981514</td><td>0.0</td><td>0.973684</td><td>0.0</td><td>0.0</td><td>0.0</td><td>0.0</td><td>0.0</td><td>0.0</td><td>0.0</td><td>0.0</td><td>0</td><td>0</td><td>(23,[0,1,2,3,4,6,...</td></tr>\n",
              "<tr><td>0.999953</td><td>0.272727</td><td>0.999936</td><td>0.3</td><td>0.0375</td><td>0.0</td><td>0.272727</td><td>0.791667</td><td>0.0</td><td>0.791667</td><td>0.791667</td><td>0.931006</td><td>0.976189</td><td>0.5</td><td>0.97561</td><td>0.0</td><td>0.0</td><td>0.0</td><td>0.0</td><td>0.0</td><td>0.0</td><td>0.0</td><td>0.0</td><td>0</td><td>0</td><td>(23,[0,1,2,3,4,6,...</td></tr>\n",
              "<tr><td>0.965015</td><td>0.375</td><td>0.978134</td><td>0.428571</td><td>0.0857143</td><td>0.0</td><td>0.375</td><td>0.958333</td><td>0.0</td><td>0.958333</td><td>0.958333</td><td>0.992813</td><td>0.988047</td><td>1.0</td><td>0.993031</td><td>0.0</td><td>0.0</td><td>0.0</td><td>0.0</td><td>0.0</td><td>0.0</td><td>0.0</td><td>0.0</td><td>0</td><td>0</td><td>(23,[0,1,2,3,4,6,...</td></tr>\n",
              "<tr><td>0.457326</td><td>0.934164</td><td>0.878682</td><td>0.935829</td><td>0.0252927</td><td>0.0</td><td>0.934164</td><td>0.666667</td><td>0.0</td><td>0.666667</td><td>0.666667</td><td>1.0</td><td>0.998676</td><td>1.0</td><td>0.9996</td><td>0.0</td><td>0.0</td><td>0.0</td><td>0.0</td><td>0.0</td><td>0.0</td><td>0.0</td><td>0.0</td><td>0</td><td>0</td><td>(23,[0,1,2,3,4,6,...</td></tr>\n",
              "<tr><td>0.970657</td><td>0.593407</td><td>0.988069</td><td>0.6</td><td>0.0162163</td><td>0.0</td><td>0.593407</td><td>0.6</td><td>0.0</td><td>0.6</td><td>0.6</td><td>1.0</td><td>0.906789</td><td>1.0</td><td>0.997198</td><td>0.0</td><td>0.0</td><td>0.0</td><td>0.0</td><td>0.0</td><td>0.0</td><td>0.0</td><td>0.0</td><td>0</td><td>0</td><td>(23,[0,1,2,3,4,6,...</td></tr>\n",
              "<tr><td>0.883375</td><td>0.582418</td><td>0.951299</td><td>0.588889</td><td>0.0154971</td><td>0.0</td><td>0.582418</td><td>0.6</td><td>0.0</td><td>0.6</td><td>0.6</td><td>0.965947</td><td>0.974438</td><td>1.0</td><td>0.989605</td><td>0.0</td><td>0.0</td><td>0.0</td><td>0.0</td><td>0.0</td><td>0.0</td><td>0.0</td><td>0.0</td><td>0</td><td>0</td><td>(23,[0,1,2,3,4,6,...</td></tr>\n",
              "<tr><td>0.971028</td><td>0.705426</td><td>0.901648</td><td>0.710938</td><td>0.0187089</td><td>0.0</td><td>0.705426</td><td>0.666667</td><td>0.0</td><td>0.666667</td><td>0.666667</td><td>0.909763</td><td>0.862463</td><td>1.0</td><td>0.860743</td><td>0.0</td><td>0.0</td><td>0.0</td><td>0.0</td><td>0.0</td><td>0.0</td><td>0.0</td><td>0.0</td><td>0</td><td>0</td><td>(23,[0,1,2,3,4,6,...</td></tr>\n",
              "<tr><td>0.932182</td><td>0.736842</td><td>0.74229</td><td>0.756757</td><td>0.0756757</td><td>0.0</td><td>0.736842</td><td>0.666667</td><td>0.0</td><td>0.666667</td><td>0.666667</td><td>0.948859</td><td>0.999509</td><td>1.0</td><td>0.998444</td><td>0.0</td><td>0.0</td><td>0.0</td><td>0.0</td><td>0.0</td><td>0.0</td><td>0.0</td><td>0.0</td><td>0</td><td>0</td><td>(23,[0,1,2,3,4,6,...</td></tr>\n",
              "<tr><td>0.916056</td><td>0.925</td><td>0.993704</td><td>0.948718</td><td>0.316239</td><td>0.0</td><td>0.925</td><td>0.5</td><td>0.0</td><td>0.5</td><td>0.5</td><td>0.997472</td><td>1.0</td><td>1.0</td><td>0.999927</td><td>0.0</td><td>0.0</td><td>0.0</td><td>0.0</td><td>0.0</td><td>0.0</td><td>0.0</td><td>0.0</td><td>0</td><td>0</td><td>(23,[0,1,2,3,4,6,...</td></tr>\n",
              "<tr><td>0.922741</td><td>0.5</td><td>0.96137</td><td>0.555556</td><td>0.111111</td><td>0.0</td><td>0.5</td><td>0.666667</td><td>0.0</td><td>0.666667</td><td>0.666667</td><td>0.990302</td><td>0.587832</td><td>1.0</td><td>0.962264</td><td>0.0</td><td>0.0</td><td>0.0</td><td>0.0</td><td>0.0</td><td>0.0</td><td>0.0</td><td>0.0</td><td>0</td><td>0</td><td>(23,[0,1,2,3,4,6,...</td></tr>\n",
              "<tr><td>0.423299</td><td>0.901911</td><td>0.829913</td><td>0.903061</td><td>0.011728</td><td>0.0</td><td>0.901911</td><td>0.8</td><td>0.0</td><td>0.8</td><td>0.8</td><td>1.0</td><td>1.0</td><td>0.0</td><td>1.0</td><td>0.0</td><td>0.0</td><td>0.0</td><td>0.0</td><td>0.0</td><td>0.0</td><td>0.0</td><td>0.0</td><td>1</td><td>0</td><td>(23,[0,1,2,3,4,6,...</td></tr>\n",
              "<tr><td>0.0295</td><td>0.558442</td><td>0.54502</td><td>0.565789</td><td>0.0166409</td><td>0.0</td><td>0.558442</td><td>0.8</td><td>0.0</td><td>0.8</td><td>0.8</td><td>1.0</td><td>1.0</td><td>0.0</td><td>1.0</td><td>0.0</td><td>0.0</td><td>0.0</td><td>0.0</td><td>0.0</td><td>0.0</td><td>0.0</td><td>0.0</td><td>0</td><td>0</td><td>(23,[0,1,2,3,4,6,...</td></tr>\n",
              "<tr><td>0.9765</td><td>0.923077</td><td>0.998192</td><td>0.933333</td><td>0.133333</td><td>0.0</td><td>0.923077</td><td>0.5</td><td>0.0</td><td>0.5</td><td>0.5</td><td>0.991851</td><td>0.985522</td><td>1.0</td><td>0.986515</td><td>0.0</td><td>0.0</td><td>0.0</td><td>0.0</td><td>0.0</td><td>0.0</td><td>0.0</td><td>0.0</td><td>0</td><td>0</td><td>(23,[0,1,2,3,4,6,...</td></tr>\n",
              "<tr><td>0.960388</td><td>0.181818</td><td>0.96759</td><td>0.3</td><td>0.144444</td><td>0.0</td><td>0.181818</td><td>0.833333</td><td>0.0</td><td>0.833333</td><td>0.833333</td><td>0.999418</td><td>0.999627</td><td>1.0</td><td>0.999597</td><td>0.0</td><td>0.0</td><td>0.0</td><td>0.0</td><td>0.0</td><td>0.0</td><td>0.0</td><td>0.0</td><td>0</td><td>0</td><td>(23,[0,1,2,3,4,6,...</td></tr>\n",
              "<tr><td>0.309677</td><td>0.999845</td><td>0.999893</td><td>0.993994</td><td>0.974159</td><td>0.0</td><td>0.999845</td><td>0.714286</td><td>0.0</td><td>0.714286</td><td>0.714286</td><td>0.954453</td><td>0.96809</td><td>0.944444</td><td>0.949153</td><td>0.0</td><td>0.0</td><td>0.0</td><td>0.0</td><td>0.0</td><td>0.0</td><td>0.0</td><td>0.0</td><td>0</td><td>0</td><td>(23,[0,1,2,3,4,6,...</td></tr>\n",
              "<tr><td>0.970491</td><td>0.925</td><td>0.997787</td><td>0.948718</td><td>0.316239</td><td>0.0</td><td>0.925</td><td>0.5</td><td>0.0</td><td>0.5</td><td>0.5</td><td>0.999345</td><td>1.0</td><td>1.0</td><td>0.999982</td><td>0.0</td><td>0.0</td><td>0.0</td><td>0.0</td><td>0.0</td><td>0.0</td><td>0.0</td><td>0.0</td><td>0</td><td>0</td><td>(23,[0,1,2,3,4,6,...</td></tr>\n",
              "<tr><td>0.960241</td><td>0.988673</td><td>0.715111</td><td>0.990276</td><td>0.141468</td><td>0.0</td><td>0.988673</td><td>0.884615</td><td>0.0</td><td>0.884615</td><td>0.884615</td><td>1.0</td><td>0.983328</td><td>1.0</td><td>0.991525</td><td>0.0</td><td>0.0</td><td>0.0</td><td>0.0</td><td>0.0</td><td>0.0</td><td>0.0</td><td>0.0</td><td>0</td><td>0</td><td>(23,[0,1,2,3,4,6,...</td></tr>\n",
              "<tr><td>0.751058</td><td>0.944984</td><td>0.779</td><td>0.946515</td><td>0.0278387</td><td>0.0</td><td>0.944984</td><td>0.923077</td><td>0.0</td><td>0.923077</td><td>0.923077</td><td>1.0</td><td>0.999999</td><td>1.0</td><td>0.999999</td><td>0.0</td><td>0.0</td><td>0.0</td><td>0.0</td><td>0.0</td><td>0.0</td><td>0.0</td><td>0.0</td><td>0</td><td>0</td><td>(23,[0,1,2,3,4,6,...</td></tr>\n",
              "<tr><td>0.985877</td><td>0.772727</td><td>0.99679</td><td>0.809524</td><td>0.161905</td><td>0.0</td><td>0.772727</td><td>0.909091</td><td>0.0</td><td>0.909091</td><td>0.909091</td><td>0.829938</td><td>0.928463</td><td>1.0</td><td>0.964517</td><td>0.0</td><td>0.0</td><td>0.0</td><td>0.0</td><td>0.0</td><td>0.0</td><td>0.0</td><td>0.0</td><td>0</td><td>0</td><td>(23,[0,1,2,3,4,6,...</td></tr>\n",
              "<tr><td>0.922238</td><td>0.758242</td><td>0.9812</td><td>0.766667</td><td>0.0348485</td><td>0.0</td><td>0.758242</td><td>0.6</td><td>0.0</td><td>0.6</td><td>0.6</td><td>1.0</td><td>0.965644</td><td>1.0</td><td>0.998665</td><td>0.0</td><td>0.0</td><td>0.0</td><td>0.0</td><td>0.0</td><td>0.0</td><td>0.0</td><td>0.0</td><td>0</td><td>0</td><td>(23,[0,1,2,3,4,6,...</td></tr>\n",
              "</table>\n",
              "only showing top 20 rows\n"
            ]
          },
          "metadata": {},
          "execution_count": 35
        }
      ]
    },
    {
      "cell_type": "code",
      "source": [
        "\n",
        "result = sampled_data.union(filtered_data_1)"
      ],
      "metadata": {
        "id": "PjgPUiISRvP0"
      },
      "execution_count": 36,
      "outputs": []
    },
    {
      "cell_type": "code",
      "source": [
        "result.count()"
      ],
      "metadata": {
        "id": "Ao5uByVFlghL",
        "colab": {
          "base_uri": "https://localhost:8080/"
        },
        "outputId": "5c5cff0a-77d5-43f5-d728-19d181306104"
      },
      "execution_count": 37,
      "outputs": [
        {
          "output_type": "execute_result",
          "data": {
            "text/plain": [
              "559"
            ]
          },
          "metadata": {},
          "execution_count": 37
        }
      ]
    },
    {
      "cell_type": "code",
      "source": [
        "## Modeling"
      ],
      "metadata": {
        "id": "zpuGWMCYZLmS"
      },
      "execution_count": 38,
      "outputs": []
    },
    {
      "cell_type": "code",
      "source": [
        "\n",
        "# Define the layers for the neural network\n",
        "layers = [len(numericCols), 5, 4, 2]\n",
        "                         \n",
        "# Define the parameter grid for tuning\n",
        "param_grid = ParamGridBuilder() \\\n",
        "    .addGrid(MultilayerPerceptronClassifier.maxIter, [100, 200]) \\\n",
        "    .addGrid(MultilayerPerceptronClassifier.blockSize, [128, 256]) \\\n",
        "    .build()"
      ],
      "metadata": {
        "id": "89mDJh_9lYNv"
      },
      "execution_count": 39,
      "outputs": []
    },
    {
      "cell_type": "code",
      "source": [
        "# Create a CrossValidator\n",
        "crossval = CrossValidator(estimator=MultilayerPerceptronClassifier(maxIter=100, layers=layers, blockSize=128, seed=1234, labelCol=\"datesets_duplicates_match\", featuresCol=\"features\"),\n",
        "                          estimatorParamMaps=param_grid,\n",
        "                          evaluator=MulticlassClassificationEvaluator(metricName=\"accuracy\", labelCol=\"datesets_duplicates_match\"))"
      ],
      "metadata": {
        "id": "2Bz6nE4flYgu"
      },
      "execution_count": 40,
      "outputs": []
    },
    {
      "cell_type": "code",
      "source": [
        "# Fit the model using the cross-validator\n",
        "cv_model = crossval.fit(result)\n",
        "\n",
        "# Get the best model from cross-validation\n",
        "best_model = cv_model.bestModel"
      ],
      "metadata": {
        "id": "2tCCU9Pbl1k9"
      },
      "execution_count": 28,
      "outputs": []
    },
    {
      "cell_type": "code",
      "source": [
        "# Make predictions on the test data\n",
        "predictions = best_model.transform(result)"
      ],
      "metadata": {
        "id": "52cJPz0OlYr_"
      },
      "execution_count": 29,
      "outputs": []
    },
    {
      "cell_type": "code",
      "source": [
        "# Evaluate the model's performance\n",
        "evaluator = MulticlassClassificationEvaluator(labelCol=\"datesets_duplicates_match\", predictionCol=\"prediction\", metricName=\"accuracy\")\n",
        "accuracy = evaluator.evaluate(predictions)\n",
        "f1_score = evaluator.setMetricName(\"f1\").evaluate(predictions)\n",
        "precision = evaluator.setMetricName(\"weightedPrecision\").evaluate(predictions)\n",
        "recall = evaluator.setMetricName(\"weightedRecall\").evaluate(predictions)\n",
        "\n",
        "print(\"Accuracy: {:.2f}%\".format(accuracy * 100))\n",
        "print(\"F1 Score: {:.2f}\".format(f1_score* 100))\n",
        "print(\"Precision: {:.2f}\".format(precision* 100))\n",
        "print(\"Recall: {:.2f}\".format(recall* 100))"
      ],
      "metadata": {
        "id": "7OjtN4afnbMD",
        "colab": {
          "base_uri": "https://localhost:8080/"
        },
        "outputId": "8366f204-73fc-44cd-da1c-a7a5e835c659"
      },
      "execution_count": 30,
      "outputs": [
        {
          "output_type": "stream",
          "name": "stdout",
          "text": [
            "Accuracy: 99.50%\n",
            "F1 Score: 99.50\n",
            "Precision: 99.50\n",
            "Recall: 99.50\n"
          ]
        }
      ]
    }
  ]
}