{
  "nbformat": 4,
  "nbformat_minor": 0,
  "metadata": {
    "colab": {
      "provenance": [],
      "authorship_tag": "ABX9TyPI2LMmMt6TMYmFPSsz+7l5",
      "include_colab_link": true
    },
    "kernelspec": {
      "name": "python3",
      "display_name": "Python 3"
    },
    "language_info": {
      "name": "python"
    }
  },
  "cells": [
    {
      "cell_type": "markdown",
      "metadata": {
        "id": "view-in-github",
        "colab_type": "text"
      },
      "source": [
        "<a href=\"https://colab.research.google.com/github/saracherif123/Bachelor-Thesis-Project/blob/main/MultilayerPerceptron_datesets_subject_main_match.ipynb\" target=\"_parent\"><img src=\"https://colab.research.google.com/assets/colab-badge.svg\" alt=\"Open In Colab\"/></a>"
      ]
    },
    {
      "cell_type": "markdown",
      "source": [
        "# **MultilayerPerceptron datesets_subject_main_match (Rel Model)**\n"
      ],
      "metadata": {
        "id": "NVfVauHzUpvB"
      }
    },
    {
      "cell_type": "markdown",
      "source": [
        "## Spark Confirguration in Google Colab\n",
        "\n",
        "\n",
        "\n",
        "\n"
      ],
      "metadata": {
        "id": "WG1AO4miUxf-"
      }
    },
    {
      "cell_type": "code",
      "source": [
        "!ls"
      ],
      "metadata": {
        "colab": {
          "base_uri": "https://localhost:8080/"
        },
        "id": "doOZN7ER_xgJ",
        "outputId": "49996e59-6426-4867-87cc-ab5f78422905"
      },
      "execution_count": 1,
      "outputs": [
        {
          "output_type": "stream",
          "name": "stdout",
          "text": [
            "all_topics_datasets_matching.csv  spark-3.1.1-bin-hadoop3.2.tgz.1\n",
            "spark-3.1.1-bin-hadoop3.2\t  spark-3.1.1-bin-hadoop3.2.tgz.2\n",
            "spark-3.1.1-bin-hadoop3.2.tgz\n"
          ]
        }
      ]
    },
    {
      "cell_type": "code",
      "source": [
        "!pwd"
      ],
      "metadata": {
        "colab": {
          "base_uri": "https://localhost:8080/"
        },
        "id": "OWpkUIgZ_yBS",
        "outputId": "a7e38ac3-62cb-4d34-e329-5e110e1b152a"
      },
      "execution_count": 2,
      "outputs": [
        {
          "output_type": "stream",
          "name": "stdout",
          "text": [
            "/content\n"
          ]
        }
      ]
    },
    {
      "cell_type": "code",
      "source": [
        "!apt-get install openjdk-8-jdk-headless -qq > /dev/null\n",
        "!wget -q http://archive.apache.org/dist/spark/spark-3.1.1/spark-3.1.1-bin-hadoop3.2.tgz\n",
        "!tar xf spark-3.1.1-bin-hadoop3.2.tgz\n",
        "!pip install -q findspark"
      ],
      "metadata": {
        "id": "u3mL6zXB_yOG"
      },
      "execution_count": 3,
      "outputs": []
    },
    {
      "cell_type": "code",
      "source": [
        "import os\n",
        "os.environ[\"JAVA_HOME\"] = \"/usr/lib/jvm/java-8-openjdk-amd64\"\n",
        "os.environ[\"SPARK_HOME\"] = \"/content/spark-3.1.1-bin-hadoop3.2\""
      ],
      "metadata": {
        "id": "OVFJCkSD_yVU"
      },
      "execution_count": 4,
      "outputs": []
    },
    {
      "cell_type": "code",
      "source": [
        "import findspark\n",
        "findspark.init()\n",
        "from pyspark.sql import SparkSession\n",
        "spark = SparkSession.builder.master(\"local[*]\").getOrCreate()\n",
        "spark.conf.set(\"spark.sql.repl.eagerEval.enabled\", True) # Property used to format output tables better\n",
        "spark"
      ],
      "metadata": {
        "colab": {
          "base_uri": "https://localhost:8080/",
          "height": 219
        },
        "id": "58rRLDco_yfu",
        "outputId": "d92de05d-5183-40ac-ee0c-2e2a04530cf4"
      },
      "execution_count": 5,
      "outputs": [
        {
          "output_type": "execute_result",
          "data": {
            "text/plain": [
              "<pyspark.sql.session.SparkSession at 0x7f9a20205d80>"
            ],
            "text/html": [
              "\n",
              "            <div>\n",
              "                <p><b>SparkSession - in-memory</b></p>\n",
              "                \n",
              "        <div>\n",
              "            <p><b>SparkContext</b></p>\n",
              "\n",
              "            <p><a href=\"http://c74ce415ec84:4040\">Spark UI</a></p>\n",
              "\n",
              "            <dl>\n",
              "              <dt>Version</dt>\n",
              "                <dd><code>v3.1.1</code></dd>\n",
              "              <dt>Master</dt>\n",
              "                <dd><code>local[*]</code></dd>\n",
              "              <dt>AppName</dt>\n",
              "                <dd><code>pyspark-shell</code></dd>\n",
              "            </dl>\n",
              "        </div>\n",
              "        \n",
              "            </div>\n",
              "        "
            ]
          },
          "metadata": {},
          "execution_count": 5
        }
      ]
    },
    {
      "cell_type": "markdown",
      "source": [
        "### Import necessary libraries"
      ],
      "metadata": {
        "id": "MwEgdhasWZIU"
      }
    },
    {
      "cell_type": "code",
      "source": [
        "from pyspark import SparkContext\n",
        "from pyspark.sql import SparkSession\n",
        "from pyspark.ml.feature import VectorAssembler\n",
        "from pyspark.ml.evaluation import MulticlassClassificationEvaluator\n",
        "import matplotlib.pyplot as plt\n",
        "from pyspark.sql.functions import col\n",
        "import seaborn as sns\n",
        "from pyspark.ml.clustering import KMeans\n",
        "from pyspark.ml.evaluation import ClusteringEvaluator\n",
        "from pyspark.sql.functions import col\n",
        "from pyspark.ml import Pipeline\n",
        "from pyspark.ml.classification import MultilayerPerceptronClassifier\n",
        "from pyspark.ml.feature import StringIndexer, VectorAssembler\n",
        "from pyspark.ml.tuning import CrossValidator, ParamGridBuilder\n",
        "from pyspark.ml.feature import StandardScaler\n"
      ],
      "metadata": {
        "id": "wRetbqddAW30"
      },
      "execution_count": 6,
      "outputs": []
    },
    {
      "cell_type": "markdown",
      "source": [
        "### Load Dataset"
      ],
      "metadata": {
        "id": "LM3G-y8PXduw"
      }
    },
    {
      "cell_type": "code",
      "source": [
        "from pyspark.sql import SparkSession\n",
        "spark = SparkSession.builder.appName(\"Clustering using K-Means\").getOrCreate()\n",
        "data = spark.read.csv(\"all_topics_datasets_matching.csv\", header=True, inferSchema=True)\n",
        "data.show(10)\n",
        "\n"
      ],
      "metadata": {
        "colab": {
          "base_uri": "https://localhost:8080/"
        },
        "id": "49tPSxBRAXIp",
        "outputId": "46f7f599-5241-425e-dd43-e72d193e1d79"
      },
      "execution_count": 7,
      "outputs": [
        {
          "output_type": "stream",
          "name": "stdout",
          "text": [
            "+----+----+-------------+--------------------+-------------+--------------+--------------+----------------+----------------+----------------+----------------+------------------+-----------------+------------------+------------------+----------------+---------------+----------------+----------------+----------------+----------------+-------------------------+-------------------------+-------------------------+-------------------------+----------------------+--------------------------+---------------------------+-------------------------+\n",
            "|did1|did2|dataset_name1|       dataset_name2|num_instances|num_attributes|dimensionality|num_numeric_attr|pct_numeric_attr|num_nominal_attr|pct_nominal_attr|avg_nominal_values|sd_nominal_values|min_nominal_values|max_nominal_values|avg_numeric_mean|sd_numeric_mean|min_numeric_mean|max_numeric_mean|missing_attr_cnt|missing_attr_pct|missing_instances_max_cnt|missing_instances_max_pct|missing_instances_min_cnt|missing_instances_min_pct|missing_instances_mean|missing_instances_mean_pct|datesets_subject_main_match|datesets_duplicates_match|\n",
            "+----+----+-------------+--------------------+-------------+--------------+--------------+----------------+----------------+----------------+----------------+------------------+-----------------+------------------+------------------+----------------+---------------+----------------+----------------+----------------+----------------+-------------------------+-------------------------+-------------------------+-------------------------+----------------------+--------------------------+---------------------------+-------------------------+\n",
            "| 171| 185|primary-tumor|            baseball|     0.747015|           0.0|      0.747015|             1.0|             1.0|        0.833333|        0.833333|          0.992834|         0.993118|          0.333333|          0.984317|             1.0|            1.0|             0.0|             1.0|             0.8|             0.8|                 0.870968|                 0.967357|                     0.95|                  0.80236|              0.911111|                  0.977512|                          0|                        0|\n",
            "| 171|6331|primary-tumor|LoanDefaultPredic...|     0.996786|      0.976654|      0.862327|             1.0|             1.0|        0.666667|        0.992218|          0.870246|         0.838809|               0.0|          0.671875|             1.0|            1.0|             1.0|             1.0|        0.990476|        0.592063|                  0.99177|                  0.60947|                      0.0|                 0.996786|              0.987738|                   0.73788|                          0|                        0|\n",
            "| 171|1090|primary-tumor|       MercuryinBass|     0.843658|      0.333333|      0.765487|             1.0|             1.0|        0.944444|        0.916667|          0.939203|              1.0|          0.962264|          0.603774|             1.0|            1.0|             0.0|             1.0|             1.0|             1.0|                      1.0|                      1.0|                      1.0|                      1.0|                   1.0|                       1.0|                          0|                        0|\n",
            "| 171| 575|primary-tumor|          kdd_coil_4|    0.0678466|      0.333333|       0.28481|             1.0|             1.0|        0.833333|            0.75|         0.0333333|         0.891071|          0.333333|          0.809524|             1.0|            1.0|             1.0|             1.0|           0.375|        0.583333|                 0.851613|                 0.840813|                      0.5|                 0.533923|              0.626667|                  0.599494|                          0|                        0|\n",
            "| 171|1051|primary-tumor|      cocomo_numeric|     0.823009|     0.0555556|      0.812598|             1.0|             1.0|        0.166667|        0.117647|          0.121212|         0.838432|          0.333333|          0.761905|             1.0|            1.0|             1.0|             1.0|             1.0|             1.0|                      1.0|                      1.0|                      1.0|                      1.0|                   1.0|                       1.0|                          0|                        0|\n",
            "| 171|1481|primary-tumor|             kr-vs-k|     0.987917|      0.611111|      0.995301|             1.0|             1.0|        0.777778|        0.428571|          0.660819|         0.163264|               0.5|          0.142857|             1.0|            1.0|             1.0|             1.0|             1.0|             1.0|                      1.0|                      1.0|                      1.0|                      1.0|                   1.0|                       1.0|                          0|                        0|\n",
            "| 171| 382|primary-tumor|   ipums_la_97-small|     0.951703|      0.704918|      0.836325|             0.0|             0.0|        0.704918|             0.0|          0.934284|         0.954003|               0.5|          0.956967|             0.0|            0.0|             0.0|             0.0|        0.722222|       0.0586419|                 0.975303|                 0.488643|                 0.992593|                  0.84663|              0.984144|                  0.671701|                          0|                        0|\n",
            "| 171| 576|primary-tumor|          kdd_coil_5|    0.0678466|      0.333333|       0.28481|             1.0|             1.0|        0.833333|            0.75|         0.0333333|         0.891071|          0.333333|          0.809524|             1.0|            1.0|             1.0|             1.0|           0.375|        0.583333|                 0.851613|                 0.840813|                      0.5|                 0.533923|              0.626667|                  0.599494|                          0|                        0|\n",
            "| 171|1465|primary-tumor|       breast-tissue|     0.687316|      0.444444|      0.437168|             1.0|             1.0|        0.944444|             0.9|          0.462963|              1.0|          0.666667|          0.714286|             1.0|            1.0|             1.0|             1.0|             1.0|             1.0|                      1.0|                      1.0|                      1.0|                      1.0|                   1.0|                       1.0|                          0|                        0|\n",
            "| 171|1567|primary-tumor|          poker-hand|     0.999669|      0.388889|      0.999798|             1.0|             1.0|        0.944444|        0.909091|          0.677778|              1.0|               0.8|           0.52381|             1.0|            1.0|             1.0|             1.0|             1.0|             1.0|                      1.0|                      1.0|                      1.0|                      1.0|                   1.0|                       1.0|                          0|                        0|\n",
            "+----+----+-------------+--------------------+-------------+--------------+--------------+----------------+----------------+----------------+----------------+------------------+-----------------+------------------+------------------+----------------+---------------+----------------+----------------+----------------+----------------+-------------------------+-------------------------+-------------------------+-------------------------+----------------------+--------------------------+---------------------------+-------------------------+\n",
            "only showing top 10 rows\n",
            "\n"
          ]
        }
      ]
    },
    {
      "cell_type": "code",
      "source": [
        "data.printSchema()"
      ],
      "metadata": {
        "id": "qzdv3GxvCA1t",
        "colab": {
          "base_uri": "https://localhost:8080/"
        },
        "outputId": "3b389e61-d12c-4f40-b4f4-c85253bd02b4"
      },
      "execution_count": 8,
      "outputs": [
        {
          "output_type": "stream",
          "name": "stdout",
          "text": [
            "root\n",
            " |-- did1: integer (nullable = true)\n",
            " |-- did2: integer (nullable = true)\n",
            " |-- dataset_name1: string (nullable = true)\n",
            " |-- dataset_name2: string (nullable = true)\n",
            " |-- num_instances: double (nullable = true)\n",
            " |-- num_attributes: double (nullable = true)\n",
            " |-- dimensionality: double (nullable = true)\n",
            " |-- num_numeric_attr: double (nullable = true)\n",
            " |-- pct_numeric_attr: double (nullable = true)\n",
            " |-- num_nominal_attr: double (nullable = true)\n",
            " |-- pct_nominal_attr: double (nullable = true)\n",
            " |-- avg_nominal_values: double (nullable = true)\n",
            " |-- sd_nominal_values: double (nullable = true)\n",
            " |-- min_nominal_values: double (nullable = true)\n",
            " |-- max_nominal_values: double (nullable = true)\n",
            " |-- avg_numeric_mean: double (nullable = true)\n",
            " |-- sd_numeric_mean: double (nullable = true)\n",
            " |-- min_numeric_mean: double (nullable = true)\n",
            " |-- max_numeric_mean: double (nullable = true)\n",
            " |-- missing_attr_cnt: double (nullable = true)\n",
            " |-- missing_attr_pct: double (nullable = true)\n",
            " |-- missing_instances_max_cnt: double (nullable = true)\n",
            " |-- missing_instances_max_pct: double (nullable = true)\n",
            " |-- missing_instances_min_cnt: double (nullable = true)\n",
            " |-- missing_instances_min_pct: double (nullable = true)\n",
            " |-- missing_instances_mean: double (nullable = true)\n",
            " |-- missing_instances_mean_pct: double (nullable = true)\n",
            " |-- datesets_subject_main_match: integer (nullable = true)\n",
            " |-- datesets_duplicates_match: integer (nullable = true)\n",
            "\n"
          ]
        }
      ]
    },
    {
      "cell_type": "code",
      "source": [
        "data=data.drop(\"did1\",\"did2\",\"dataset_name1\",\"dataset_name2\")\n",
        "data"
      ],
      "metadata": {
        "colab": {
          "base_uri": "https://localhost:8080/",
          "height": 545
        },
        "id": "t660_UpeCIj0",
        "outputId": "068de79d-1ca2-4a2b-84af-43b84579f9ec"
      },
      "execution_count": 9,
      "outputs": [
        {
          "output_type": "execute_result",
          "data": {
            "text/plain": [
              "+-------------+--------------+--------------+----------------+----------------+----------------+----------------+------------------+-----------------+------------------+------------------+----------------+---------------+----------------+----------------+----------------+----------------+-------------------------+-------------------------+-------------------------+-------------------------+----------------------+--------------------------+---------------------------+-------------------------+\n",
              "|num_instances|num_attributes|dimensionality|num_numeric_attr|pct_numeric_attr|num_nominal_attr|pct_nominal_attr|avg_nominal_values|sd_nominal_values|min_nominal_values|max_nominal_values|avg_numeric_mean|sd_numeric_mean|min_numeric_mean|max_numeric_mean|missing_attr_cnt|missing_attr_pct|missing_instances_max_cnt|missing_instances_max_pct|missing_instances_min_cnt|missing_instances_min_pct|missing_instances_mean|missing_instances_mean_pct|datesets_subject_main_match|datesets_duplicates_match|\n",
              "+-------------+--------------+--------------+----------------+----------------+----------------+----------------+------------------+-----------------+------------------+------------------+----------------+---------------+----------------+----------------+----------------+----------------+-------------------------+-------------------------+-------------------------+-------------------------+----------------------+--------------------------+---------------------------+-------------------------+\n",
              "|     0.747015|           0.0|      0.747015|             1.0|             1.0|        0.833333|        0.833333|          0.992834|         0.993118|          0.333333|          0.984317|             1.0|            1.0|             0.0|             1.0|             0.8|             0.8|                 0.870968|                 0.967357|                     0.95|                  0.80236|              0.911111|                  0.977512|                          0|                        0|\n",
              "|     0.996786|      0.976654|      0.862327|             1.0|             1.0|        0.666667|        0.992218|          0.870246|         0.838809|               0.0|          0.671875|             1.0|            1.0|             1.0|             1.0|        0.990476|        0.592063|                  0.99177|                  0.60947|                      0.0|                 0.996786|              0.987738|                   0.73788|                          0|                        0|\n",
              "|     0.843658|      0.333333|      0.765487|             1.0|             1.0|        0.944444|        0.916667|          0.939203|              1.0|          0.962264|          0.603774|             1.0|            1.0|             0.0|             1.0|             1.0|             1.0|                      1.0|                      1.0|                      1.0|                      1.0|                   1.0|                       1.0|                          0|                        0|\n",
              "|    0.0678466|      0.333333|       0.28481|             1.0|             1.0|        0.833333|            0.75|         0.0333333|         0.891071|          0.333333|          0.809524|             1.0|            1.0|             1.0|             1.0|           0.375|        0.583333|                 0.851613|                 0.840813|                      0.5|                 0.533923|              0.626667|                  0.599494|                          0|                        0|\n",
              "|     0.823009|     0.0555556|      0.812598|             1.0|             1.0|        0.166667|        0.117647|          0.121212|         0.838432|          0.333333|          0.761905|             1.0|            1.0|             1.0|             1.0|             1.0|             1.0|                      1.0|                      1.0|                      1.0|                      1.0|                   1.0|                       1.0|                          0|                        0|\n",
              "|     0.987917|      0.611111|      0.995301|             1.0|             1.0|        0.777778|        0.428571|          0.660819|         0.163264|               0.5|          0.142857|             1.0|            1.0|             1.0|             1.0|             1.0|             1.0|                      1.0|                      1.0|                      1.0|                      1.0|                   1.0|                       1.0|                          0|                        0|\n",
              "|     0.951703|      0.704918|      0.836325|             0.0|             0.0|        0.704918|             0.0|          0.934284|         0.954003|               0.5|          0.956967|             0.0|            0.0|             0.0|             0.0|        0.722222|       0.0586419|                 0.975303|                 0.488643|                 0.992593|                  0.84663|              0.984144|                  0.671701|                          0|                        0|\n",
              "|    0.0678466|      0.333333|       0.28481|             1.0|             1.0|        0.833333|            0.75|         0.0333333|         0.891071|          0.333333|          0.809524|             1.0|            1.0|             1.0|             1.0|           0.375|        0.583333|                 0.851613|                 0.840813|                      0.5|                 0.533923|              0.626667|                  0.599494|                          0|                        0|\n",
              "|     0.687316|      0.444444|      0.437168|             1.0|             1.0|        0.944444|             0.9|          0.462963|              1.0|          0.666667|          0.714286|             1.0|            1.0|             1.0|             1.0|             1.0|             1.0|                      1.0|                      1.0|                      1.0|                      1.0|                   1.0|                       1.0|                          0|                        0|\n",
              "|     0.999669|      0.388889|      0.999798|             1.0|             1.0|        0.944444|        0.909091|          0.677778|              1.0|               0.8|           0.52381|             1.0|            1.0|             1.0|             1.0|             1.0|             1.0|                      1.0|                      1.0|                      1.0|                      1.0|                   1.0|                       1.0|                          0|                        0|\n",
              "|     0.997546|           0.5|      0.998773|             1.0|             1.0|        0.944444|        0.888889|          0.892593|              1.0|          0.933333|               0.3|             1.0|            1.0|             1.0|             1.0|             1.0|             1.0|                      1.0|                      1.0|                      1.0|                      1.0|                   1.0|                       1.0|                          0|                        0|\n",
              "|      0.92569|      0.166667|      0.938075|             1.0|             1.0|             0.5|             0.4|          0.704082|         0.603636|               0.0|          0.461538|             1.0|            1.0|             1.0|             1.0|             0.8|            0.76|                 0.432258|                 0.957811|                 0.988636|                 0.847077|              0.530667|                  0.965124|                          0|                        0|\n",
              "|     0.918841|           0.5|      0.959421|             1.0|             1.0|        0.888889|        0.777778|          0.792115|          0.65379|          0.333333|              0.25|             1.0|            1.0|             0.0|             1.0|             1.0|             1.0|                      1.0|                      1.0|                      1.0|                      1.0|                   1.0|                       1.0|                          0|                        0|\n",
              "|    0.0855457|      0.611111|      0.574731|             1.0|             1.0|        0.944444|        0.857143|           0.37931|              1.0|               0.0|          0.904762|             1.0|            1.0|             1.0|             1.0|             1.0|             1.0|                      1.0|                      1.0|                      1.0|                      1.0|                   1.0|                       1.0|                          1|                        0|\n",
              "|     0.961652|      0.222222|      0.950695|             1.0|             1.0|             1.0|             1.0|               1.0|              1.0|               1.0|               1.0|             1.0|            1.0|             1.0|             1.0|             1.0|             1.0|                      1.0|                      1.0|                      1.0|                      1.0|                   1.0|                       1.0|                          0|                        0|\n",
              "|     0.858407|      0.555556|      0.681416|             1.0|             1.0|        0.944444|           0.875|           0.93287|              1.0|          0.958333|            0.5625|             1.0|            1.0|             1.0|             1.0|             1.0|             1.0|                      1.0|                      1.0|                      1.0|                      1.0|                   1.0|                       1.0|                          0|                        0|\n",
              "|     0.383481|      0.555556|      0.279107|             1.0|             1.0|        0.944444|           0.875|          0.892593|              1.0|          0.933333|               0.3|             1.0|            1.0|             1.0|             1.0|             1.0|             1.0|                      1.0|                      1.0|                      1.0|                      1.0|                   1.0|                       1.0|                          0|                        0|\n",
              "|     0.705015|      0.666667|      0.115044|             0.0|             0.0|        0.666667|             0.0|           0.12069|         0.753402|               0.0|          0.761905|             0.0|            0.0|             0.0|             0.0|             1.0|             1.0|                      1.0|                      1.0|                      1.0|                      1.0|                   1.0|                       1.0|                          0|                        0|\n",
              "|    0.0678466|      0.333333|       0.28481|             1.0|             1.0|        0.833333|            0.75|         0.0333333|         0.891071|          0.333333|          0.809524|             1.0|            1.0|             1.0|             1.0|           0.375|        0.583333|                 0.851613|                 0.840813|                      0.5|                 0.533923|              0.626667|                  0.599494|                          0|                        0|\n",
              "|     0.772861|      0.111111|      0.744469|             1.0|             1.0|        0.833333|          0.8125|          0.887597|         0.873601|               0.0|          0.727273|             1.0|            1.0|             1.0|             1.0|             1.0|             1.0|                      1.0|                      1.0|                      1.0|                      1.0|                   1.0|                       1.0|                          0|                        0|\n",
              "+-------------+--------------+--------------+----------------+----------------+----------------+----------------+------------------+-----------------+------------------+------------------+----------------+---------------+----------------+----------------+----------------+----------------+-------------------------+-------------------------+-------------------------+-------------------------+----------------------+--------------------------+---------------------------+-------------------------+\n",
              "only showing top 20 rows"
            ],
            "text/html": [
              "<table border='1'>\n",
              "<tr><th>num_instances</th><th>num_attributes</th><th>dimensionality</th><th>num_numeric_attr</th><th>pct_numeric_attr</th><th>num_nominal_attr</th><th>pct_nominal_attr</th><th>avg_nominal_values</th><th>sd_nominal_values</th><th>min_nominal_values</th><th>max_nominal_values</th><th>avg_numeric_mean</th><th>sd_numeric_mean</th><th>min_numeric_mean</th><th>max_numeric_mean</th><th>missing_attr_cnt</th><th>missing_attr_pct</th><th>missing_instances_max_cnt</th><th>missing_instances_max_pct</th><th>missing_instances_min_cnt</th><th>missing_instances_min_pct</th><th>missing_instances_mean</th><th>missing_instances_mean_pct</th><th>datesets_subject_main_match</th><th>datesets_duplicates_match</th></tr>\n",
              "<tr><td>0.747015</td><td>0.0</td><td>0.747015</td><td>1.0</td><td>1.0</td><td>0.833333</td><td>0.833333</td><td>0.992834</td><td>0.993118</td><td>0.333333</td><td>0.984317</td><td>1.0</td><td>1.0</td><td>0.0</td><td>1.0</td><td>0.8</td><td>0.8</td><td>0.870968</td><td>0.967357</td><td>0.95</td><td>0.80236</td><td>0.911111</td><td>0.977512</td><td>0</td><td>0</td></tr>\n",
              "<tr><td>0.996786</td><td>0.976654</td><td>0.862327</td><td>1.0</td><td>1.0</td><td>0.666667</td><td>0.992218</td><td>0.870246</td><td>0.838809</td><td>0.0</td><td>0.671875</td><td>1.0</td><td>1.0</td><td>1.0</td><td>1.0</td><td>0.990476</td><td>0.592063</td><td>0.99177</td><td>0.60947</td><td>0.0</td><td>0.996786</td><td>0.987738</td><td>0.73788</td><td>0</td><td>0</td></tr>\n",
              "<tr><td>0.843658</td><td>0.333333</td><td>0.765487</td><td>1.0</td><td>1.0</td><td>0.944444</td><td>0.916667</td><td>0.939203</td><td>1.0</td><td>0.962264</td><td>0.603774</td><td>1.0</td><td>1.0</td><td>0.0</td><td>1.0</td><td>1.0</td><td>1.0</td><td>1.0</td><td>1.0</td><td>1.0</td><td>1.0</td><td>1.0</td><td>1.0</td><td>0</td><td>0</td></tr>\n",
              "<tr><td>0.0678466</td><td>0.333333</td><td>0.28481</td><td>1.0</td><td>1.0</td><td>0.833333</td><td>0.75</td><td>0.0333333</td><td>0.891071</td><td>0.333333</td><td>0.809524</td><td>1.0</td><td>1.0</td><td>1.0</td><td>1.0</td><td>0.375</td><td>0.583333</td><td>0.851613</td><td>0.840813</td><td>0.5</td><td>0.533923</td><td>0.626667</td><td>0.599494</td><td>0</td><td>0</td></tr>\n",
              "<tr><td>0.823009</td><td>0.0555556</td><td>0.812598</td><td>1.0</td><td>1.0</td><td>0.166667</td><td>0.117647</td><td>0.121212</td><td>0.838432</td><td>0.333333</td><td>0.761905</td><td>1.0</td><td>1.0</td><td>1.0</td><td>1.0</td><td>1.0</td><td>1.0</td><td>1.0</td><td>1.0</td><td>1.0</td><td>1.0</td><td>1.0</td><td>1.0</td><td>0</td><td>0</td></tr>\n",
              "<tr><td>0.987917</td><td>0.611111</td><td>0.995301</td><td>1.0</td><td>1.0</td><td>0.777778</td><td>0.428571</td><td>0.660819</td><td>0.163264</td><td>0.5</td><td>0.142857</td><td>1.0</td><td>1.0</td><td>1.0</td><td>1.0</td><td>1.0</td><td>1.0</td><td>1.0</td><td>1.0</td><td>1.0</td><td>1.0</td><td>1.0</td><td>1.0</td><td>0</td><td>0</td></tr>\n",
              "<tr><td>0.951703</td><td>0.704918</td><td>0.836325</td><td>0.0</td><td>0.0</td><td>0.704918</td><td>0.0</td><td>0.934284</td><td>0.954003</td><td>0.5</td><td>0.956967</td><td>0.0</td><td>0.0</td><td>0.0</td><td>0.0</td><td>0.722222</td><td>0.0586419</td><td>0.975303</td><td>0.488643</td><td>0.992593</td><td>0.84663</td><td>0.984144</td><td>0.671701</td><td>0</td><td>0</td></tr>\n",
              "<tr><td>0.0678466</td><td>0.333333</td><td>0.28481</td><td>1.0</td><td>1.0</td><td>0.833333</td><td>0.75</td><td>0.0333333</td><td>0.891071</td><td>0.333333</td><td>0.809524</td><td>1.0</td><td>1.0</td><td>1.0</td><td>1.0</td><td>0.375</td><td>0.583333</td><td>0.851613</td><td>0.840813</td><td>0.5</td><td>0.533923</td><td>0.626667</td><td>0.599494</td><td>0</td><td>0</td></tr>\n",
              "<tr><td>0.687316</td><td>0.444444</td><td>0.437168</td><td>1.0</td><td>1.0</td><td>0.944444</td><td>0.9</td><td>0.462963</td><td>1.0</td><td>0.666667</td><td>0.714286</td><td>1.0</td><td>1.0</td><td>1.0</td><td>1.0</td><td>1.0</td><td>1.0</td><td>1.0</td><td>1.0</td><td>1.0</td><td>1.0</td><td>1.0</td><td>1.0</td><td>0</td><td>0</td></tr>\n",
              "<tr><td>0.999669</td><td>0.388889</td><td>0.999798</td><td>1.0</td><td>1.0</td><td>0.944444</td><td>0.909091</td><td>0.677778</td><td>1.0</td><td>0.8</td><td>0.52381</td><td>1.0</td><td>1.0</td><td>1.0</td><td>1.0</td><td>1.0</td><td>1.0</td><td>1.0</td><td>1.0</td><td>1.0</td><td>1.0</td><td>1.0</td><td>1.0</td><td>0</td><td>0</td></tr>\n",
              "<tr><td>0.997546</td><td>0.5</td><td>0.998773</td><td>1.0</td><td>1.0</td><td>0.944444</td><td>0.888889</td><td>0.892593</td><td>1.0</td><td>0.933333</td><td>0.3</td><td>1.0</td><td>1.0</td><td>1.0</td><td>1.0</td><td>1.0</td><td>1.0</td><td>1.0</td><td>1.0</td><td>1.0</td><td>1.0</td><td>1.0</td><td>1.0</td><td>0</td><td>0</td></tr>\n",
              "<tr><td>0.92569</td><td>0.166667</td><td>0.938075</td><td>1.0</td><td>1.0</td><td>0.5</td><td>0.4</td><td>0.704082</td><td>0.603636</td><td>0.0</td><td>0.461538</td><td>1.0</td><td>1.0</td><td>1.0</td><td>1.0</td><td>0.8</td><td>0.76</td><td>0.432258</td><td>0.957811</td><td>0.988636</td><td>0.847077</td><td>0.530667</td><td>0.965124</td><td>0</td><td>0</td></tr>\n",
              "<tr><td>0.918841</td><td>0.5</td><td>0.959421</td><td>1.0</td><td>1.0</td><td>0.888889</td><td>0.777778</td><td>0.792115</td><td>0.65379</td><td>0.333333</td><td>0.25</td><td>1.0</td><td>1.0</td><td>0.0</td><td>1.0</td><td>1.0</td><td>1.0</td><td>1.0</td><td>1.0</td><td>1.0</td><td>1.0</td><td>1.0</td><td>1.0</td><td>0</td><td>0</td></tr>\n",
              "<tr><td>0.0855457</td><td>0.611111</td><td>0.574731</td><td>1.0</td><td>1.0</td><td>0.944444</td><td>0.857143</td><td>0.37931</td><td>1.0</td><td>0.0</td><td>0.904762</td><td>1.0</td><td>1.0</td><td>1.0</td><td>1.0</td><td>1.0</td><td>1.0</td><td>1.0</td><td>1.0</td><td>1.0</td><td>1.0</td><td>1.0</td><td>1.0</td><td>1</td><td>0</td></tr>\n",
              "<tr><td>0.961652</td><td>0.222222</td><td>0.950695</td><td>1.0</td><td>1.0</td><td>1.0</td><td>1.0</td><td>1.0</td><td>1.0</td><td>1.0</td><td>1.0</td><td>1.0</td><td>1.0</td><td>1.0</td><td>1.0</td><td>1.0</td><td>1.0</td><td>1.0</td><td>1.0</td><td>1.0</td><td>1.0</td><td>1.0</td><td>1.0</td><td>0</td><td>0</td></tr>\n",
              "<tr><td>0.858407</td><td>0.555556</td><td>0.681416</td><td>1.0</td><td>1.0</td><td>0.944444</td><td>0.875</td><td>0.93287</td><td>1.0</td><td>0.958333</td><td>0.5625</td><td>1.0</td><td>1.0</td><td>1.0</td><td>1.0</td><td>1.0</td><td>1.0</td><td>1.0</td><td>1.0</td><td>1.0</td><td>1.0</td><td>1.0</td><td>1.0</td><td>0</td><td>0</td></tr>\n",
              "<tr><td>0.383481</td><td>0.555556</td><td>0.279107</td><td>1.0</td><td>1.0</td><td>0.944444</td><td>0.875</td><td>0.892593</td><td>1.0</td><td>0.933333</td><td>0.3</td><td>1.0</td><td>1.0</td><td>1.0</td><td>1.0</td><td>1.0</td><td>1.0</td><td>1.0</td><td>1.0</td><td>1.0</td><td>1.0</td><td>1.0</td><td>1.0</td><td>0</td><td>0</td></tr>\n",
              "<tr><td>0.705015</td><td>0.666667</td><td>0.115044</td><td>0.0</td><td>0.0</td><td>0.666667</td><td>0.0</td><td>0.12069</td><td>0.753402</td><td>0.0</td><td>0.761905</td><td>0.0</td><td>0.0</td><td>0.0</td><td>0.0</td><td>1.0</td><td>1.0</td><td>1.0</td><td>1.0</td><td>1.0</td><td>1.0</td><td>1.0</td><td>1.0</td><td>0</td><td>0</td></tr>\n",
              "<tr><td>0.0678466</td><td>0.333333</td><td>0.28481</td><td>1.0</td><td>1.0</td><td>0.833333</td><td>0.75</td><td>0.0333333</td><td>0.891071</td><td>0.333333</td><td>0.809524</td><td>1.0</td><td>1.0</td><td>1.0</td><td>1.0</td><td>0.375</td><td>0.583333</td><td>0.851613</td><td>0.840813</td><td>0.5</td><td>0.533923</td><td>0.626667</td><td>0.599494</td><td>0</td><td>0</td></tr>\n",
              "<tr><td>0.772861</td><td>0.111111</td><td>0.744469</td><td>1.0</td><td>1.0</td><td>0.833333</td><td>0.8125</td><td>0.887597</td><td>0.873601</td><td>0.0</td><td>0.727273</td><td>1.0</td><td>1.0</td><td>1.0</td><td>1.0</td><td>1.0</td><td>1.0</td><td>1.0</td><td>1.0</td><td>1.0</td><td>1.0</td><td>1.0</td><td>1.0</td><td>0</td><td>0</td></tr>\n",
              "</table>\n",
              "only showing top 20 rows\n"
            ]
          },
          "metadata": {},
          "execution_count": 9
        }
      ]
    },
    {
      "cell_type": "markdown",
      "source": [
        "## Data Preprocessing"
      ],
      "metadata": {
        "id": "ucS53IbzXznE"
      }
    },
    {
      "cell_type": "code",
      "source": [
        "# Create vector assembler\n",
        "from pyspark.ml.feature import VectorAssembler\n",
        "labelCol = 'datesets_subject_main_match'\n",
        "numericCols = ['num_instances','num_attributes',\n",
        " 'dimensionality','num_numeric_attr','pct_numeric_attr','num_nominal_attr', 'pct_nominal_attr',\n",
        " 'avg_nominal_values','sd_nominal_values','min_nominal_values','max_nominal_values','avg_numeric_mean',\n",
        " 'sd_numeric_mean','min_numeric_mean','max_numeric_mean','missing_attr_cnt','missing_attr_pct',\n",
        " 'missing_instances_max_cnt','missing_instances_max_pct','missing_instances_min_cnt','missing_instances_min_pct',\n",
        " 'missing_instances_mean','missing_instances_mean_pct']\n",
        "assembler = VectorAssembler(inputCols=numericCols, outputCol=\"features\")\n",
        "\n",
        "\n",
        "# Transform the training data\n",
        "data = assembler.transform(data)\n",
        "\n",
        "\n",
        "\n",
        "\n"
      ],
      "metadata": {
        "id": "gv9fIE5mC5lc"
      },
      "execution_count": 10,
      "outputs": []
    },
    {
      "cell_type": "markdown",
      "source": [
        "### Cluster-based Undersampling\n",
        "\n"
      ],
      "metadata": {
        "id": "v4bXYSDEXvGM"
      }
    },
    {
      "cell_type": "code",
      "source": [
        "# Filter the data where `datesets_subject_main_match` is equal to zero\n",
        "filtered_data_0 = data.filter(col(\"datesets_subject_main_match\") == 0)\n",
        "\n",
        "# Show the filtered data\n",
        "filtered_data_0.show()\n",
        "\n"
      ],
      "metadata": {
        "colab": {
          "base_uri": "https://localhost:8080/"
        },
        "id": "S1VDzTTWWpQg",
        "outputId": "f6e0e47e-64e6-4a28-893f-5ece4c7e85db"
      },
      "execution_count": 11,
      "outputs": [
        {
          "output_type": "stream",
          "name": "stdout",
          "text": [
            "+-------------+--------------+--------------+----------------+----------------+----------------+----------------+------------------+-----------------+------------------+------------------+----------------+---------------+----------------+----------------+----------------+----------------+-------------------------+-------------------------+-------------------------+-------------------------+----------------------+--------------------------+---------------------------+-------------------------+--------------------+\n",
            "|num_instances|num_attributes|dimensionality|num_numeric_attr|pct_numeric_attr|num_nominal_attr|pct_nominal_attr|avg_nominal_values|sd_nominal_values|min_nominal_values|max_nominal_values|avg_numeric_mean|sd_numeric_mean|min_numeric_mean|max_numeric_mean|missing_attr_cnt|missing_attr_pct|missing_instances_max_cnt|missing_instances_max_pct|missing_instances_min_cnt|missing_instances_min_pct|missing_instances_mean|missing_instances_mean_pct|datesets_subject_main_match|datesets_duplicates_match|            features|\n",
            "+-------------+--------------+--------------+----------------+----------------+----------------+----------------+------------------+-----------------+------------------+------------------+----------------+---------------+----------------+----------------+----------------+----------------+-------------------------+-------------------------+-------------------------+-------------------------+----------------------+--------------------------+---------------------------+-------------------------+--------------------+\n",
            "|     0.747015|           0.0|      0.747015|             1.0|             1.0|        0.833333|        0.833333|          0.992834|         0.993118|          0.333333|          0.984317|             1.0|            1.0|             0.0|             1.0|             0.8|             0.8|                 0.870968|                 0.967357|                     0.95|                  0.80236|              0.911111|                  0.977512|                          0|                        0|[0.747015,0.0,0.7...|\n",
            "|     0.996786|      0.976654|      0.862327|             1.0|             1.0|        0.666667|        0.992218|          0.870246|         0.838809|               0.0|          0.671875|             1.0|            1.0|             1.0|             1.0|        0.990476|        0.592063|                  0.99177|                  0.60947|                      0.0|                 0.996786|              0.987738|                   0.73788|                          0|                        0|[0.996786,0.97665...|\n",
            "|     0.843658|      0.333333|      0.765487|             1.0|             1.0|        0.944444|        0.916667|          0.939203|              1.0|          0.962264|          0.603774|             1.0|            1.0|             0.0|             1.0|             1.0|             1.0|                      1.0|                      1.0|                      1.0|                      1.0|                   1.0|                       1.0|                          0|                        0|[0.843658,0.33333...|\n",
            "|    0.0678466|      0.333333|       0.28481|             1.0|             1.0|        0.833333|            0.75|         0.0333333|         0.891071|          0.333333|          0.809524|             1.0|            1.0|             1.0|             1.0|           0.375|        0.583333|                 0.851613|                 0.840813|                      0.5|                 0.533923|              0.626667|                  0.599494|                          0|                        0|[0.0678466,0.3333...|\n",
            "|     0.823009|     0.0555556|      0.812598|             1.0|             1.0|        0.166667|        0.117647|          0.121212|         0.838432|          0.333333|          0.761905|             1.0|            1.0|             1.0|             1.0|             1.0|             1.0|                      1.0|                      1.0|                      1.0|                      1.0|                   1.0|                       1.0|                          0|                        0|[0.823009,0.05555...|\n",
            "|     0.987917|      0.611111|      0.995301|             1.0|             1.0|        0.777778|        0.428571|          0.660819|         0.163264|               0.5|          0.142857|             1.0|            1.0|             1.0|             1.0|             1.0|             1.0|                      1.0|                      1.0|                      1.0|                      1.0|                   1.0|                       1.0|                          0|                        0|[0.987917,0.61111...|\n",
            "|     0.951703|      0.704918|      0.836325|             0.0|             0.0|        0.704918|             0.0|          0.934284|         0.954003|               0.5|          0.956967|             0.0|            0.0|             0.0|             0.0|        0.722222|       0.0586419|                 0.975303|                 0.488643|                 0.992593|                  0.84663|              0.984144|                  0.671701|                          0|                        0|[0.951703,0.70491...|\n",
            "|    0.0678466|      0.333333|       0.28481|             1.0|             1.0|        0.833333|            0.75|         0.0333333|         0.891071|          0.333333|          0.809524|             1.0|            1.0|             1.0|             1.0|           0.375|        0.583333|                 0.851613|                 0.840813|                      0.5|                 0.533923|              0.626667|                  0.599494|                          0|                        0|[0.0678466,0.3333...|\n",
            "|     0.687316|      0.444444|      0.437168|             1.0|             1.0|        0.944444|             0.9|          0.462963|              1.0|          0.666667|          0.714286|             1.0|            1.0|             1.0|             1.0|             1.0|             1.0|                      1.0|                      1.0|                      1.0|                      1.0|                   1.0|                       1.0|                          0|                        0|[0.687316,0.44444...|\n",
            "|     0.999669|      0.388889|      0.999798|             1.0|             1.0|        0.944444|        0.909091|          0.677778|              1.0|               0.8|           0.52381|             1.0|            1.0|             1.0|             1.0|             1.0|             1.0|                      1.0|                      1.0|                      1.0|                      1.0|                   1.0|                       1.0|                          0|                        0|[0.999669,0.38888...|\n",
            "|     0.997546|           0.5|      0.998773|             1.0|             1.0|        0.944444|        0.888889|          0.892593|              1.0|          0.933333|               0.3|             1.0|            1.0|             1.0|             1.0|             1.0|             1.0|                      1.0|                      1.0|                      1.0|                      1.0|                   1.0|                       1.0|                          0|                        0|[0.997546,0.5,0.9...|\n",
            "|      0.92569|      0.166667|      0.938075|             1.0|             1.0|             0.5|             0.4|          0.704082|         0.603636|               0.0|          0.461538|             1.0|            1.0|             1.0|             1.0|             0.8|            0.76|                 0.432258|                 0.957811|                 0.988636|                 0.847077|              0.530667|                  0.965124|                          0|                        0|[0.92569,0.166667...|\n",
            "|     0.918841|           0.5|      0.959421|             1.0|             1.0|        0.888889|        0.777778|          0.792115|          0.65379|          0.333333|              0.25|             1.0|            1.0|             0.0|             1.0|             1.0|             1.0|                      1.0|                      1.0|                      1.0|                      1.0|                   1.0|                       1.0|                          0|                        0|[0.918841,0.5,0.9...|\n",
            "|     0.961652|      0.222222|      0.950695|             1.0|             1.0|             1.0|             1.0|               1.0|              1.0|               1.0|               1.0|             1.0|            1.0|             1.0|             1.0|             1.0|             1.0|                      1.0|                      1.0|                      1.0|                      1.0|                   1.0|                       1.0|                          0|                        0|[0.961652,0.22222...|\n",
            "|     0.858407|      0.555556|      0.681416|             1.0|             1.0|        0.944444|           0.875|           0.93287|              1.0|          0.958333|            0.5625|             1.0|            1.0|             1.0|             1.0|             1.0|             1.0|                      1.0|                      1.0|                      1.0|                      1.0|                   1.0|                       1.0|                          0|                        0|[0.858407,0.55555...|\n",
            "|     0.383481|      0.555556|      0.279107|             1.0|             1.0|        0.944444|           0.875|          0.892593|              1.0|          0.933333|               0.3|             1.0|            1.0|             1.0|             1.0|             1.0|             1.0|                      1.0|                      1.0|                      1.0|                      1.0|                   1.0|                       1.0|                          0|                        0|[0.383481,0.55555...|\n",
            "|     0.705015|      0.666667|      0.115044|             0.0|             0.0|        0.666667|             0.0|           0.12069|         0.753402|               0.0|          0.761905|             0.0|            0.0|             0.0|             0.0|             1.0|             1.0|                      1.0|                      1.0|                      1.0|                      1.0|                   1.0|                       1.0|                          0|                        0|[0.705015,0.66666...|\n",
            "|    0.0678466|      0.333333|       0.28481|             1.0|             1.0|        0.833333|            0.75|         0.0333333|         0.891071|          0.333333|          0.809524|             1.0|            1.0|             1.0|             1.0|           0.375|        0.583333|                 0.851613|                 0.840813|                      0.5|                 0.533923|              0.626667|                  0.599494|                          0|                        0|[0.0678466,0.3333...|\n",
            "|     0.772861|      0.111111|      0.744469|             1.0|             1.0|        0.833333|          0.8125|          0.887597|         0.873601|               0.0|          0.727273|             1.0|            1.0|             1.0|             1.0|             1.0|             1.0|                      1.0|                      1.0|                      1.0|                      1.0|                   1.0|                       1.0|                          0|                        0|[0.772861,0.11111...|\n",
            "|     0.939345|      0.513514|      0.875321|             1.0|             1.0|        0.944444|        0.972973|           0.37931|              1.0|               0.0|          0.904762|             1.0|            1.0|             0.0|             1.0|             1.0|             1.0|                      1.0|                      1.0|                      1.0|                      1.0|                   1.0|                       1.0|                          0|                        0|[0.939345,0.51351...|\n",
            "+-------------+--------------+--------------+----------------+----------------+----------------+----------------+------------------+-----------------+------------------+------------------+----------------+---------------+----------------+----------------+----------------+----------------+-------------------------+-------------------------+-------------------------+-------------------------+----------------------+--------------------------+---------------------------+-------------------------+--------------------+\n",
            "only showing top 20 rows\n",
            "\n"
          ]
        }
      ]
    },
    {
      "cell_type": "code",
      "source": [
        "# Filter the data where `datesets_subject_main_match` is equal to one\n",
        "filtered_data_1 = data.filter(col(\"datesets_subject_main_match\") == 1)\n",
        "\n",
        "# Show the filtered data\n",
        "filtered_data_1.show()\n"
      ],
      "metadata": {
        "colab": {
          "base_uri": "https://localhost:8080/"
        },
        "id": "2F2QHpKFWpkb",
        "outputId": "29f3bb39-0adc-41d2-f930-848406d6ae71"
      },
      "execution_count": 12,
      "outputs": [
        {
          "output_type": "stream",
          "name": "stdout",
          "text": [
            "+-------------+--------------+--------------+----------------+----------------+----------------+----------------+------------------+-----------------+------------------+------------------+----------------+---------------+----------------+----------------+----------------+----------------+-------------------------+-------------------------+-------------------------+-------------------------+----------------------+--------------------------+---------------------------+-------------------------+--------------------+\n",
            "|num_instances|num_attributes|dimensionality|num_numeric_attr|pct_numeric_attr|num_nominal_attr|pct_nominal_attr|avg_nominal_values|sd_nominal_values|min_nominal_values|max_nominal_values|avg_numeric_mean|sd_numeric_mean|min_numeric_mean|max_numeric_mean|missing_attr_cnt|missing_attr_pct|missing_instances_max_cnt|missing_instances_max_pct|missing_instances_min_cnt|missing_instances_min_pct|missing_instances_mean|missing_instances_mean_pct|datesets_subject_main_match|datesets_duplicates_match|            features|\n",
            "+-------------+--------------+--------------+----------------+----------------+----------------+----------------+------------------+-----------------+------------------+------------------+----------------+---------------+----------------+----------------+----------------+----------------+-------------------------+-------------------------+-------------------------+-------------------------+----------------------+--------------------------+---------------------------+-------------------------+--------------------+\n",
            "|    0.0855457|      0.611111|      0.574731|             1.0|             1.0|        0.944444|        0.857143|           0.37931|              1.0|               0.0|          0.904762|             1.0|            1.0|             1.0|             1.0|             1.0|             1.0|                      1.0|                      1.0|                      1.0|                      1.0|                   1.0|                       1.0|                          1|                        0|[0.0855457,0.6111...|\n",
            "|     0.404218|      0.419355|     0.0254068|             1.0|             1.0|        0.944444|        0.967742|           0.37931|              1.0|               0.0|          0.904762|             1.0|            1.0|             0.0|             1.0|             1.0|             1.0|                      1.0|                      1.0|                      1.0|                      1.0|                   1.0|                       1.0|                          1|                        0|[0.404218,0.41935...|\n",
            "|     0.616519|      0.444444|      0.309735|             1.0|             1.0|        0.833333|             0.7|           0.37931|              1.0|               0.0|          0.904762|             1.0|            1.0|             0.0|             1.0|        0.285714|        0.603175|                 0.632258|                0.0410422|                      0.0|                 0.616519|                 0.224|                  0.505824|                          1|                        0|[0.616519,0.44444...|\n",
            "|     0.156342|      0.444444|      0.341492|             1.0|             1.0|        0.555556|             0.2|          0.303303|         0.159079|               0.0|          0.142857|             1.0|            1.0|             1.0|             1.0|             0.6|            0.28|                 0.948387|                 0.938822|                      0.0|                 0.156342|                 0.928|                  0.914657|                          1|                        0|[0.156342,0.44444...|\n",
            "|    0.0855457|      0.611111|      0.574731|             1.0|             1.0|        0.944444|        0.857143|         0.0689655|              1.0|          0.333333|          0.857143|             1.0|            1.0|             1.0|             1.0|             1.0|             1.0|                      1.0|                      1.0|                      1.0|                      1.0|                   1.0|                       1.0|                          1|                        0|[0.0855457,0.6111...|\n",
            "|     0.832278|           0.0|      0.832278|        0.181818|        0.181818|        0.666667|        0.666667|          0.937107|              1.0|          0.943396|          0.924528|        0.733892|       0.764294|             1.0|          0.7625|             1.0|             1.0|                      1.0|                      1.0|                      1.0|                      1.0|                   1.0|                       1.0|                          1|                        0|[0.832278,0.0,0.8...|\n",
            "|          0.0|           0.0|           0.0|             0.0|             0.0|             0.0|             0.0|               0.0|              0.0|               0.0|               0.0|       0.0119904|     0.00817033|        0.666667|             0.0|             0.0|             0.0|                      0.0|                      0.0|                      0.0|                      0.0|                   0.0|                       0.0|                          1|                        1|(23,[11,12,13],[0...|\n",
            "|          0.0|           0.0|           0.0|             0.0|             0.0|             0.0|             0.0|               0.0|              0.0|               0.0|               0.0|       0.0119904|     0.00817033|        0.666667|             0.0|             0.0|             0.0|                      0.0|                      0.0|                      0.0|                      0.0|                   0.0|                       0.0|                          1|                        1|(23,[11,12,13],[0...|\n",
            "|          0.0|           0.0|           0.0|             0.0|             0.0|             0.0|             0.0|               0.0|              0.0|               0.0|               0.0|       0.0024213|     0.00169685|             0.5|             0.0|             0.0|             0.0|                      0.0|                      0.0|                      0.0|                      0.0|                   0.0|                       0.0|                          1|                        1|(23,[11,12,13],[0...|\n",
            "|      0.35005|      0.754098|      0.621661|             1.0|             1.0|        0.852459|             0.4|          0.777926|         0.883952|               0.5|          0.920082|             1.0|            1.0|             1.0|             1.0|        0.944444|        0.774074|                 0.985978|                 0.978427|                 0.348148|               0.00291742|              0.992558|                   0.98855|                          1|                        0|[0.35005,0.754098...|\n",
            "|     0.784435|      0.737705|      0.943458|             1.0|             1.0|        0.852459|          0.4375|          0.771128|         0.878217|               0.5|          0.915984|             1.0|            1.0|             1.0|             1.0|        0.833333|        0.364583|                 0.706342|                 0.936698|                 0.768439|                0.0690802|              0.662108|                  0.927162|                          1|                        0|[0.784435,0.73770...|\n",
            "|     0.923921|      0.819672|      0.578106|             1.0|             1.0|        0.885246|        0.363636|           0.94173|         0.985595|               0.5|          0.987705|             1.0|            1.0|             1.0|             1.0|             1.0|             1.0|                      1.0|                      1.0|                      1.0|                      1.0|                   1.0|                       1.0|                          1|                        0|[0.923921,0.81967...|\n",
            "|     0.835304|      0.901639|      0.402774|             1.0|             1.0|        0.934426|        0.333333|          0.806252|         0.920284|               0.5|          0.965164|             1.0|            1.0|             1.0|             1.0|             1.0|             1.0|                      1.0|                      1.0|                      1.0|                      1.0|                   1.0|                       1.0|                          1|                        0|[0.835304,0.90163...|\n",
            "|     0.928765|      0.901639|      0.275775|             1.0|             1.0|        0.934426|        0.333333|          0.913323|         0.964449|               0.5|          0.979508|             1.0|            1.0|             1.0|             1.0|        0.888889|        0.114754|                 0.995857|                 0.941844|                 0.955556|                 0.376089|              0.993235|                   0.90503|                          1|                        0|[0.928765,0.90163...|\n",
            "|     0.856292|      0.754098|      0.964662|             1.0|             1.0|        0.852459|             0.4|          0.771128|         0.878217|               0.5|          0.915984|             1.0|            1.0|             1.0|             1.0|        0.833333|        0.322222|                 0.552422|                 0.935679|                 0.842474|                0.0877186|              0.453285|                  0.921432|                          1|                        0|[0.856292,0.75409...|\n",
            "|     0.832278|           0.0|      0.832278|        0.181818|        0.181818|        0.666667|        0.666667|          0.937107|              1.0|          0.943396|          0.924528|        0.737083|       0.762353|             1.0|          0.7625|             1.0|             1.0|                      1.0|                      1.0|                      1.0|                      1.0|                   1.0|                       1.0|                          1|                        0|[0.832278,0.0,0.8...|\n",
            "|          0.0|           0.0|           0.0|             0.0|             0.0|             0.0|             0.0|               0.0|              0.0|               0.0|               0.0|             0.0|            0.0|             0.0|             0.0|             0.0|             0.0|                      0.0|                      0.0|                      0.0|                      0.0|                   0.0|                       0.0|                          1|                        1|          (23,[],[])|\n",
            "|          0.0|           0.0|           0.0|             0.0|             0.0|             0.0|             0.0|               0.0|              0.0|               0.0|               0.0|      0.00959229|     0.00648448|        0.333333|             0.0|             0.0|             0.0|                      0.0|                      0.0|                      0.0|                      0.0|                   0.0|                       0.0|                          1|                        1|(23,[11,12,13],[0...|\n",
            "|     0.859894|        0.0625|      0.850553|        0.142857|       0.0857143|             0.0|          0.0625|         0.0297029|        0.0470935|               0.0|         0.0487805|         0.07677|      0.0771673|             0.0|      0.00679831|        0.666667|        0.644444|                 0.952252|                   0.6592|                 0.849057|                0.0717961|              0.977976|                  0.842804|                          1|                        0|[0.859894,0.0625,...|\n",
            "|     0.906597|           0.0|      0.906597|             0.0|             0.0|             0.0|             0.0|         0.0297029|        0.0470935|               0.0|         0.0487805|      0.00806868|     0.00726245|             0.0|      0.00739492|        0.666667|        0.666667|                 0.968672|                 0.664595|                 0.897316|                0.0903801|              0.986388|                  0.854269|                          1|                        0|[0.906597,0.0,0.9...|\n",
            "+-------------+--------------+--------------+----------------+----------------+----------------+----------------+------------------+-----------------+------------------+------------------+----------------+---------------+----------------+----------------+----------------+----------------+-------------------------+-------------------------+-------------------------+-------------------------+----------------------+--------------------------+---------------------------+-------------------------+--------------------+\n",
            "only showing top 20 rows\n",
            "\n"
          ]
        }
      ]
    },
    {
      "cell_type": "code",
      "source": [
        "#Standard scaling the filtered datasets\n",
        "scale=StandardScaler(inputCol='features',outputCol='standardized')\n",
        "data_scale=scale.fit(filtered_data_0)\n",
        "data_scale_output_0=data_scale.transform(filtered_data_0)\n",
        "data_scale_output_0.show(2)"
      ],
      "metadata": {
        "id": "LAFw05YsC6Io",
        "colab": {
          "base_uri": "https://localhost:8080/"
        },
        "outputId": "1ec0a62e-fecc-4317-8f57-b524c56d916c"
      },
      "execution_count": 13,
      "outputs": [
        {
          "output_type": "stream",
          "name": "stdout",
          "text": [
            "+-------------+--------------+--------------+----------------+----------------+----------------+----------------+------------------+-----------------+------------------+------------------+----------------+---------------+----------------+----------------+----------------+----------------+-------------------------+-------------------------+-------------------------+-------------------------+----------------------+--------------------------+---------------------------+-------------------------+--------------------+--------------------+\n",
            "|num_instances|num_attributes|dimensionality|num_numeric_attr|pct_numeric_attr|num_nominal_attr|pct_nominal_attr|avg_nominal_values|sd_nominal_values|min_nominal_values|max_nominal_values|avg_numeric_mean|sd_numeric_mean|min_numeric_mean|max_numeric_mean|missing_attr_cnt|missing_attr_pct|missing_instances_max_cnt|missing_instances_max_pct|missing_instances_min_cnt|missing_instances_min_pct|missing_instances_mean|missing_instances_mean_pct|datesets_subject_main_match|datesets_duplicates_match|            features|        standardized|\n",
            "+-------------+--------------+--------------+----------------+----------------+----------------+----------------+------------------+-----------------+------------------+------------------+----------------+---------------+----------------+----------------+----------------+----------------+-------------------------+-------------------------+-------------------------+-------------------------+----------------------+--------------------------+---------------------------+-------------------------+--------------------+--------------------+\n",
            "|     0.747015|           0.0|      0.747015|             1.0|             1.0|        0.833333|        0.833333|          0.992834|         0.993118|          0.333333|          0.984317|             1.0|            1.0|             0.0|             1.0|             0.8|             0.8|                 0.870968|                 0.967357|                     0.95|                  0.80236|              0.911111|                  0.977512|                          0|                        0|[0.747015,0.0,0.7...|[2.87404659892467...|\n",
            "|     0.996786|      0.976654|      0.862327|             1.0|             1.0|        0.666667|        0.992218|          0.870246|         0.838809|               0.0|          0.671875|             1.0|            1.0|             1.0|             1.0|        0.990476|        0.592063|                  0.99177|                  0.60947|                      0.0|                 0.996786|              0.987738|                   0.73788|                          0|                        0|[0.996786,0.97665...|[3.83500922090685...|\n",
            "+-------------+--------------+--------------+----------------+----------------+----------------+----------------+------------------+-----------------+------------------+------------------+----------------+---------------+----------------+----------------+----------------+----------------+-------------------------+-------------------------+-------------------------+-------------------------+----------------------+--------------------------+---------------------------+-------------------------+--------------------+--------------------+\n",
            "only showing top 2 rows\n",
            "\n"
          ]
        }
      ]
    },
    {
      "cell_type": "code",
      "source": [
        "#Standard scaling the filtered datasets\n",
        "scale=StandardScaler(inputCol='features',outputCol='standardized')\n",
        "data_scale=scale.fit(filtered_data_1)\n",
        "data_scale_output_1=data_scale.transform(filtered_data_1)\n",
        "data_scale_output_1.show(2)"
      ],
      "metadata": {
        "colab": {
          "base_uri": "https://localhost:8080/"
        },
        "id": "Pk0lLDtrcpx8",
        "outputId": "f19e0103-6538-4252-9b9e-dbcf32dffa88"
      },
      "execution_count": 14,
      "outputs": [
        {
          "output_type": "stream",
          "name": "stdout",
          "text": [
            "+-------------+--------------+--------------+----------------+----------------+----------------+----------------+------------------+-----------------+------------------+------------------+----------------+---------------+----------------+----------------+----------------+----------------+-------------------------+-------------------------+-------------------------+-------------------------+----------------------+--------------------------+---------------------------+-------------------------+--------------------+--------------------+\n",
            "|num_instances|num_attributes|dimensionality|num_numeric_attr|pct_numeric_attr|num_nominal_attr|pct_nominal_attr|avg_nominal_values|sd_nominal_values|min_nominal_values|max_nominal_values|avg_numeric_mean|sd_numeric_mean|min_numeric_mean|max_numeric_mean|missing_attr_cnt|missing_attr_pct|missing_instances_max_cnt|missing_instances_max_pct|missing_instances_min_cnt|missing_instances_min_pct|missing_instances_mean|missing_instances_mean_pct|datesets_subject_main_match|datesets_duplicates_match|            features|        standardized|\n",
            "+-------------+--------------+--------------+----------------+----------------+----------------+----------------+------------------+-----------------+------------------+------------------+----------------+---------------+----------------+----------------+----------------+----------------+-------------------------+-------------------------+-------------------------+-------------------------+----------------------+--------------------------+---------------------------+-------------------------+--------------------+--------------------+\n",
            "|    0.0855457|      0.611111|      0.574731|             1.0|             1.0|        0.944444|        0.857143|           0.37931|              1.0|               0.0|          0.904762|             1.0|            1.0|             1.0|             1.0|             1.0|             1.0|                      1.0|                      1.0|                      1.0|                      1.0|                   1.0|                       1.0|                          1|                        0|[0.0855457,0.6111...|[0.23804101607296...|\n",
            "|     0.404218|      0.419355|     0.0254068|             1.0|             1.0|        0.944444|        0.967742|           0.37931|              1.0|               0.0|          0.904762|             1.0|            1.0|             0.0|             1.0|             1.0|             1.0|                      1.0|                      1.0|                      1.0|                      1.0|                   1.0|                       1.0|                          1|                        0|[0.404218,0.41935...|[1.12478433673441...|\n",
            "+-------------+--------------+--------------+----------------+----------------+----------------+----------------+------------------+-----------------+------------------+------------------+----------------+---------------+----------------+----------------+----------------+----------------+-------------------------+-------------------------+-------------------------+-------------------------+----------------------+--------------------------+---------------------------+-------------------------+--------------------+--------------------+\n",
            "only showing top 2 rows\n",
            "\n"
          ]
        }
      ]
    },
    {
      "cell_type": "markdown",
      "source": [
        "## Clustering Dataset Using Kmeans\n",
        "Choice of K based on Elbow Method"
      ],
      "metadata": {
        "id": "XIDZohY8Ysb5"
      }
    },
    {
      "cell_type": "code",
      "source": [
        "# Create an empty list to store the SSE (Sum of Squared Errors) values\n",
        "sse = []\n",
        "\n",
        "# Define the range of cluster numbers to evaluate\n",
        "k_values = range(2, 11)  # Range from 2 to 10 clusters\n",
        "\n",
        "# Iterate over each cluster number\n",
        "for k in k_values:\n",
        "    # Create a KMeans instance with the current cluster number\n",
        "    kmeans = KMeans(featuresCol='standardized', k=k)\n",
        "    \n",
        "    # Fit the KMeans model to the data\n",
        "    model = kmeans.fit(data_scale_output_0)\n",
        "    \n",
        "    # Make predictions on the data\n",
        "    predictions = model.transform(data_scale_output_0)\n",
        "    \n",
        "    # Evaluate the clustering performance using the SSE metric\n",
        "    evaluator = ClusteringEvaluator()\n",
        "    sse_value = evaluator.evaluate(predictions)\n",
        "    sse.append(sse_value)\n",
        "\n",
        "# Plot the SSE values against the number of clusters\n",
        "plt.plot(k_values, sse, 'bo-')\n",
        "plt.xlabel('Number of Clusters (k)')\n",
        "plt.ylabel('Sum of Squared Errors (SSE)')\n",
        "plt.title('Elbow Method')\n",
        "plt.show()\n",
        "\n",
        "\n"
      ],
      "metadata": {
        "colab": {
          "base_uri": "https://localhost:8080/",
          "height": 472
        },
        "id": "GOfaSJBThBew",
        "outputId": "b8b43114-3ec1-493e-8615-c9c57e9fbea9"
      },
      "execution_count": 15,
      "outputs": [
        {
          "output_type": "display_data",
          "data": {
            "text/plain": [
              "<Figure size 640x480 with 1 Axes>"
            ],
            "image/png": "[encoded data removed]"
          },
          "metadata": {}
        }
      ]
    },
    {
      "cell_type": "markdown",
      "source": [
        "## Clustering Dataset Using Kmeans\n",
        "Choice of K based on Silhouette Score Cost Function\n"
      ],
      "metadata": {
        "id": "8LcOTw2yYy_a"
      }
    },
    {
      "cell_type": "code",
      "source": [
        "silhouette_score=[]\n",
        "evaluator = ClusteringEvaluator(predictionCol='prediction', featuresCol='standardized', \\\n",
        "                                metricName='silhouette', distanceMeasure='squaredEuclidean')\n",
        "for i in range(2,10):\n",
        "    \n",
        "    KMeans_algo=KMeans(featuresCol='standardized', k=i)\n",
        "    \n",
        "    KMeans_fit=KMeans_algo.fit(data_scale_output_0)\n",
        "    \n",
        "    output=KMeans_fit.transform(data_scale_output_0)\n",
        "     \n",
        "    score=evaluator.evaluate(output)\n",
        "    \n",
        "    silhouette_score.append(score)\n",
        "    \n",
        "    print(\"Silhouette Score:\",score)\n",
        "\n",
        "\n",
        "    "
      ],
      "metadata": {
        "id": "QKyviiSsAXWS",
        "colab": {
          "base_uri": "https://localhost:8080/"
        },
        "outputId": "226c69b9-852a-4682-af21-1c5a4b08fa75"
      },
      "execution_count": 16,
      "outputs": [
        {
          "output_type": "stream",
          "name": "stdout",
          "text": [
            "Silhouette Score: 0.5310452052177468\n",
            "Silhouette Score: 0.3868890150156123\n",
            "Silhouette Score: 0.388879258861108\n",
            "Silhouette Score: 0.36809990544082616\n",
            "Silhouette Score: 0.33051978956491174\n",
            "Silhouette Score: 0.2826333044404846\n",
            "Silhouette Score: 0.25961586468063663\n",
            "Silhouette Score: 0.2188173158685795\n"
          ]
        }
      ]
    },
    {
      "cell_type": "code",
      "execution_count": 30,
      "metadata": {
        "id": "Xn33j2GN-CXm",
        "colab": {
          "base_uri": "https://localhost:8080/",
          "height": 1000
        },
        "outputId": "3f528d93-6e8a-4bf7-efe4-d031febcc51a"
      },
      "outputs": [
        {
          "output_type": "execute_result",
          "data": {
            "text/plain": [
              "Text(0, 0.5, 'cost')"
            ]
          },
          "metadata": {},
          "execution_count": 17
        },
        {
          "output_type": "display_data",
          "data": {
            "text/plain": [
              "<Figure size 800x600 with 1 Axes>"
            ],
            "image/png": "[encoded data removed]"
          },
          "metadata": {}
        },
        {
          "output_type": "execute_result",
          "data": {
            "text/plain": [
              "Text(0, 0.5, 'cost')"
            ]
          },
          "metadata": {},
          "execution_count": 30
        },
        {
          "output_type": "display_data",
          "data": {
            "text/plain": [
              "<Figure size 800x600 with 1 Axes>"
            ],
            "image/png": "[encoded data removed]"
          },
          "metadata": {}
        }
      ],
      "source": [
        "#Visualizing the silhouette scores in a plot\n",
        "import matplotlib.pyplot as plt\n",
        "fig, ax = plt.subplots(1,1, figsize =(8,6))\n",
        "ax.plot(range(2,10),silhouette_score)\n",
        "ax.set_xlabel(\"k\")\n",
        "ax.set_ylabel(\"cost\")"
      ]
    },
    {
      "cell_type": "code",
      "source": [
        "# Perform cluster sampling from the different clusters\n",
        "sampling_ratio = 0.05  # Define the sampling ratio, e.g., 80% of the data\n",
        "seed = 42  # Set a seed for reproducibility\n",
        "\n",
        "# Get the cluster labels from the output DataFrame\n",
        "cluster_labels = output.select(\"prediction\").distinct().rdd.flatMap(lambda x: x).collect()\n",
        "\n",
        "# Perform sampling from each cluster\n",
        "sampled_data = None\n",
        "\n",
        "for label in cluster_labels:\n",
        "    # Filter the data based on the cluster label\n",
        "    cluster_data = output.filter(col(\"prediction\") == label)\n",
        "    \n",
        "    # Perform cluster sampling on the cluster data\n",
        "    cluster_sample = cluster_data.sample(False, sampling_ratio, seed)\n",
        "    \n",
        "    # Union the sampled data with the previous clusters' sampled data\n",
        "    if sampled_data is None:\n",
        "        sampled_data = cluster_sample\n",
        "    else:\n",
        "        sampled_data = sampled_data.union(cluster_sample)\n",
        "\n",
        "# Show the sampled data\n",
        "sampled_data.show()\n"
      ],
      "metadata": {
        "id": "fiwKhDA7GvAC",
        "colab": {
          "base_uri": "https://localhost:8080/"
        },
        "outputId": "fa849865-00d2-4308-88a1-e7c01b4a86cc"
      },
      "execution_count": 18,
      "outputs": [
        {
          "output_type": "stream",
          "name": "stdout",
          "text": [
            "+-------------+--------------+--------------+----------------+----------------+----------------+----------------+------------------+-----------------+------------------+------------------+----------------+---------------+----------------+----------------+----------------+----------------+-------------------------+-------------------------+-------------------------+-------------------------+----------------------+--------------------------+---------------------------+-------------------------+--------------------+--------------------+----------+\n",
            "|num_instances|num_attributes|dimensionality|num_numeric_attr|pct_numeric_attr|num_nominal_attr|pct_nominal_attr|avg_nominal_values|sd_nominal_values|min_nominal_values|max_nominal_values|avg_numeric_mean|sd_numeric_mean|min_numeric_mean|max_numeric_mean|missing_attr_cnt|missing_attr_pct|missing_instances_max_cnt|missing_instances_max_pct|missing_instances_min_cnt|missing_instances_min_pct|missing_instances_mean|missing_instances_mean_pct|datesets_subject_main_match|datesets_duplicates_match|            features|        standardized|prediction|\n",
            "+-------------+--------------+--------------+----------------+----------------+----------------+----------------+------------------+-----------------+------------------+------------------+----------------+---------------+----------------+----------------+----------------+----------------+-------------------------+-------------------------+-------------------------+-------------------------+----------------------+--------------------------+---------------------------+-------------------------+--------------------+--------------------+----------+\n",
            "|     0.380531|      0.555556|       0.28254|             1.0|             1.0|        0.944444|           0.875|         0.0689655|              1.0|          0.333333|          0.857143|             1.0|            1.0|             1.0|             1.0|             1.0|             1.0|                      1.0|                      1.0|                      1.0|                      1.0|                   1.0|                       1.0|                          0|                        0|[0.380531,0.55555...|[1.46404533554936...|         1|\n",
            "|     0.541139|      0.873684|      0.942039|        0.904255|        0.242021|        0.666667|        0.957895|               0.4|              1.0|          0.333333|               0.5|        0.964526|       0.993476|             1.0|        0.997902|             1.0|             1.0|                      1.0|                      1.0|                      1.0|                      1.0|                   1.0|                       1.0|                          0|                        0|[0.541139,0.87368...|[2.08196448865886...|         1|\n",
            "|     0.490506|           0.7|      0.847152|        0.769231|        0.230769|        0.666667|             0.9|               0.4|              1.0|          0.333333|               0.5|        0.970013|        0.99376|             1.0|        0.997074|             1.0|             1.0|                      1.0|                      1.0|                      1.0|                      1.0|                   1.0|                       1.0|                          0|                        0|[0.490506,0.7,0.8...|[1.88716036632751...|         1|\n",
            "|     0.924348|          0.25|      0.943261|        0.222222|       0.0357143|        0.333333|        0.111111|               0.1|              1.0|               0.0|              0.25|        0.993759|       0.991619|             1.0|         0.99375|             1.0|             1.0|                      1.0|                      1.0|                      1.0|                      1.0|                   1.0|                       1.0|                          0|                        0|[0.924348,0.25,0....|[3.55631309360967...|         1|\n",
            "|     0.942082|          0.75|      0.985521|        0.777778|        0.111111|        0.666667|            0.25|          0.166667|              1.0|              0.25|               0.0|        0.978155|            1.0|             0.0|         0.99375|             1.0|             1.0|                      1.0|                      1.0|                      1.0|                      1.0|                   1.0|                       1.0|                          0|                        0|[0.942082,0.75,0....|[3.62454243624044...|         1|\n",
            "|        0.368|     0.0769231|      0.315333|        0.888889|        0.897436|            0.75|        0.729167|          0.759036|         0.936612|          0.333333|              0.84|        0.912621|            1.0|            0.75|           0.975|             1.0|             1.0|                      1.0|                      1.0|                      1.0|                      1.0|                   1.0|                       1.0|                          0|                        0|[0.368,0.0769231,...|[1.41583388339495...|         1|\n",
            "|     0.192905|      0.721311|      0.654702|             1.0|             1.0|        0.754098|        0.117647|          0.722635|         0.702173|               0.5|          0.790984|             1.0|            1.0|             1.0|             1.0|             1.0|             1.0|                      1.0|                      1.0|                      1.0|                      1.0|                   1.0|                       1.0|                          0|                        0|[0.192905,0.72131...|[0.74217781325082...|         1|\n",
            "|     0.993011|      0.294118|      0.990098|        0.222222|         0.45098|             0.7|           0.575|          0.275362|         0.875078|          0.333333|          0.666667|        0.811544|       0.884586|        0.666667|        0.882526|             1.0|             1.0|                      1.0|                      1.0|                      1.0|                      1.0|                   1.0|                       1.0|                          0|                        0|[0.993011,0.29411...|[3.82048538147800...|         1|\n",
            "|     0.827394|      0.487179|      0.663419|             0.0|        0.487179|        0.575758|        0.172727|          0.181818|              1.0|               1.0|          0.714286|        0.857075|       0.921663|             0.0|        0.916865|        0.482759|      0.00854706|                  0.92539|                 0.567742|                 0.988372|                 0.932633|              0.985315|                  0.914919|                          0|                        0|[0.827394,0.48717...|[3.18329472858066...|         1|\n",
            "|     0.956746|      0.980545|      0.550205|        0.992157|        0.596863|        0.333333|         0.98703|          0.561521|         0.593325|               0.0|          0.390625|        0.999836|       0.999882|             1.0|        0.999911|        0.998095|        0.902095|                 0.995327|                 0.891971|                 0.988636|                 0.999509|              0.994245|                  0.866947|                          0|                        0|[0.956746,0.98054...|[3.68096033859399...|         1|\n",
            "|     0.983121|        0.0625|      0.984176|        0.538462|        0.507692|        0.666667|          0.6875|          0.620155|         0.681103|               0.0|          0.493506|        0.998883|       0.999297|             0.9|        0.999163|             1.0|             1.0|                      1.0|                      1.0|                      1.0|                      1.0|                   1.0|                       1.0|                          0|                        0|[0.983121,0.0625,...|[3.78243484586176...|         1|\n",
            "|     0.582846|      0.464286|      0.221312|            0.75|        0.533333|        0.555556|        0.761905|          0.793367|         0.960341|               0.0|          0.923077|        0.989108|       0.984881|             1.0|        0.971378|             1.0|             1.0|                      1.0|                      1.0|                      1.0|                      1.0|                   1.0|                       1.0|                          0|                        0|[0.582846,0.46428...|[2.24242694456852...|         1|\n",
            "|     0.839119|           0.1|      0.855207|        0.285714|        0.357143|             0.6|        0.555556|          0.187097|       0.00881016|          0.666667|               0.0|        0.990079|       0.985535|             1.0|        0.988889|             1.0|             1.0|                      1.0|                      1.0|                      1.0|                      1.0|                   1.0|                       1.0|                          0|                        0|[0.839119,0.1,0.8...|[3.22840519674046...|         1|\n",
            "|     0.997953|           0.6|      0.994881|             1.0|             1.0|        0.333333|             0.4|          0.747525|          0.90686|               0.0|          0.878049|             1.0|            1.0|             1.0|             1.0|             1.0|             1.0|                      1.0|                      1.0|                      1.0|                      1.0|                   1.0|                       1.0|                          0|                        0|[0.997953,0.6,0.9...|[3.83949910716207...|         1|\n",
            "|     0.990295|          0.25|       0.98706|        0.222222|        0.416667|        0.666667|        0.555556|           0.70297|         0.958858|          0.333333|          0.902439|        0.998432|       0.999187|             0.7|        0.999157|           0.625|         0.71875|                  0.98752|                 0.222345|                 0.996569|                 0.646514|              0.982481|                  0.446043|                          0|                        0|[0.990295,0.25,0....|[3.81003591183860...|         1|\n",
            "|     0.769679|      0.583333|      0.904033|        0.555556|          0.0625|        0.666667|             0.2|               0.4|              1.0|          0.333333|               0.5|        0.989234|       0.979055|             1.0|          0.9875|             1.0|             1.0|                      1.0|                      1.0|                      1.0|                      1.0|                   1.0|                       1.0|                          0|                        0|[0.769679,0.58333...|[2.96124349874332...|         1|\n",
            "|     0.875296|      0.835616|      0.241384|           0.875|        0.239583|        0.666667|        0.945205|               0.4|              1.0|          0.333333|               0.5|        0.843372|       0.962135|             1.0|        0.984258|             1.0|             1.0|                      1.0|                      1.0|                      1.0|                      1.0|                   1.0|                       1.0|                          0|                        0|[0.875296,0.83561...|[3.36759167065236...|         1|\n",
            "|     0.424051|     0.0769231|      0.468354|            0.25|          0.1875|        0.666667|        0.692308|               0.4|              1.0|          0.333333|               0.5|             1.0|            1.0|             1.0|             1.0|             1.0|             1.0|                      1.0|                      1.0|                      1.0|                      1.0|                   1.0|                       1.0|                          0|                        0|[0.424051,0.07692...|[1.63148308175954...|         1|\n",
            "|     0.481013|      0.868132|      0.931562|             0.9|        0.241667|        0.666667|        0.956044|          0.333333|              1.0|               0.4|               0.2|             1.0|       0.284856|             1.0|         0.95625|             1.0|             1.0|                      1.0|                      1.0|                      1.0|                      1.0|                   1.0|                       1.0|                          0|                        0|[0.481013,0.86813...|[1.85063723846048...|         1|\n",
            "|     0.138356|        0.5625|       0.49225|        0.571429|       0.0204082|        0.555556|        0.015625|          0.153465|         0.548606|               0.5|          0.560976|        0.999876|       0.999981|             0.8|        0.999974|             1.0|             1.0|                      1.0|                      1.0|                      1.0|                      1.0|                   1.0|                       1.0|                          0|                        0|[0.138356,0.5625,...|[0.53230737166030...|         1|\n",
            "+-------------+--------------+--------------+----------------+----------------+----------------+----------------+------------------+-----------------+------------------+------------------+----------------+---------------+----------------+----------------+----------------+----------------+-------------------------+-------------------------+-------------------------+-------------------------+----------------------+--------------------------+---------------------------+-------------------------+--------------------+--------------------+----------+\n",
            "only showing top 20 rows\n",
            "\n"
          ]
        }
      ]
    },
    {
      "cell_type": "code",
      "source": [
        "rows = sampled_data.count()\n",
        "print(f\"DataFrame Rows count : {rows}\") \n"
      ],
      "metadata": {
        "id": "E1CRsWCcPej7",
        "colab": {
          "base_uri": "https://localhost:8080/"
        },
        "outputId": "cb724db5-4441-40ac-9e20-d7b364d138ed"
      },
      "execution_count": 31,
      "outputs": [
        {
          "output_type": "stream",
          "name": "stdout",
          "text": [
            "DataFrame Rows count : 1252\n",
            "DataFrame Rows count : 1252\n"
          ]
        }
      ]
    },
    {
      "cell_type": "code",
      "source": [
        "filtered_data_1.dtypes"
      ],
      "metadata": {
        "id": "OBJtj03Hl-AZ",
        "colab": {
          "base_uri": "https://localhost:8080/"
        },
        "outputId": "a9b2d862-4af8-42ce-e928-7508fae39ef0"
      },
      "execution_count": 32,
      "outputs": [
        {
          "output_type": "execute_result",
          "data": {
            "text/plain": [
              "[('num_instances', 'double'),\n",
              " ('num_attributes', 'double'),\n",
              " ('dimensionality', 'double'),\n",
              " ('num_numeric_attr', 'double'),\n",
              " ('pct_numeric_attr', 'double'),\n",
              " ('num_nominal_attr', 'double'),\n",
              " ('pct_nominal_attr', 'double'),\n",
              " ('avg_nominal_values', 'double'),\n",
              " ('sd_nominal_values', 'double'),\n",
              " ('min_nominal_values', 'double'),\n",
              " ('max_nominal_values', 'double'),\n",
              " ('avg_numeric_mean', 'double'),\n",
              " ('sd_numeric_mean', 'double'),\n",
              " ('min_numeric_mean', 'double'),\n",
              " ('max_numeric_mean', 'double'),\n",
              " ('missing_attr_cnt', 'double'),\n",
              " ('missing_attr_pct', 'double'),\n",
              " ('missing_instances_max_cnt', 'double'),\n",
              " ('missing_instances_max_pct', 'double'),\n",
              " ('missing_instances_min_cnt', 'double'),\n",
              " ('missing_instances_min_pct', 'double'),\n",
              " ('missing_instances_mean', 'double'),\n",
              " ('missing_instances_mean_pct', 'double'),\n",
              " ('datesets_subject_main_match', 'int'),\n",
              " ('datesets_duplicates_match', 'int'),\n",
              " ('features', 'vector')]"
            ]
          },
          "metadata": {},
          "execution_count": 20
        },
        {
          "output_type": "execute_result",
          "data": {
            "text/plain": [
              "[('num_instances', 'double'),\n",
              " ('num_attributes', 'double'),\n",
              " ('dimensionality', 'double'),\n",
              " ('num_numeric_attr', 'double'),\n",
              " ('pct_numeric_attr', 'double'),\n",
              " ('num_nominal_attr', 'double'),\n",
              " ('pct_nominal_attr', 'double'),\n",
              " ('avg_nominal_values', 'double'),\n",
              " ('sd_nominal_values', 'double'),\n",
              " ('min_nominal_values', 'double'),\n",
              " ('max_nominal_values', 'double'),\n",
              " ('avg_numeric_mean', 'double'),\n",
              " ('sd_numeric_mean', 'double'),\n",
              " ('min_numeric_mean', 'double'),\n",
              " ('max_numeric_mean', 'double'),\n",
              " ('missing_attr_cnt', 'double'),\n",
              " ('missing_attr_pct', 'double'),\n",
              " ('missing_instances_max_cnt', 'double'),\n",
              " ('missing_instances_max_pct', 'double'),\n",
              " ('missing_instances_min_cnt', 'double'),\n",
              " ('missing_instances_min_pct', 'double'),\n",
              " ('missing_instances_mean', 'double'),\n",
              " ('missing_instances_mean_pct', 'double'),\n",
              " ('datesets_subject_main_match', 'int'),\n",
              " ('datesets_duplicates_match', 'int'),\n",
              " ('features', 'vector')]"
            ]
          },
          "metadata": {},
          "execution_count": 32
        }
      ]
    },
    {
      "cell_type": "code",
      "source": [
        "sampled_data.dtypes "
      ],
      "metadata": {
        "id": "Qi6opUlAlpWX",
        "colab": {
          "base_uri": "https://localhost:8080/"
        },
        "outputId": "b0ea934b-8659-4b76-de48-c3588b0a5259"
      },
      "execution_count": 33,
      "outputs": [
        {
          "output_type": "execute_result",
          "data": {
            "text/plain": [
              "[('num_instances', 'double'),\n",
              " ('num_attributes', 'double'),\n",
              " ('dimensionality', 'double'),\n",
              " ('num_numeric_attr', 'double'),\n",
              " ('pct_numeric_attr', 'double'),\n",
              " ('num_nominal_attr', 'double'),\n",
              " ('pct_nominal_attr', 'double'),\n",
              " ('avg_nominal_values', 'double'),\n",
              " ('sd_nominal_values', 'double'),\n",
              " ('min_nominal_values', 'double'),\n",
              " ('max_nominal_values', 'double'),\n",
              " ('avg_numeric_mean', 'double'),\n",
              " ('sd_numeric_mean', 'double'),\n",
              " ('min_numeric_mean', 'double'),\n",
              " ('max_numeric_mean', 'double'),\n",
              " ('missing_attr_cnt', 'double'),\n",
              " ('missing_attr_pct', 'double'),\n",
              " ('missing_instances_max_cnt', 'double'),\n",
              " ('missing_instances_max_pct', 'double'),\n",
              " ('missing_instances_min_cnt', 'double'),\n",
              " ('missing_instances_min_pct', 'double'),\n",
              " ('missing_instances_mean', 'double'),\n",
              " ('missing_instances_mean_pct', 'double'),\n",
              " ('datesets_subject_main_match', 'int'),\n",
              " ('datesets_duplicates_match', 'int'),\n",
              " ('features', 'vector'),\n",
              " ('standardized', 'vector'),\n",
              " ('prediction', 'int')]"
            ]
          },
          "metadata": {},
          "execution_count": 21
        },
        {
          "output_type": "execute_result",
          "data": {
            "text/plain": [
              "[('num_instances', 'double'),\n",
              " ('num_attributes', 'double'),\n",
              " ('dimensionality', 'double'),\n",
              " ('num_numeric_attr', 'double'),\n",
              " ('pct_numeric_attr', 'double'),\n",
              " ('num_nominal_attr', 'double'),\n",
              " ('pct_nominal_attr', 'double'),\n",
              " ('avg_nominal_values', 'double'),\n",
              " ('sd_nominal_values', 'double'),\n",
              " ('min_nominal_values', 'double'),\n",
              " ('max_nominal_values', 'double'),\n",
              " ('avg_numeric_mean', 'double'),\n",
              " ('sd_numeric_mean', 'double'),\n",
              " ('min_numeric_mean', 'double'),\n",
              " ('max_numeric_mean', 'double'),\n",
              " ('missing_attr_cnt', 'double'),\n",
              " ('missing_attr_pct', 'double'),\n",
              " ('missing_instances_max_cnt', 'double'),\n",
              " ('missing_instances_max_pct', 'double'),\n",
              " ('missing_instances_min_cnt', 'double'),\n",
              " ('missing_instances_min_pct', 'double'),\n",
              " ('missing_instances_mean', 'double'),\n",
              " ('missing_instances_mean_pct', 'double'),\n",
              " ('datesets_subject_main_match', 'int'),\n",
              " ('datesets_duplicates_match', 'int'),\n",
              " ('features', 'vector')]"
            ]
          },
          "metadata": {},
          "execution_count": 33
        }
      ]
    },
    {
      "cell_type": "code",
      "source": [
        "sampled_data=sampled_data.drop(\"standardized\",\"prediction\")\n",
        "sampled_data\n"
      ],
      "metadata": {
        "id": "MAj_DtBEmIHY",
        "colab": {
          "base_uri": "https://localhost:8080/",
          "height": 1000
        },
        "outputId": "c785e443-eccd-4832-9167-7ea550dc2acf"
      },
      "execution_count": 34,
      "outputs": [
        {
          "output_type": "execute_result",
          "data": {
            "text/plain": [
              "+-------------+--------------+--------------+----------------+----------------+----------------+----------------+------------------+-----------------+------------------+------------------+----------------+---------------+----------------+----------------+----------------+----------------+-------------------------+-------------------------+-------------------------+-------------------------+----------------------+--------------------------+---------------------------+-------------------------+--------------------+\n",
              "|num_instances|num_attributes|dimensionality|num_numeric_attr|pct_numeric_attr|num_nominal_attr|pct_nominal_attr|avg_nominal_values|sd_nominal_values|min_nominal_values|max_nominal_values|avg_numeric_mean|sd_numeric_mean|min_numeric_mean|max_numeric_mean|missing_attr_cnt|missing_attr_pct|missing_instances_max_cnt|missing_instances_max_pct|missing_instances_min_cnt|missing_instances_min_pct|missing_instances_mean|missing_instances_mean_pct|datesets_subject_main_match|datesets_duplicates_match|            features|\n",
              "+-------------+--------------+--------------+----------------+----------------+----------------+----------------+------------------+-----------------+------------------+------------------+----------------+---------------+----------------+----------------+----------------+----------------+-------------------------+-------------------------+-------------------------+-------------------------+----------------------+--------------------------+---------------------------+-------------------------+--------------------+\n",
              "|     0.380531|      0.555556|       0.28254|             1.0|             1.0|        0.944444|           0.875|         0.0689655|              1.0|          0.333333|          0.857143|             1.0|            1.0|             1.0|             1.0|             1.0|             1.0|                      1.0|                      1.0|                      1.0|                      1.0|                   1.0|                       1.0|                          0|                        0|[0.380531,0.55555...|\n",
              "|     0.541139|      0.873684|      0.942039|        0.904255|        0.242021|        0.666667|        0.957895|               0.4|              1.0|          0.333333|               0.5|        0.964526|       0.993476|             1.0|        0.997902|             1.0|             1.0|                      1.0|                      1.0|                      1.0|                      1.0|                   1.0|                       1.0|                          0|                        0|[0.541139,0.87368...|\n",
              "|     0.490506|           0.7|      0.847152|        0.769231|        0.230769|        0.666667|             0.9|               0.4|              1.0|          0.333333|               0.5|        0.970013|        0.99376|             1.0|        0.997074|             1.0|             1.0|                      1.0|                      1.0|                      1.0|                      1.0|                   1.0|                       1.0|                          0|                        0|[0.490506,0.7,0.8...|\n",
              "|     0.924348|          0.25|      0.943261|        0.222222|       0.0357143|        0.333333|        0.111111|               0.1|              1.0|               0.0|              0.25|        0.993759|       0.991619|             1.0|         0.99375|             1.0|             1.0|                      1.0|                      1.0|                      1.0|                      1.0|                   1.0|                       1.0|                          0|                        0|[0.924348,0.25,0....|\n",
              "|     0.942082|          0.75|      0.985521|        0.777778|        0.111111|        0.666667|            0.25|          0.166667|              1.0|              0.25|               0.0|        0.978155|            1.0|             0.0|         0.99375|             1.0|             1.0|                      1.0|                      1.0|                      1.0|                      1.0|                   1.0|                       1.0|                          0|                        0|[0.942082,0.75,0....|\n",
              "|        0.368|     0.0769231|      0.315333|        0.888889|        0.897436|            0.75|        0.729167|          0.759036|         0.936612|          0.333333|              0.84|        0.912621|            1.0|            0.75|           0.975|             1.0|             1.0|                      1.0|                      1.0|                      1.0|                      1.0|                   1.0|                       1.0|                          0|                        0|[0.368,0.0769231,...|\n",
              "|     0.192905|      0.721311|      0.654702|             1.0|             1.0|        0.754098|        0.117647|          0.722635|         0.702173|               0.5|          0.790984|             1.0|            1.0|             1.0|             1.0|             1.0|             1.0|                      1.0|                      1.0|                      1.0|                      1.0|                   1.0|                       1.0|                          0|                        0|[0.192905,0.72131...|\n",
              "|     0.993011|      0.294118|      0.990098|        0.222222|         0.45098|             0.7|           0.575|          0.275362|         0.875078|          0.333333|          0.666667|        0.811544|       0.884586|        0.666667|        0.882526|             1.0|             1.0|                      1.0|                      1.0|                      1.0|                      1.0|                   1.0|                       1.0|                          0|                        0|[0.993011,0.29411...|\n",
              "|     0.827394|      0.487179|      0.663419|             0.0|        0.487179|        0.575758|        0.172727|          0.181818|              1.0|               1.0|          0.714286|        0.857075|       0.921663|             0.0|        0.916865|        0.482759|      0.00854706|                  0.92539|                 0.567742|                 0.988372|                 0.932633|              0.985315|                  0.914919|                          0|                        0|[0.827394,0.48717...|\n",
              "|     0.956746|      0.980545|      0.550205|        0.992157|        0.596863|        0.333333|         0.98703|          0.561521|         0.593325|               0.0|          0.390625|        0.999836|       0.999882|             1.0|        0.999911|        0.998095|        0.902095|                 0.995327|                 0.891971|                 0.988636|                 0.999509|              0.994245|                  0.866947|                          0|                        0|[0.956746,0.98054...|\n",
              "|     0.983121|        0.0625|      0.984176|        0.538462|        0.507692|        0.666667|          0.6875|          0.620155|         0.681103|               0.0|          0.493506|        0.998883|       0.999297|             0.9|        0.999163|             1.0|             1.0|                      1.0|                      1.0|                      1.0|                      1.0|                   1.0|                       1.0|                          0|                        0|[0.983121,0.0625,...|\n",
              "|     0.582846|      0.464286|      0.221312|            0.75|        0.533333|        0.555556|        0.761905|          0.793367|         0.960341|               0.0|          0.923077|        0.989108|       0.984881|             1.0|        0.971378|             1.0|             1.0|                      1.0|                      1.0|                      1.0|                      1.0|                   1.0|                       1.0|                          0|                        0|[0.582846,0.46428...|\n",
              "|     0.839119|           0.1|      0.855207|        0.285714|        0.357143|             0.6|        0.555556|          0.187097|       0.00881016|          0.666667|               0.0|        0.990079|       0.985535|             1.0|        0.988889|             1.0|             1.0|                      1.0|                      1.0|                      1.0|                      1.0|                   1.0|                       1.0|                          0|                        0|[0.839119,0.1,0.8...|\n",
              "|     0.997953|           0.6|      0.994881|             1.0|             1.0|        0.333333|             0.4|          0.747525|          0.90686|               0.0|          0.878049|             1.0|            1.0|             1.0|             1.0|             1.0|             1.0|                      1.0|                      1.0|                      1.0|                      1.0|                   1.0|                       1.0|                          0|                        0|[0.997953,0.6,0.9...|\n",
              "|     0.990295|          0.25|       0.98706|        0.222222|        0.416667|        0.666667|        0.555556|           0.70297|         0.958858|          0.333333|          0.902439|        0.998432|       0.999187|             0.7|        0.999157|           0.625|         0.71875|                  0.98752|                 0.222345|                 0.996569|                 0.646514|              0.982481|                  0.446043|                          0|                        0|[0.990295,0.25,0....|\n",
              "|     0.769679|      0.583333|      0.904033|        0.555556|          0.0625|        0.666667|             0.2|               0.4|              1.0|          0.333333|               0.5|        0.989234|       0.979055|             1.0|          0.9875|             1.0|             1.0|                      1.0|                      1.0|                      1.0|                      1.0|                   1.0|                       1.0|                          0|                        0|[0.769679,0.58333...|\n",
              "|     0.875296|      0.835616|      0.241384|           0.875|        0.239583|        0.666667|        0.945205|               0.4|              1.0|          0.333333|               0.5|        0.843372|       0.962135|             1.0|        0.984258|             1.0|             1.0|                      1.0|                      1.0|                      1.0|                      1.0|                   1.0|                       1.0|                          0|                        0|[0.875296,0.83561...|\n",
              "|     0.424051|     0.0769231|      0.468354|            0.25|          0.1875|        0.666667|        0.692308|               0.4|              1.0|          0.333333|               0.5|             1.0|            1.0|             1.0|             1.0|             1.0|             1.0|                      1.0|                      1.0|                      1.0|                      1.0|                   1.0|                       1.0|                          0|                        0|[0.424051,0.07692...|\n",
              "|     0.481013|      0.868132|      0.931562|             0.9|        0.241667|        0.666667|        0.956044|          0.333333|              1.0|               0.4|               0.2|             1.0|       0.284856|             1.0|         0.95625|             1.0|             1.0|                      1.0|                      1.0|                      1.0|                      1.0|                   1.0|                       1.0|                          0|                        0|[0.481013,0.86813...|\n",
              "|     0.138356|        0.5625|       0.49225|        0.571429|       0.0204082|        0.555556|        0.015625|          0.153465|         0.548606|               0.5|          0.560976|        0.999876|       0.999981|             0.8|        0.999974|             1.0|             1.0|                      1.0|                      1.0|                      1.0|                      1.0|                   1.0|                       1.0|                          0|                        0|[0.138356,0.5625,...|\n",
              "+-------------+--------------+--------------+----------------+----------------+----------------+----------------+------------------+-----------------+------------------+------------------+----------------+---------------+----------------+----------------+----------------+----------------+-------------------------+-------------------------+-------------------------+-------------------------+----------------------+--------------------------+---------------------------+-------------------------+--------------------+\n",
              "only showing top 20 rows"
            ],
            "text/html": [
              "<table border='1'>\n",
              "<tr><th>num_instances</th><th>num_attributes</th><th>dimensionality</th><th>num_numeric_attr</th><th>pct_numeric_attr</th><th>num_nominal_attr</th><th>pct_nominal_attr</th><th>avg_nominal_values</th><th>sd_nominal_values</th><th>min_nominal_values</th><th>max_nominal_values</th><th>avg_numeric_mean</th><th>sd_numeric_mean</th><th>min_numeric_mean</th><th>max_numeric_mean</th><th>missing_attr_cnt</th><th>missing_attr_pct</th><th>missing_instances_max_cnt</th><th>missing_instances_max_pct</th><th>missing_instances_min_cnt</th><th>missing_instances_min_pct</th><th>missing_instances_mean</th><th>missing_instances_mean_pct</th><th>datesets_subject_main_match</th><th>datesets_duplicates_match</th><th>features</th></tr>\n",
              "<tr><td>0.380531</td><td>0.555556</td><td>0.28254</td><td>1.0</td><td>1.0</td><td>0.944444</td><td>0.875</td><td>0.0689655</td><td>1.0</td><td>0.333333</td><td>0.857143</td><td>1.0</td><td>1.0</td><td>1.0</td><td>1.0</td><td>1.0</td><td>1.0</td><td>1.0</td><td>1.0</td><td>1.0</td><td>1.0</td><td>1.0</td><td>1.0</td><td>0</td><td>0</td><td>[0.380531,0.55555...</td></tr>\n",
              "<tr><td>0.541139</td><td>0.873684</td><td>0.942039</td><td>0.904255</td><td>0.242021</td><td>0.666667</td><td>0.957895</td><td>0.4</td><td>1.0</td><td>0.333333</td><td>0.5</td><td>0.964526</td><td>0.993476</td><td>1.0</td><td>0.997902</td><td>1.0</td><td>1.0</td><td>1.0</td><td>1.0</td><td>1.0</td><td>1.0</td><td>1.0</td><td>1.0</td><td>0</td><td>0</td><td>[0.541139,0.87368...</td></tr>\n",
              "<tr><td>0.490506</td><td>0.7</td><td>0.847152</td><td>0.769231</td><td>0.230769</td><td>0.666667</td><td>0.9</td><td>0.4</td><td>1.0</td><td>0.333333</td><td>0.5</td><td>0.970013</td><td>0.99376</td><td>1.0</td><td>0.997074</td><td>1.0</td><td>1.0</td><td>1.0</td><td>1.0</td><td>1.0</td><td>1.0</td><td>1.0</td><td>1.0</td><td>0</td><td>0</td><td>[0.490506,0.7,0.8...</td></tr>\n",
              "<tr><td>0.924348</td><td>0.25</td><td>0.943261</td><td>0.222222</td><td>0.0357143</td><td>0.333333</td><td>0.111111</td><td>0.1</td><td>1.0</td><td>0.0</td><td>0.25</td><td>0.993759</td><td>0.991619</td><td>1.0</td><td>0.99375</td><td>1.0</td><td>1.0</td><td>1.0</td><td>1.0</td><td>1.0</td><td>1.0</td><td>1.0</td><td>1.0</td><td>0</td><td>0</td><td>[0.924348,0.25,0....</td></tr>\n",
              "<tr><td>0.942082</td><td>0.75</td><td>0.985521</td><td>0.777778</td><td>0.111111</td><td>0.666667</td><td>0.25</td><td>0.166667</td><td>1.0</td><td>0.25</td><td>0.0</td><td>0.978155</td><td>1.0</td><td>0.0</td><td>0.99375</td><td>1.0</td><td>1.0</td><td>1.0</td><td>1.0</td><td>1.0</td><td>1.0</td><td>1.0</td><td>1.0</td><td>0</td><td>0</td><td>[0.942082,0.75,0....</td></tr>\n",
              "<tr><td>0.368</td><td>0.0769231</td><td>0.315333</td><td>0.888889</td><td>0.897436</td><td>0.75</td><td>0.729167</td><td>0.759036</td><td>0.936612</td><td>0.333333</td><td>0.84</td><td>0.912621</td><td>1.0</td><td>0.75</td><td>0.975</td><td>1.0</td><td>1.0</td><td>1.0</td><td>1.0</td><td>1.0</td><td>1.0</td><td>1.0</td><td>1.0</td><td>0</td><td>0</td><td>[0.368,0.0769231,...</td></tr>\n",
              "<tr><td>0.192905</td><td>0.721311</td><td>0.654702</td><td>1.0</td><td>1.0</td><td>0.754098</td><td>0.117647</td><td>0.722635</td><td>0.702173</td><td>0.5</td><td>0.790984</td><td>1.0</td><td>1.0</td><td>1.0</td><td>1.0</td><td>1.0</td><td>1.0</td><td>1.0</td><td>1.0</td><td>1.0</td><td>1.0</td><td>1.0</td><td>1.0</td><td>0</td><td>0</td><td>[0.192905,0.72131...</td></tr>\n",
              "<tr><td>0.993011</td><td>0.294118</td><td>0.990098</td><td>0.222222</td><td>0.45098</td><td>0.7</td><td>0.575</td><td>0.275362</td><td>0.875078</td><td>0.333333</td><td>0.666667</td><td>0.811544</td><td>0.884586</td><td>0.666667</td><td>0.882526</td><td>1.0</td><td>1.0</td><td>1.0</td><td>1.0</td><td>1.0</td><td>1.0</td><td>1.0</td><td>1.0</td><td>0</td><td>0</td><td>[0.993011,0.29411...</td></tr>\n",
              "<tr><td>0.827394</td><td>0.487179</td><td>0.663419</td><td>0.0</td><td>0.487179</td><td>0.575758</td><td>0.172727</td><td>0.181818</td><td>1.0</td><td>1.0</td><td>0.714286</td><td>0.857075</td><td>0.921663</td><td>0.0</td><td>0.916865</td><td>0.482759</td><td>0.00854706</td><td>0.92539</td><td>0.567742</td><td>0.988372</td><td>0.932633</td><td>0.985315</td><td>0.914919</td><td>0</td><td>0</td><td>[0.827394,0.48717...</td></tr>\n",
              "<tr><td>0.956746</td><td>0.980545</td><td>0.550205</td><td>0.992157</td><td>0.596863</td><td>0.333333</td><td>0.98703</td><td>0.561521</td><td>0.593325</td><td>0.0</td><td>0.390625</td><td>0.999836</td><td>0.999882</td><td>1.0</td><td>0.999911</td><td>0.998095</td><td>0.902095</td><td>0.995327</td><td>0.891971</td><td>0.988636</td><td>0.999509</td><td>0.994245</td><td>0.866947</td><td>0</td><td>0</td><td>[0.956746,0.98054...</td></tr>\n",
              "<tr><td>0.983121</td><td>0.0625</td><td>0.984176</td><td>0.538462</td><td>0.507692</td><td>0.666667</td><td>0.6875</td><td>0.620155</td><td>0.681103</td><td>0.0</td><td>0.493506</td><td>0.998883</td><td>0.999297</td><td>0.9</td><td>0.999163</td><td>1.0</td><td>1.0</td><td>1.0</td><td>1.0</td><td>1.0</td><td>1.0</td><td>1.0</td><td>1.0</td><td>0</td><td>0</td><td>[0.983121,0.0625,...</td></tr>\n",
              "<tr><td>0.582846</td><td>0.464286</td><td>0.221312</td><td>0.75</td><td>0.533333</td><td>0.555556</td><td>0.761905</td><td>0.793367</td><td>0.960341</td><td>0.0</td><td>0.923077</td><td>0.989108</td><td>0.984881</td><td>1.0</td><td>0.971378</td><td>1.0</td><td>1.0</td><td>1.0</td><td>1.0</td><td>1.0</td><td>1.0</td><td>1.0</td><td>1.0</td><td>0</td><td>0</td><td>[0.582846,0.46428...</td></tr>\n",
              "<tr><td>0.839119</td><td>0.1</td><td>0.855207</td><td>0.285714</td><td>0.357143</td><td>0.6</td><td>0.555556</td><td>0.187097</td><td>0.00881016</td><td>0.666667</td><td>0.0</td><td>0.990079</td><td>0.985535</td><td>1.0</td><td>0.988889</td><td>1.0</td><td>1.0</td><td>1.0</td><td>1.0</td><td>1.0</td><td>1.0</td><td>1.0</td><td>1.0</td><td>0</td><td>0</td><td>[0.839119,0.1,0.8...</td></tr>\n",
              "<tr><td>0.997953</td><td>0.6</td><td>0.994881</td><td>1.0</td><td>1.0</td><td>0.333333</td><td>0.4</td><td>0.747525</td><td>0.90686</td><td>0.0</td><td>0.878049</td><td>1.0</td><td>1.0</td><td>1.0</td><td>1.0</td><td>1.0</td><td>1.0</td><td>1.0</td><td>1.0</td><td>1.0</td><td>1.0</td><td>1.0</td><td>1.0</td><td>0</td><td>0</td><td>[0.997953,0.6,0.9...</td></tr>\n",
              "<tr><td>0.990295</td><td>0.25</td><td>0.98706</td><td>0.222222</td><td>0.416667</td><td>0.666667</td><td>0.555556</td><td>0.70297</td><td>0.958858</td><td>0.333333</td><td>0.902439</td><td>0.998432</td><td>0.999187</td><td>0.7</td><td>0.999157</td><td>0.625</td><td>0.71875</td><td>0.98752</td><td>0.222345</td><td>0.996569</td><td>0.646514</td><td>0.982481</td><td>0.446043</td><td>0</td><td>0</td><td>[0.990295,0.25,0....</td></tr>\n",
              "<tr><td>0.769679</td><td>0.583333</td><td>0.904033</td><td>0.555556</td><td>0.0625</td><td>0.666667</td><td>0.2</td><td>0.4</td><td>1.0</td><td>0.333333</td><td>0.5</td><td>0.989234</td><td>0.979055</td><td>1.0</td><td>0.9875</td><td>1.0</td><td>1.0</td><td>1.0</td><td>1.0</td><td>1.0</td><td>1.0</td><td>1.0</td><td>1.0</td><td>0</td><td>0</td><td>[0.769679,0.58333...</td></tr>\n",
              "<tr><td>0.875296</td><td>0.835616</td><td>0.241384</td><td>0.875</td><td>0.239583</td><td>0.666667</td><td>0.945205</td><td>0.4</td><td>1.0</td><td>0.333333</td><td>0.5</td><td>0.843372</td><td>0.962135</td><td>1.0</td><td>0.984258</td><td>1.0</td><td>1.0</td><td>1.0</td><td>1.0</td><td>1.0</td><td>1.0</td><td>1.0</td><td>1.0</td><td>0</td><td>0</td><td>[0.875296,0.83561...</td></tr>\n",
              "<tr><td>0.424051</td><td>0.0769231</td><td>0.468354</td><td>0.25</td><td>0.1875</td><td>0.666667</td><td>0.692308</td><td>0.4</td><td>1.0</td><td>0.333333</td><td>0.5</td><td>1.0</td><td>1.0</td><td>1.0</td><td>1.0</td><td>1.0</td><td>1.0</td><td>1.0</td><td>1.0</td><td>1.0</td><td>1.0</td><td>1.0</td><td>1.0</td><td>0</td><td>0</td><td>[0.424051,0.07692...</td></tr>\n",
              "<tr><td>0.481013</td><td>0.868132</td><td>0.931562</td><td>0.9</td><td>0.241667</td><td>0.666667</td><td>0.956044</td><td>0.333333</td><td>1.0</td><td>0.4</td><td>0.2</td><td>1.0</td><td>0.284856</td><td>1.0</td><td>0.95625</td><td>1.0</td><td>1.0</td><td>1.0</td><td>1.0</td><td>1.0</td><td>1.0</td><td>1.0</td><td>1.0</td><td>0</td><td>0</td><td>[0.481013,0.86813...</td></tr>\n",
              "<tr><td>0.138356</td><td>0.5625</td><td>0.49225</td><td>0.571429</td><td>0.0204082</td><td>0.555556</td><td>0.015625</td><td>0.153465</td><td>0.548606</td><td>0.5</td><td>0.560976</td><td>0.999876</td><td>0.999981</td><td>0.8</td><td>0.999974</td><td>1.0</td><td>1.0</td><td>1.0</td><td>1.0</td><td>1.0</td><td>1.0</td><td>1.0</td><td>1.0</td><td>0</td><td>0</td><td>[0.138356,0.5625,...</td></tr>\n",
              "</table>\n",
              "only showing top 20 rows\n"
            ]
          },
          "metadata": {},
          "execution_count": 22
        },
        {
          "output_type": "execute_result",
          "data": {
            "text/plain": [
              "+-------------+--------------+--------------+----------------+----------------+----------------+----------------+------------------+-----------------+------------------+------------------+----------------+---------------+----------------+----------------+----------------+----------------+-------------------------+-------------------------+-------------------------+-------------------------+----------------------+--------------------------+---------------------------+-------------------------+--------------------+\n",
              "|num_instances|num_attributes|dimensionality|num_numeric_attr|pct_numeric_attr|num_nominal_attr|pct_nominal_attr|avg_nominal_values|sd_nominal_values|min_nominal_values|max_nominal_values|avg_numeric_mean|sd_numeric_mean|min_numeric_mean|max_numeric_mean|missing_attr_cnt|missing_attr_pct|missing_instances_max_cnt|missing_instances_max_pct|missing_instances_min_cnt|missing_instances_min_pct|missing_instances_mean|missing_instances_mean_pct|datesets_subject_main_match|datesets_duplicates_match|            features|\n",
              "+-------------+--------------+--------------+----------------+----------------+----------------+----------------+------------------+-----------------+------------------+------------------+----------------+---------------+----------------+----------------+----------------+----------------+-------------------------+-------------------------+-------------------------+-------------------------+----------------------+--------------------------+---------------------------+-------------------------+--------------------+\n",
              "|     0.380531|      0.555556|       0.28254|             1.0|             1.0|        0.944444|           0.875|         0.0689655|              1.0|          0.333333|          0.857143|             1.0|            1.0|             1.0|             1.0|             1.0|             1.0|                      1.0|                      1.0|                      1.0|                      1.0|                   1.0|                       1.0|                          0|                        0|[0.380531,0.55555...|\n",
              "|     0.541139|      0.873684|      0.942039|        0.904255|        0.242021|        0.666667|        0.957895|               0.4|              1.0|          0.333333|               0.5|        0.964526|       0.993476|             1.0|        0.997902|             1.0|             1.0|                      1.0|                      1.0|                      1.0|                      1.0|                   1.0|                       1.0|                          0|                        0|[0.541139,0.87368...|\n",
              "|     0.490506|           0.7|      0.847152|        0.769231|        0.230769|        0.666667|             0.9|               0.4|              1.0|          0.333333|               0.5|        0.970013|        0.99376|             1.0|        0.997074|             1.0|             1.0|                      1.0|                      1.0|                      1.0|                      1.0|                   1.0|                       1.0|                          0|                        0|[0.490506,0.7,0.8...|\n",
              "|     0.924348|          0.25|      0.943261|        0.222222|       0.0357143|        0.333333|        0.111111|               0.1|              1.0|               0.0|              0.25|        0.993759|       0.991619|             1.0|         0.99375|             1.0|             1.0|                      1.0|                      1.0|                      1.0|                      1.0|                   1.0|                       1.0|                          0|                        0|[0.924348,0.25,0....|\n",
              "|     0.942082|          0.75|      0.985521|        0.777778|        0.111111|        0.666667|            0.25|          0.166667|              1.0|              0.25|               0.0|        0.978155|            1.0|             0.0|         0.99375|             1.0|             1.0|                      1.0|                      1.0|                      1.0|                      1.0|                   1.0|                       1.0|                          0|                        0|[0.942082,0.75,0....|\n",
              "|        0.368|     0.0769231|      0.315333|        0.888889|        0.897436|            0.75|        0.729167|          0.759036|         0.936612|          0.333333|              0.84|        0.912621|            1.0|            0.75|           0.975|             1.0|             1.0|                      1.0|                      1.0|                      1.0|                      1.0|                   1.0|                       1.0|                          0|                        0|[0.368,0.0769231,...|\n",
              "|     0.192905|      0.721311|      0.654702|             1.0|             1.0|        0.754098|        0.117647|          0.722635|         0.702173|               0.5|          0.790984|             1.0|            1.0|             1.0|             1.0|             1.0|             1.0|                      1.0|                      1.0|                      1.0|                      1.0|                   1.0|                       1.0|                          0|                        0|[0.192905,0.72131...|\n",
              "|     0.993011|      0.294118|      0.990098|        0.222222|         0.45098|             0.7|           0.575|          0.275362|         0.875078|          0.333333|          0.666667|        0.811544|       0.884586|        0.666667|        0.882526|             1.0|             1.0|                      1.0|                      1.0|                      1.0|                      1.0|                   1.0|                       1.0|                          0|                        0|[0.993011,0.29411...|\n",
              "|     0.827394|      0.487179|      0.663419|             0.0|        0.487179|        0.575758|        0.172727|          0.181818|              1.0|               1.0|          0.714286|        0.857075|       0.921663|             0.0|        0.916865|        0.482759|      0.00854706|                  0.92539|                 0.567742|                 0.988372|                 0.932633|              0.985315|                  0.914919|                          0|                        0|[0.827394,0.48717...|\n",
              "|     0.956746|      0.980545|      0.550205|        0.992157|        0.596863|        0.333333|         0.98703|          0.561521|         0.593325|               0.0|          0.390625|        0.999836|       0.999882|             1.0|        0.999911|        0.998095|        0.902095|                 0.995327|                 0.891971|                 0.988636|                 0.999509|              0.994245|                  0.866947|                          0|                        0|[0.956746,0.98054...|\n",
              "|     0.983121|        0.0625|      0.984176|        0.538462|        0.507692|        0.666667|          0.6875|          0.620155|         0.681103|               0.0|          0.493506|        0.998883|       0.999297|             0.9|        0.999163|             1.0|             1.0|                      1.0|                      1.0|                      1.0|                      1.0|                   1.0|                       1.0|                          0|                        0|[0.983121,0.0625,...|\n",
              "|     0.582846|      0.464286|      0.221312|            0.75|        0.533333|        0.555556|        0.761905|          0.793367|         0.960341|               0.0|          0.923077|        0.989108|       0.984881|             1.0|        0.971378|             1.0|             1.0|                      1.0|                      1.0|                      1.0|                      1.0|                   1.0|                       1.0|                          0|                        0|[0.582846,0.46428...|\n",
              "|     0.839119|           0.1|      0.855207|        0.285714|        0.357143|             0.6|        0.555556|          0.187097|       0.00881016|          0.666667|               0.0|        0.990079|       0.985535|             1.0|        0.988889|             1.0|             1.0|                      1.0|                      1.0|                      1.0|                      1.0|                   1.0|                       1.0|                          0|                        0|[0.839119,0.1,0.8...|\n",
              "|     0.997953|           0.6|      0.994881|             1.0|             1.0|        0.333333|             0.4|          0.747525|          0.90686|               0.0|          0.878049|             1.0|            1.0|             1.0|             1.0|             1.0|             1.0|                      1.0|                      1.0|                      1.0|                      1.0|                   1.0|                       1.0|                          0|                        0|[0.997953,0.6,0.9...|\n",
              "|     0.990295|          0.25|       0.98706|        0.222222|        0.416667|        0.666667|        0.555556|           0.70297|         0.958858|          0.333333|          0.902439|        0.998432|       0.999187|             0.7|        0.999157|           0.625|         0.71875|                  0.98752|                 0.222345|                 0.996569|                 0.646514|              0.982481|                  0.446043|                          0|                        0|[0.990295,0.25,0....|\n",
              "|     0.769679|      0.583333|      0.904033|        0.555556|          0.0625|        0.666667|             0.2|               0.4|              1.0|          0.333333|               0.5|        0.989234|       0.979055|             1.0|          0.9875|             1.0|             1.0|                      1.0|                      1.0|                      1.0|                      1.0|                   1.0|                       1.0|                          0|                        0|[0.769679,0.58333...|\n",
              "|     0.875296|      0.835616|      0.241384|           0.875|        0.239583|        0.666667|        0.945205|               0.4|              1.0|          0.333333|               0.5|        0.843372|       0.962135|             1.0|        0.984258|             1.0|             1.0|                      1.0|                      1.0|                      1.0|                      1.0|                   1.0|                       1.0|                          0|                        0|[0.875296,0.83561...|\n",
              "|     0.424051|     0.0769231|      0.468354|            0.25|          0.1875|        0.666667|        0.692308|               0.4|              1.0|          0.333333|               0.5|             1.0|            1.0|             1.0|             1.0|             1.0|             1.0|                      1.0|                      1.0|                      1.0|                      1.0|                   1.0|                       1.0|                          0|                        0|[0.424051,0.07692...|\n",
              "|     0.481013|      0.868132|      0.931562|             0.9|        0.241667|        0.666667|        0.956044|          0.333333|              1.0|               0.4|               0.2|             1.0|       0.284856|             1.0|         0.95625|             1.0|             1.0|                      1.0|                      1.0|                      1.0|                      1.0|                   1.0|                       1.0|                          0|                        0|[0.481013,0.86813...|\n",
              "|     0.138356|        0.5625|       0.49225|        0.571429|       0.0204082|        0.555556|        0.015625|          0.153465|         0.548606|               0.5|          0.560976|        0.999876|       0.999981|             0.8|        0.999974|             1.0|             1.0|                      1.0|                      1.0|                      1.0|                      1.0|                   1.0|                       1.0|                          0|                        0|[0.138356,0.5625,...|\n",
              "+-------------+--------------+--------------+----------------+----------------+----------------+----------------+------------------+-----------------+------------------+------------------+----------------+---------------+----------------+----------------+----------------+----------------+-------------------------+-------------------------+-------------------------+-------------------------+----------------------+--------------------------+---------------------------+-------------------------+--------------------+\n",
              "only showing top 20 rows"
            ],
            "text/html": [
              "<table border='1'>\n",
              "<tr><th>num_instances</th><th>num_attributes</th><th>dimensionality</th><th>num_numeric_attr</th><th>pct_numeric_attr</th><th>num_nominal_attr</th><th>pct_nominal_attr</th><th>avg_nominal_values</th><th>sd_nominal_values</th><th>min_nominal_values</th><th>max_nominal_values</th><th>avg_numeric_mean</th><th>sd_numeric_mean</th><th>min_numeric_mean</th><th>max_numeric_mean</th><th>missing_attr_cnt</th><th>missing_attr_pct</th><th>missing_instances_max_cnt</th><th>missing_instances_max_pct</th><th>missing_instances_min_cnt</th><th>missing_instances_min_pct</th><th>missing_instances_mean</th><th>missing_instances_mean_pct</th><th>datesets_subject_main_match</th><th>datesets_duplicates_match</th><th>features</th></tr>\n",
              "<tr><td>0.380531</td><td>0.555556</td><td>0.28254</td><td>1.0</td><td>1.0</td><td>0.944444</td><td>0.875</td><td>0.0689655</td><td>1.0</td><td>0.333333</td><td>0.857143</td><td>1.0</td><td>1.0</td><td>1.0</td><td>1.0</td><td>1.0</td><td>1.0</td><td>1.0</td><td>1.0</td><td>1.0</td><td>1.0</td><td>1.0</td><td>1.0</td><td>0</td><td>0</td><td>[0.380531,0.55555...</td></tr>\n",
              "<tr><td>0.541139</td><td>0.873684</td><td>0.942039</td><td>0.904255</td><td>0.242021</td><td>0.666667</td><td>0.957895</td><td>0.4</td><td>1.0</td><td>0.333333</td><td>0.5</td><td>0.964526</td><td>0.993476</td><td>1.0</td><td>0.997902</td><td>1.0</td><td>1.0</td><td>1.0</td><td>1.0</td><td>1.0</td><td>1.0</td><td>1.0</td><td>1.0</td><td>0</td><td>0</td><td>[0.541139,0.87368...</td></tr>\n",
              "<tr><td>0.490506</td><td>0.7</td><td>0.847152</td><td>0.769231</td><td>0.230769</td><td>0.666667</td><td>0.9</td><td>0.4</td><td>1.0</td><td>0.333333</td><td>0.5</td><td>0.970013</td><td>0.99376</td><td>1.0</td><td>0.997074</td><td>1.0</td><td>1.0</td><td>1.0</td><td>1.0</td><td>1.0</td><td>1.0</td><td>1.0</td><td>1.0</td><td>0</td><td>0</td><td>[0.490506,0.7,0.8...</td></tr>\n",
              "<tr><td>0.924348</td><td>0.25</td><td>0.943261</td><td>0.222222</td><td>0.0357143</td><td>0.333333</td><td>0.111111</td><td>0.1</td><td>1.0</td><td>0.0</td><td>0.25</td><td>0.993759</td><td>0.991619</td><td>1.0</td><td>0.99375</td><td>1.0</td><td>1.0</td><td>1.0</td><td>1.0</td><td>1.0</td><td>1.0</td><td>1.0</td><td>1.0</td><td>0</td><td>0</td><td>[0.924348,0.25,0....</td></tr>\n",
              "<tr><td>0.942082</td><td>0.75</td><td>0.985521</td><td>0.777778</td><td>0.111111</td><td>0.666667</td><td>0.25</td><td>0.166667</td><td>1.0</td><td>0.25</td><td>0.0</td><td>0.978155</td><td>1.0</td><td>0.0</td><td>0.99375</td><td>1.0</td><td>1.0</td><td>1.0</td><td>1.0</td><td>1.0</td><td>1.0</td><td>1.0</td><td>1.0</td><td>0</td><td>0</td><td>[0.942082,0.75,0....</td></tr>\n",
              "<tr><td>0.368</td><td>0.0769231</td><td>0.315333</td><td>0.888889</td><td>0.897436</td><td>0.75</td><td>0.729167</td><td>0.759036</td><td>0.936612</td><td>0.333333</td><td>0.84</td><td>0.912621</td><td>1.0</td><td>0.75</td><td>0.975</td><td>1.0</td><td>1.0</td><td>1.0</td><td>1.0</td><td>1.0</td><td>1.0</td><td>1.0</td><td>1.0</td><td>0</td><td>0</td><td>[0.368,0.0769231,...</td></tr>\n",
              "<tr><td>0.192905</td><td>0.721311</td><td>0.654702</td><td>1.0</td><td>1.0</td><td>0.754098</td><td>0.117647</td><td>0.722635</td><td>0.702173</td><td>0.5</td><td>0.790984</td><td>1.0</td><td>1.0</td><td>1.0</td><td>1.0</td><td>1.0</td><td>1.0</td><td>1.0</td><td>1.0</td><td>1.0</td><td>1.0</td><td>1.0</td><td>1.0</td><td>0</td><td>0</td><td>[0.192905,0.72131...</td></tr>\n",
              "<tr><td>0.993011</td><td>0.294118</td><td>0.990098</td><td>0.222222</td><td>0.45098</td><td>0.7</td><td>0.575</td><td>0.275362</td><td>0.875078</td><td>0.333333</td><td>0.666667</td><td>0.811544</td><td>0.884586</td><td>0.666667</td><td>0.882526</td><td>1.0</td><td>1.0</td><td>1.0</td><td>1.0</td><td>1.0</td><td>1.0</td><td>1.0</td><td>1.0</td><td>0</td><td>0</td><td>[0.993011,0.29411...</td></tr>\n",
              "<tr><td>0.827394</td><td>0.487179</td><td>0.663419</td><td>0.0</td><td>0.487179</td><td>0.575758</td><td>0.172727</td><td>0.181818</td><td>1.0</td><td>1.0</td><td>0.714286</td><td>0.857075</td><td>0.921663</td><td>0.0</td><td>0.916865</td><td>0.482759</td><td>0.00854706</td><td>0.92539</td><td>0.567742</td><td>0.988372</td><td>0.932633</td><td>0.985315</td><td>0.914919</td><td>0</td><td>0</td><td>[0.827394,0.48717...</td></tr>\n",
              "<tr><td>0.956746</td><td>0.980545</td><td>0.550205</td><td>0.992157</td><td>0.596863</td><td>0.333333</td><td>0.98703</td><td>0.561521</td><td>0.593325</td><td>0.0</td><td>0.390625</td><td>0.999836</td><td>0.999882</td><td>1.0</td><td>0.999911</td><td>0.998095</td><td>0.902095</td><td>0.995327</td><td>0.891971</td><td>0.988636</td><td>0.999509</td><td>0.994245</td><td>0.866947</td><td>0</td><td>0</td><td>[0.956746,0.98054...</td></tr>\n",
              "<tr><td>0.983121</td><td>0.0625</td><td>0.984176</td><td>0.538462</td><td>0.507692</td><td>0.666667</td><td>0.6875</td><td>0.620155</td><td>0.681103</td><td>0.0</td><td>0.493506</td><td>0.998883</td><td>0.999297</td><td>0.9</td><td>0.999163</td><td>1.0</td><td>1.0</td><td>1.0</td><td>1.0</td><td>1.0</td><td>1.0</td><td>1.0</td><td>1.0</td><td>0</td><td>0</td><td>[0.983121,0.0625,...</td></tr>\n",
              "<tr><td>0.582846</td><td>0.464286</td><td>0.221312</td><td>0.75</td><td>0.533333</td><td>0.555556</td><td>0.761905</td><td>0.793367</td><td>0.960341</td><td>0.0</td><td>0.923077</td><td>0.989108</td><td>0.984881</td><td>1.0</td><td>0.971378</td><td>1.0</td><td>1.0</td><td>1.0</td><td>1.0</td><td>1.0</td><td>1.0</td><td>1.0</td><td>1.0</td><td>0</td><td>0</td><td>[0.582846,0.46428...</td></tr>\n",
              "<tr><td>0.839119</td><td>0.1</td><td>0.855207</td><td>0.285714</td><td>0.357143</td><td>0.6</td><td>0.555556</td><td>0.187097</td><td>0.00881016</td><td>0.666667</td><td>0.0</td><td>0.990079</td><td>0.985535</td><td>1.0</td><td>0.988889</td><td>1.0</td><td>1.0</td><td>1.0</td><td>1.0</td><td>1.0</td><td>1.0</td><td>1.0</td><td>1.0</td><td>0</td><td>0</td><td>[0.839119,0.1,0.8...</td></tr>\n",
              "<tr><td>0.997953</td><td>0.6</td><td>0.994881</td><td>1.0</td><td>1.0</td><td>0.333333</td><td>0.4</td><td>0.747525</td><td>0.90686</td><td>0.0</td><td>0.878049</td><td>1.0</td><td>1.0</td><td>1.0</td><td>1.0</td><td>1.0</td><td>1.0</td><td>1.0</td><td>1.0</td><td>1.0</td><td>1.0</td><td>1.0</td><td>1.0</td><td>0</td><td>0</td><td>[0.997953,0.6,0.9...</td></tr>\n",
              "<tr><td>0.990295</td><td>0.25</td><td>0.98706</td><td>0.222222</td><td>0.416667</td><td>0.666667</td><td>0.555556</td><td>0.70297</td><td>0.958858</td><td>0.333333</td><td>0.902439</td><td>0.998432</td><td>0.999187</td><td>0.7</td><td>0.999157</td><td>0.625</td><td>0.71875</td><td>0.98752</td><td>0.222345</td><td>0.996569</td><td>0.646514</td><td>0.982481</td><td>0.446043</td><td>0</td><td>0</td><td>[0.990295,0.25,0....</td></tr>\n",
              "<tr><td>0.769679</td><td>0.583333</td><td>0.904033</td><td>0.555556</td><td>0.0625</td><td>0.666667</td><td>0.2</td><td>0.4</td><td>1.0</td><td>0.333333</td><td>0.5</td><td>0.989234</td><td>0.979055</td><td>1.0</td><td>0.9875</td><td>1.0</td><td>1.0</td><td>1.0</td><td>1.0</td><td>1.0</td><td>1.0</td><td>1.0</td><td>1.0</td><td>0</td><td>0</td><td>[0.769679,0.58333...</td></tr>\n",
              "<tr><td>0.875296</td><td>0.835616</td><td>0.241384</td><td>0.875</td><td>0.239583</td><td>0.666667</td><td>0.945205</td><td>0.4</td><td>1.0</td><td>0.333333</td><td>0.5</td><td>0.843372</td><td>0.962135</td><td>1.0</td><td>0.984258</td><td>1.0</td><td>1.0</td><td>1.0</td><td>1.0</td><td>1.0</td><td>1.0</td><td>1.0</td><td>1.0</td><td>0</td><td>0</td><td>[0.875296,0.83561...</td></tr>\n",
              "<tr><td>0.424051</td><td>0.0769231</td><td>0.468354</td><td>0.25</td><td>0.1875</td><td>0.666667</td><td>0.692308</td><td>0.4</td><td>1.0</td><td>0.333333</td><td>0.5</td><td>1.0</td><td>1.0</td><td>1.0</td><td>1.0</td><td>1.0</td><td>1.0</td><td>1.0</td><td>1.0</td><td>1.0</td><td>1.0</td><td>1.0</td><td>1.0</td><td>0</td><td>0</td><td>[0.424051,0.07692...</td></tr>\n",
              "<tr><td>0.481013</td><td>0.868132</td><td>0.931562</td><td>0.9</td><td>0.241667</td><td>0.666667</td><td>0.956044</td><td>0.333333</td><td>1.0</td><td>0.4</td><td>0.2</td><td>1.0</td><td>0.284856</td><td>1.0</td><td>0.95625</td><td>1.0</td><td>1.0</td><td>1.0</td><td>1.0</td><td>1.0</td><td>1.0</td><td>1.0</td><td>1.0</td><td>0</td><td>0</td><td>[0.481013,0.86813...</td></tr>\n",
              "<tr><td>0.138356</td><td>0.5625</td><td>0.49225</td><td>0.571429</td><td>0.0204082</td><td>0.555556</td><td>0.015625</td><td>0.153465</td><td>0.548606</td><td>0.5</td><td>0.560976</td><td>0.999876</td><td>0.999981</td><td>0.8</td><td>0.999974</td><td>1.0</td><td>1.0</td><td>1.0</td><td>1.0</td><td>1.0</td><td>1.0</td><td>1.0</td><td>1.0</td><td>0</td><td>0</td><td>[0.138356,0.5625,...</td></tr>\n",
              "</table>\n",
              "only showing top 20 rows\n"
            ]
          },
          "metadata": {},
          "execution_count": 34
        }
      ]
    },
    {
      "cell_type": "code",
      "source": [
        "result = sampled_data.union(filtered_data_1)"
      ],
      "metadata": {
        "id": "PjgPUiISRvP0"
      },
      "execution_count": 35,
      "outputs": []
    },
    {
      "cell_type": "code",
      "source": [
        "\n",
        "result.count()"
      ],
      "metadata": {
        "id": "Ao5uByVFlghL",
        "colab": {
          "base_uri": "https://localhost:8080/"
        },
        "outputId": "770e3351-347f-479e-a5a2-dc31f202fa89"
      },
      "execution_count": 36,
      "outputs": [
        {
          "output_type": "execute_result",
          "data": {
            "text/plain": [
              "1822"
            ]
          },
          "metadata": {},
          "execution_count": 24
        },
        {
          "output_type": "execute_result",
          "data": {
            "text/plain": [
              "1822"
            ]
          },
          "metadata": {},
          "execution_count": 36
        }
      ]
    },
    {
      "cell_type": "markdown",
      "source": [
        "## Modeling"
      ],
      "metadata": {
        "id": "lj0Kqn6QbSyc"
      }
    },
    {
      "cell_type": "code",
      "source": [
        "# Define the layers for the neural network\n",
        "layers = [len(numericCols), 5, 4, 2]\n",
        "                         \n",
        "# Define the parameter grid for tuning\n",
        "param_grid = ParamGridBuilder() \\\n",
        "    .addGrid(MultilayerPerceptronClassifier.maxIter, [100, 200]) \\\n",
        "    .addGrid(MultilayerPerceptronClassifier.blockSize, [128, 256]) \\\n",
        "    .build()"
      ],
      "metadata": {
        "id": "89mDJh_9lYNv"
      },
      "execution_count": 37,
      "outputs": []
    },
    {
      "cell_type": "code",
      "source": [
        "# Create a CrossValidator\n",
        "crossval = CrossValidator(estimator=MultilayerPerceptronClassifier(maxIter=100, layers=layers, blockSize=128, seed=1234, labelCol=\"datesets_subject_main_match\", featuresCol=\"features\"),\n",
        "                          estimatorParamMaps=param_grid,\n",
        "                          evaluator=MulticlassClassificationEvaluator(metricName=\"accuracy\", labelCol=\"datesets_subject_main_match\"))"
      ],
      "metadata": {
        "id": "2Bz6nE4flYgu"
      },
      "execution_count": 38,
      "outputs": []
    },
    {
      "cell_type": "code",
      "source": [
        "# Fit the model using the cross-validator\n",
        "cv_model = crossval.fit(result)\n",
        "\n",
        "# Get the best model from cross-validation\n",
        "best_model = cv_model.bestModel"
      ],
      "metadata": {
        "id": "2tCCU9Pbl1k9"
      },
      "execution_count": 27,
      "outputs": []
    },
    {
      "cell_type": "code",
      "source": [
        "\n",
        "# Make predictions on the test data\n",
        "predictions = best_model.transform(result)"
      ],
      "metadata": {
        "id": "52cJPz0OlYr_"
      },
      "execution_count": 28,
      "outputs": []
    },
    {
      "cell_type": "markdown",
      "source": [
        "## Evaluation"
      ],
      "metadata": {
        "id": "MXJV-SwMbXZn"
      }
    },
    {
      "cell_type": "code",
      "source": [
        "# Evaluate the model's performance\n",
        "evaluator = MulticlassClassificationEvaluator(labelCol=\"datesets_subject_main_match\", predictionCol=\"prediction\", metricName=\"accuracy\")\n",
        "accuracy = evaluator.evaluate(predictions)\n",
        "f1_score = evaluator.setMetricName(\"f1\").evaluate(predictions)\n",
        "precision = evaluator.setMetricName(\"weightedPrecision\").evaluate(predictions)\n",
        "recall = evaluator.setMetricName(\"weightedRecall\").evaluate(predictions)\n",
        "\n",
        "print(\"Accuracy: {:.2f}%\".format(accuracy * 100))\n",
        "print(\"F1 Score: {:.2f}\".format(f1_score* 100))\n",
        "print(\"Precision: {:.2f}\".format(precision* 100))\n",
        "print(\"Recall: {:.2f}\".format(recall* 100))"
      ],
      "metadata": {
        "colab": {
          "base_uri": "https://localhost:8080/"
        },
        "id": "7OjtN4afnbMD",
        "outputId": "e72545ee-e57e-43e3-a64e-13f0b7494fc0"
      },
      "execution_count": 29,
      "outputs": [
        {
          "output_type": "stream",
          "name": "stdout",
          "text": [
            "Accuracy: 81.83%\n",
            "F1 Score: 80.22\n",
            "Precision: 82.52\n",
            "Recall: 81.83\n"
          ]
        }
      ]
    }
  ]
}