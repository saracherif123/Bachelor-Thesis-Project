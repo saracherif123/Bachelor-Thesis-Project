{
  "nbformat": 4,
  "nbformat_minor": 0,
  "metadata": {
    "colab": {
      "provenance": [],
      "authorship_tag": "ABX9TyPUxjK7WQjOy775OMopptCF",
      "include_colab_link": true
    },
    "kernelspec": {
      "name": "python3",
      "display_name": "Python 3"
    },
    "language_info": {
      "name": "python"
    }
  },
  "cells": [
    {
      "cell_type": "markdown",
      "metadata": {
        "id": "view-in-github",
        "colab_type": "text"
      },
      "source": [
        "<a href=\"https://colab.research.google.com/github/saracherif123/Bachelor-Thesis-Project/blob/main/Random_Forest_datesets_subject_main_match.ipynb\" target=\"_parent\"><img src=\"https://colab.research.google.com/assets/colab-badge.svg\" alt=\"Open In Colab\"/></a>"
      ]
    },
    {
      "cell_type": "markdown",
      "source": [
        "# **Random Forest datesets_subject_main_match (Rel Model)**\n"
      ],
      "metadata": {
        "id": "krB_c7vNDcj_"
      }
    },
    {
      "cell_type": "markdown",
      "source": [
        "## Spark Confirguration in Google Colab\n",
        "\n",
        "\n",
        "\n",
        "\n"
      ],
      "metadata": {
        "id": "8HQlebY9FiU2"
      }
    },
    {
      "cell_type": "code",
      "source": [
        "!ls"
      ],
      "metadata": {
        "colab": {
          "base_uri": "https://localhost:8080/"
        },
        "id": "doOZN7ER_xgJ",
        "outputId": "62cf4c73-fce9-4e82-e62b-f45ffc278462"
      },
      "execution_count": 26,
      "outputs": [
        {
          "output_type": "stream",
          "name": "stdout",
          "text": [
            "all_topics_datasets_matching.csv  spark-3.1.1-bin-hadoop3.2.tgz\n",
            "spark-3.1.1-bin-hadoop3.2\t  spark-3.1.1-bin-hadoop3.2.tgz.1\n"
          ]
        }
      ]
    },
    {
      "cell_type": "code",
      "source": [
        "!pwd"
      ],
      "metadata": {
        "colab": {
          "base_uri": "https://localhost:8080/"
        },
        "id": "OWpkUIgZ_yBS",
        "outputId": "26c3376d-c9ad-4605-dfde-10133c3076de"
      },
      "execution_count": 27,
      "outputs": [
        {
          "output_type": "stream",
          "name": "stdout",
          "text": [
            "/content\n"
          ]
        }
      ]
    },
    {
      "cell_type": "code",
      "source": [
        "!apt-get install openjdk-8-jdk-headless -qq > /dev/null\n",
        "!wget -q http://archive.apache.org/dist/spark/spark-3.1.1/spark-3.1.1-bin-hadoop3.2.tgz\n",
        "!tar xf spark-3.1.1-bin-hadoop3.2.tgz\n",
        "!pip install -q findspark"
      ],
      "metadata": {
        "id": "u3mL6zXB_yOG"
      },
      "execution_count": 28,
      "outputs": []
    },
    {
      "cell_type": "code",
      "source": [
        "import os\n",
        "os.environ[\"JAVA_HOME\"] = \"/usr/lib/jvm/java-8-openjdk-amd64\"\n",
        "os.environ[\"SPARK_HOME\"] = \"/content/spark-3.1.1-bin-hadoop3.2\""
      ],
      "metadata": {
        "id": "OVFJCkSD_yVU"
      },
      "execution_count": 29,
      "outputs": []
    },
    {
      "cell_type": "code",
      "source": [
        "import findspark\n",
        "findspark.init()\n",
        "from pyspark.sql import SparkSession\n",
        "spark = SparkSession.builder.master(\"local[*]\").getOrCreate()\n",
        "spark.conf.set(\"spark.sql.repl.eagerEval.enabled\", True) # Property used to format output tables better\n",
        "spark\n"
      ],
      "metadata": {
        "colab": {
          "base_uri": "https://localhost:8080/",
          "height": 219
        },
        "id": "58rRLDco_yfu",
        "outputId": "f0ef6c5f-d6fe-4aba-882d-05f9b8de84c6"
      },
      "execution_count": 30,
      "outputs": [
        {
          "output_type": "execute_result",
          "data": {
            "text/plain": [
              "<pyspark.sql.session.SparkSession at 0x7f6f3db22a10>"
            ],
            "text/html": [
              "\n",
              "            <div>\n",
              "                <p><b>SparkSession - in-memory</b></p>\n",
              "                \n",
              "        <div>\n",
              "            <p><b>SparkContext</b></p>\n",
              "\n",
              "            <p><a href=\"http://a01312720dc7:4040\">Spark UI</a></p>\n",
              "\n",
              "            <dl>\n",
              "              <dt>Version</dt>\n",
              "                <dd><code>v3.1.1</code></dd>\n",
              "              <dt>Master</dt>\n",
              "                <dd><code>local[*]</code></dd>\n",
              "              <dt>AppName</dt>\n",
              "                <dd><code>pyspark-shell</code></dd>\n",
              "            </dl>\n",
              "        </div>\n",
              "        \n",
              "            </div>\n",
              "        "
            ]
          },
          "metadata": {},
          "execution_count": 30
        }
      ]
    },
    {
      "cell_type": "markdown",
      "source": [
        "### Import necessary libraries"
      ],
      "metadata": {
        "id": "K_VK0dbUHWs0"
      }
    },
    {
      "cell_type": "code",
      "source": [
        "from pyspark import SparkContext\n",
        "from pyspark.sql import SparkSession\n",
        "from pyspark.ml.feature import VectorAssembler\n",
        "from pyspark.ml.evaluation import MulticlassClassificationEvaluator\n",
        "import matplotlib.pyplot as plt\n",
        "from pyspark.sql.functions import col\n",
        "import matplotlib.pyplot as plt\n",
        "import seaborn as sns\n",
        "from pyspark.ml.clustering import KMeans\n",
        "from pyspark.ml.evaluation import ClusteringEvaluator\n",
        "from pyspark.sql.functions import col\n",
        "from pyspark.ml import Pipeline\n",
        "from pyspark.ml.classification import RandomForestClassifier\n",
        "from pyspark.ml.feature import StringIndexer, VectorAssembler\n",
        "from pyspark.ml.tuning import CrossValidator, ParamGridBuilder\n",
        "from pyspark.ml.feature import StandardScaler\n",
        "\n"
      ],
      "metadata": {
        "id": "wRetbqddAW30"
      },
      "execution_count": 31,
      "outputs": []
    },
    {
      "cell_type": "markdown",
      "source": [
        "### Load Dataset"
      ],
      "metadata": {
        "id": "veWS4kmCHj6T"
      }
    },
    {
      "cell_type": "code",
      "source": [
        "from pyspark.sql import SparkSession\n",
        "spark = SparkSession.builder.appName(\"Clustering using K-Means\").getOrCreate()\n",
        "data = spark.read.csv(\"all_topics_datasets_matching.csv\", header=True, inferSchema=True)\n",
        "data.show(10)\n"
      ],
      "metadata": {
        "colab": {
          "base_uri": "https://localhost:8080/"
        },
        "id": "49tPSxBRAXIp",
        "outputId": "e21568c9-d083-486b-a47d-749a4e1cad57"
      },
      "execution_count": 32,
      "outputs": [
        {
          "output_type": "stream",
          "name": "stdout",
          "text": [
            "+----+----+-------------+--------------------+-------------+--------------+--------------+----------------+----------------+----------------+----------------+------------------+-----------------+------------------+------------------+----------------+---------------+----------------+----------------+----------------+----------------+-------------------------+-------------------------+-------------------------+-------------------------+----------------------+--------------------------+---------------------------+-------------------------+\n",
            "|did1|did2|dataset_name1|       dataset_name2|num_instances|num_attributes|dimensionality|num_numeric_attr|pct_numeric_attr|num_nominal_attr|pct_nominal_attr|avg_nominal_values|sd_nominal_values|min_nominal_values|max_nominal_values|avg_numeric_mean|sd_numeric_mean|min_numeric_mean|max_numeric_mean|missing_attr_cnt|missing_attr_pct|missing_instances_max_cnt|missing_instances_max_pct|missing_instances_min_cnt|missing_instances_min_pct|missing_instances_mean|missing_instances_mean_pct|datesets_subject_main_match|datesets_duplicates_match|\n",
            "+----+----+-------------+--------------------+-------------+--------------+--------------+----------------+----------------+----------------+----------------+------------------+-----------------+------------------+------------------+----------------+---------------+----------------+----------------+----------------+----------------+-------------------------+-------------------------+-------------------------+-------------------------+----------------------+--------------------------+---------------------------+-------------------------+\n",
            "| 171| 185|primary-tumor|            baseball|     0.747015|           0.0|      0.747015|             1.0|             1.0|        0.833333|        0.833333|          0.992834|         0.993118|          0.333333|          0.984317|             1.0|            1.0|             0.0|             1.0|             0.8|             0.8|                 0.870968|                 0.967357|                     0.95|                  0.80236|              0.911111|                  0.977512|                          0|                        0|\n",
            "| 171|6331|primary-tumor|LoanDefaultPredic...|     0.996786|      0.976654|      0.862327|             1.0|             1.0|        0.666667|        0.992218|          0.870246|         0.838809|               0.0|          0.671875|             1.0|            1.0|             1.0|             1.0|        0.990476|        0.592063|                  0.99177|                  0.60947|                      0.0|                 0.996786|              0.987738|                   0.73788|                          0|                        0|\n",
            "| 171|1090|primary-tumor|       MercuryinBass|     0.843658|      0.333333|      0.765487|             1.0|             1.0|        0.944444|        0.916667|          0.939203|              1.0|          0.962264|          0.603774|             1.0|            1.0|             0.0|             1.0|             1.0|             1.0|                      1.0|                      1.0|                      1.0|                      1.0|                   1.0|                       1.0|                          0|                        0|\n",
            "| 171| 575|primary-tumor|          kdd_coil_4|    0.0678466|      0.333333|       0.28481|             1.0|             1.0|        0.833333|            0.75|         0.0333333|         0.891071|          0.333333|          0.809524|             1.0|            1.0|             1.0|             1.0|           0.375|        0.583333|                 0.851613|                 0.840813|                      0.5|                 0.533923|              0.626667|                  0.599494|                          0|                        0|\n",
            "| 171|1051|primary-tumor|      cocomo_numeric|     0.823009|     0.0555556|      0.812598|             1.0|             1.0|        0.166667|        0.117647|          0.121212|         0.838432|          0.333333|          0.761905|             1.0|            1.0|             1.0|             1.0|             1.0|             1.0|                      1.0|                      1.0|                      1.0|                      1.0|                   1.0|                       1.0|                          0|                        0|\n",
            "| 171|1481|primary-tumor|             kr-vs-k|     0.987917|      0.611111|      0.995301|             1.0|             1.0|        0.777778|        0.428571|          0.660819|         0.163264|               0.5|          0.142857|             1.0|            1.0|             1.0|             1.0|             1.0|             1.0|                      1.0|                      1.0|                      1.0|                      1.0|                   1.0|                       1.0|                          0|                        0|\n",
            "| 171| 382|primary-tumor|   ipums_la_97-small|     0.951703|      0.704918|      0.836325|             0.0|             0.0|        0.704918|             0.0|          0.934284|         0.954003|               0.5|          0.956967|             0.0|            0.0|             0.0|             0.0|        0.722222|       0.0586419|                 0.975303|                 0.488643|                 0.992593|                  0.84663|              0.984144|                  0.671701|                          0|                        0|\n",
            "| 171| 576|primary-tumor|          kdd_coil_5|    0.0678466|      0.333333|       0.28481|             1.0|             1.0|        0.833333|            0.75|         0.0333333|         0.891071|          0.333333|          0.809524|             1.0|            1.0|             1.0|             1.0|           0.375|        0.583333|                 0.851613|                 0.840813|                      0.5|                 0.533923|              0.626667|                  0.599494|                          0|                        0|\n",
            "| 171|1465|primary-tumor|       breast-tissue|     0.687316|      0.444444|      0.437168|             1.0|             1.0|        0.944444|             0.9|          0.462963|              1.0|          0.666667|          0.714286|             1.0|            1.0|             1.0|             1.0|             1.0|             1.0|                      1.0|                      1.0|                      1.0|                      1.0|                   1.0|                       1.0|                          0|                        0|\n",
            "| 171|1567|primary-tumor|          poker-hand|     0.999669|      0.388889|      0.999798|             1.0|             1.0|        0.944444|        0.909091|          0.677778|              1.0|               0.8|           0.52381|             1.0|            1.0|             1.0|             1.0|             1.0|             1.0|                      1.0|                      1.0|                      1.0|                      1.0|                   1.0|                       1.0|                          0|                        0|\n",
            "+----+----+-------------+--------------------+-------------+--------------+--------------+----------------+----------------+----------------+----------------+------------------+-----------------+------------------+------------------+----------------+---------------+----------------+----------------+----------------+----------------+-------------------------+-------------------------+-------------------------+-------------------------+----------------------+--------------------------+---------------------------+-------------------------+\n",
            "only showing top 10 rows\n",
            "\n"
          ]
        }
      ]
    },
    {
      "cell_type": "code",
      "source": [
        "data.printSchema()"
      ],
      "metadata": {
        "id": "qzdv3GxvCA1t",
        "colab": {
          "base_uri": "https://localhost:8080/"
        },
        "outputId": "e30f09b1-c400-4341-f964-a4453378f177"
      },
      "execution_count": 33,
      "outputs": [
        {
          "output_type": "stream",
          "name": "stdout",
          "text": [
            "root\n",
            " |-- did1: integer (nullable = true)\n",
            " |-- did2: integer (nullable = true)\n",
            " |-- dataset_name1: string (nullable = true)\n",
            " |-- dataset_name2: string (nullable = true)\n",
            " |-- num_instances: double (nullable = true)\n",
            " |-- num_attributes: double (nullable = true)\n",
            " |-- dimensionality: double (nullable = true)\n",
            " |-- num_numeric_attr: double (nullable = true)\n",
            " |-- pct_numeric_attr: double (nullable = true)\n",
            " |-- num_nominal_attr: double (nullable = true)\n",
            " |-- pct_nominal_attr: double (nullable = true)\n",
            " |-- avg_nominal_values: double (nullable = true)\n",
            " |-- sd_nominal_values: double (nullable = true)\n",
            " |-- min_nominal_values: double (nullable = true)\n",
            " |-- max_nominal_values: double (nullable = true)\n",
            " |-- avg_numeric_mean: double (nullable = true)\n",
            " |-- sd_numeric_mean: double (nullable = true)\n",
            " |-- min_numeric_mean: double (nullable = true)\n",
            " |-- max_numeric_mean: double (nullable = true)\n",
            " |-- missing_attr_cnt: double (nullable = true)\n",
            " |-- missing_attr_pct: double (nullable = true)\n",
            " |-- missing_instances_max_cnt: double (nullable = true)\n",
            " |-- missing_instances_max_pct: double (nullable = true)\n",
            " |-- missing_instances_min_cnt: double (nullable = true)\n",
            " |-- missing_instances_min_pct: double (nullable = true)\n",
            " |-- missing_instances_mean: double (nullable = true)\n",
            " |-- missing_instances_mean_pct: double (nullable = true)\n",
            " |-- datesets_subject_main_match: integer (nullable = true)\n",
            " |-- datesets_duplicates_match: integer (nullable = true)\n",
            "\n"
          ]
        }
      ]
    },
    {
      "cell_type": "markdown",
      "source": [
        "## Data Preprocessing"
      ],
      "metadata": {
        "id": "hyp5ECwgH65g"
      }
    },
    {
      "cell_type": "code",
      "source": [
        "data=data.drop(\"did1\",\"did2\",\"dataset_name1\",\"dataset_name2\", )\n",
        "data"
      ],
      "metadata": {
        "colab": {
          "base_uri": "https://localhost:8080/",
          "height": 545
        },
        "id": "t660_UpeCIj0",
        "outputId": "5024f018-b922-4d84-c3a7-fd0e040d8860"
      },
      "execution_count": 34,
      "outputs": [
        {
          "output_type": "execute_result",
          "data": {
            "text/plain": [
              "+-------------+--------------+--------------+----------------+----------------+----------------+----------------+------------------+-----------------+------------------+------------------+----------------+---------------+----------------+----------------+----------------+----------------+-------------------------+-------------------------+-------------------------+-------------------------+----------------------+--------------------------+---------------------------+-------------------------+\n",
              "|num_instances|num_attributes|dimensionality|num_numeric_attr|pct_numeric_attr|num_nominal_attr|pct_nominal_attr|avg_nominal_values|sd_nominal_values|min_nominal_values|max_nominal_values|avg_numeric_mean|sd_numeric_mean|min_numeric_mean|max_numeric_mean|missing_attr_cnt|missing_attr_pct|missing_instances_max_cnt|missing_instances_max_pct|missing_instances_min_cnt|missing_instances_min_pct|missing_instances_mean|missing_instances_mean_pct|datesets_subject_main_match|datesets_duplicates_match|\n",
              "+-------------+--------------+--------------+----------------+----------------+----------------+----------------+------------------+-----------------+------------------+------------------+----------------+---------------+----------------+----------------+----------------+----------------+-------------------------+-------------------------+-------------------------+-------------------------+----------------------+--------------------------+---------------------------+-------------------------+\n",
              "|     0.747015|           0.0|      0.747015|             1.0|             1.0|        0.833333|        0.833333|          0.992834|         0.993118|          0.333333|          0.984317|             1.0|            1.0|             0.0|             1.0|             0.8|             0.8|                 0.870968|                 0.967357|                     0.95|                  0.80236|              0.911111|                  0.977512|                          0|                        0|\n",
              "|     0.996786|      0.976654|      0.862327|             1.0|             1.0|        0.666667|        0.992218|          0.870246|         0.838809|               0.0|          0.671875|             1.0|            1.0|             1.0|             1.0|        0.990476|        0.592063|                  0.99177|                  0.60947|                      0.0|                 0.996786|              0.987738|                   0.73788|                          0|                        0|\n",
              "|     0.843658|      0.333333|      0.765487|             1.0|             1.0|        0.944444|        0.916667|          0.939203|              1.0|          0.962264|          0.603774|             1.0|            1.0|             0.0|             1.0|             1.0|             1.0|                      1.0|                      1.0|                      1.0|                      1.0|                   1.0|                       1.0|                          0|                        0|\n",
              "|    0.0678466|      0.333333|       0.28481|             1.0|             1.0|        0.833333|            0.75|         0.0333333|         0.891071|          0.333333|          0.809524|             1.0|            1.0|             1.0|             1.0|           0.375|        0.583333|                 0.851613|                 0.840813|                      0.5|                 0.533923|              0.626667|                  0.599494|                          0|                        0|\n",
              "|     0.823009|     0.0555556|      0.812598|             1.0|             1.0|        0.166667|        0.117647|          0.121212|         0.838432|          0.333333|          0.761905|             1.0|            1.0|             1.0|             1.0|             1.0|             1.0|                      1.0|                      1.0|                      1.0|                      1.0|                   1.0|                       1.0|                          0|                        0|\n",
              "|     0.987917|      0.611111|      0.995301|             1.0|             1.0|        0.777778|        0.428571|          0.660819|         0.163264|               0.5|          0.142857|             1.0|            1.0|             1.0|             1.0|             1.0|             1.0|                      1.0|                      1.0|                      1.0|                      1.0|                   1.0|                       1.0|                          0|                        0|\n",
              "|     0.951703|      0.704918|      0.836325|             0.0|             0.0|        0.704918|             0.0|          0.934284|         0.954003|               0.5|          0.956967|             0.0|            0.0|             0.0|             0.0|        0.722222|       0.0586419|                 0.975303|                 0.488643|                 0.992593|                  0.84663|              0.984144|                  0.671701|                          0|                        0|\n",
              "|    0.0678466|      0.333333|       0.28481|             1.0|             1.0|        0.833333|            0.75|         0.0333333|         0.891071|          0.333333|          0.809524|             1.0|            1.0|             1.0|             1.0|           0.375|        0.583333|                 0.851613|                 0.840813|                      0.5|                 0.533923|              0.626667|                  0.599494|                          0|                        0|\n",
              "|     0.687316|      0.444444|      0.437168|             1.0|             1.0|        0.944444|             0.9|          0.462963|              1.0|          0.666667|          0.714286|             1.0|            1.0|             1.0|             1.0|             1.0|             1.0|                      1.0|                      1.0|                      1.0|                      1.0|                   1.0|                       1.0|                          0|                        0|\n",
              "|     0.999669|      0.388889|      0.999798|             1.0|             1.0|        0.944444|        0.909091|          0.677778|              1.0|               0.8|           0.52381|             1.0|            1.0|             1.0|             1.0|             1.0|             1.0|                      1.0|                      1.0|                      1.0|                      1.0|                   1.0|                       1.0|                          0|                        0|\n",
              "|     0.997546|           0.5|      0.998773|             1.0|             1.0|        0.944444|        0.888889|          0.892593|              1.0|          0.933333|               0.3|             1.0|            1.0|             1.0|             1.0|             1.0|             1.0|                      1.0|                      1.0|                      1.0|                      1.0|                   1.0|                       1.0|                          0|                        0|\n",
              "|      0.92569|      0.166667|      0.938075|             1.0|             1.0|             0.5|             0.4|          0.704082|         0.603636|               0.0|          0.461538|             1.0|            1.0|             1.0|             1.0|             0.8|            0.76|                 0.432258|                 0.957811|                 0.988636|                 0.847077|              0.530667|                  0.965124|                          0|                        0|\n",
              "|     0.918841|           0.5|      0.959421|             1.0|             1.0|        0.888889|        0.777778|          0.792115|          0.65379|          0.333333|              0.25|             1.0|            1.0|             0.0|             1.0|             1.0|             1.0|                      1.0|                      1.0|                      1.0|                      1.0|                   1.0|                       1.0|                          0|                        0|\n",
              "|    0.0855457|      0.611111|      0.574731|             1.0|             1.0|        0.944444|        0.857143|           0.37931|              1.0|               0.0|          0.904762|             1.0|            1.0|             1.0|             1.0|             1.0|             1.0|                      1.0|                      1.0|                      1.0|                      1.0|                   1.0|                       1.0|                          1|                        0|\n",
              "|     0.961652|      0.222222|      0.950695|             1.0|             1.0|             1.0|             1.0|               1.0|              1.0|               1.0|               1.0|             1.0|            1.0|             1.0|             1.0|             1.0|             1.0|                      1.0|                      1.0|                      1.0|                      1.0|                   1.0|                       1.0|                          0|                        0|\n",
              "|     0.858407|      0.555556|      0.681416|             1.0|             1.0|        0.944444|           0.875|           0.93287|              1.0|          0.958333|            0.5625|             1.0|            1.0|             1.0|             1.0|             1.0|             1.0|                      1.0|                      1.0|                      1.0|                      1.0|                   1.0|                       1.0|                          0|                        0|\n",
              "|     0.383481|      0.555556|      0.279107|             1.0|             1.0|        0.944444|           0.875|          0.892593|              1.0|          0.933333|               0.3|             1.0|            1.0|             1.0|             1.0|             1.0|             1.0|                      1.0|                      1.0|                      1.0|                      1.0|                   1.0|                       1.0|                          0|                        0|\n",
              "|     0.705015|      0.666667|      0.115044|             0.0|             0.0|        0.666667|             0.0|           0.12069|         0.753402|               0.0|          0.761905|             0.0|            0.0|             0.0|             0.0|             1.0|             1.0|                      1.0|                      1.0|                      1.0|                      1.0|                   1.0|                       1.0|                          0|                        0|\n",
              "|    0.0678466|      0.333333|       0.28481|             1.0|             1.0|        0.833333|            0.75|         0.0333333|         0.891071|          0.333333|          0.809524|             1.0|            1.0|             1.0|             1.0|           0.375|        0.583333|                 0.851613|                 0.840813|                      0.5|                 0.533923|              0.626667|                  0.599494|                          0|                        0|\n",
              "|     0.772861|      0.111111|      0.744469|             1.0|             1.0|        0.833333|          0.8125|          0.887597|         0.873601|               0.0|          0.727273|             1.0|            1.0|             1.0|             1.0|             1.0|             1.0|                      1.0|                      1.0|                      1.0|                      1.0|                   1.0|                       1.0|                          0|                        0|\n",
              "+-------------+--------------+--------------+----------------+----------------+----------------+----------------+------------------+-----------------+------------------+------------------+----------------+---------------+----------------+----------------+----------------+----------------+-------------------------+-------------------------+-------------------------+-------------------------+----------------------+--------------------------+---------------------------+-------------------------+\n",
              "only showing top 20 rows"
            ],
            "text/html": [
              "<table border='1'>\n",
              "<tr><th>num_instances</th><th>num_attributes</th><th>dimensionality</th><th>num_numeric_attr</th><th>pct_numeric_attr</th><th>num_nominal_attr</th><th>pct_nominal_attr</th><th>avg_nominal_values</th><th>sd_nominal_values</th><th>min_nominal_values</th><th>max_nominal_values</th><th>avg_numeric_mean</th><th>sd_numeric_mean</th><th>min_numeric_mean</th><th>max_numeric_mean</th><th>missing_attr_cnt</th><th>missing_attr_pct</th><th>missing_instances_max_cnt</th><th>missing_instances_max_pct</th><th>missing_instances_min_cnt</th><th>missing_instances_min_pct</th><th>missing_instances_mean</th><th>missing_instances_mean_pct</th><th>datesets_subject_main_match</th><th>datesets_duplicates_match</th></tr>\n",
              "<tr><td>0.747015</td><td>0.0</td><td>0.747015</td><td>1.0</td><td>1.0</td><td>0.833333</td><td>0.833333</td><td>0.992834</td><td>0.993118</td><td>0.333333</td><td>0.984317</td><td>1.0</td><td>1.0</td><td>0.0</td><td>1.0</td><td>0.8</td><td>0.8</td><td>0.870968</td><td>0.967357</td><td>0.95</td><td>0.80236</td><td>0.911111</td><td>0.977512</td><td>0</td><td>0</td></tr>\n",
              "<tr><td>0.996786</td><td>0.976654</td><td>0.862327</td><td>1.0</td><td>1.0</td><td>0.666667</td><td>0.992218</td><td>0.870246</td><td>0.838809</td><td>0.0</td><td>0.671875</td><td>1.0</td><td>1.0</td><td>1.0</td><td>1.0</td><td>0.990476</td><td>0.592063</td><td>0.99177</td><td>0.60947</td><td>0.0</td><td>0.996786</td><td>0.987738</td><td>0.73788</td><td>0</td><td>0</td></tr>\n",
              "<tr><td>0.843658</td><td>0.333333</td><td>0.765487</td><td>1.0</td><td>1.0</td><td>0.944444</td><td>0.916667</td><td>0.939203</td><td>1.0</td><td>0.962264</td><td>0.603774</td><td>1.0</td><td>1.0</td><td>0.0</td><td>1.0</td><td>1.0</td><td>1.0</td><td>1.0</td><td>1.0</td><td>1.0</td><td>1.0</td><td>1.0</td><td>1.0</td><td>0</td><td>0</td></tr>\n",
              "<tr><td>0.0678466</td><td>0.333333</td><td>0.28481</td><td>1.0</td><td>1.0</td><td>0.833333</td><td>0.75</td><td>0.0333333</td><td>0.891071</td><td>0.333333</td><td>0.809524</td><td>1.0</td><td>1.0</td><td>1.0</td><td>1.0</td><td>0.375</td><td>0.583333</td><td>0.851613</td><td>0.840813</td><td>0.5</td><td>0.533923</td><td>0.626667</td><td>0.599494</td><td>0</td><td>0</td></tr>\n",
              "<tr><td>0.823009</td><td>0.0555556</td><td>0.812598</td><td>1.0</td><td>1.0</td><td>0.166667</td><td>0.117647</td><td>0.121212</td><td>0.838432</td><td>0.333333</td><td>0.761905</td><td>1.0</td><td>1.0</td><td>1.0</td><td>1.0</td><td>1.0</td><td>1.0</td><td>1.0</td><td>1.0</td><td>1.0</td><td>1.0</td><td>1.0</td><td>1.0</td><td>0</td><td>0</td></tr>\n",
              "<tr><td>0.987917</td><td>0.611111</td><td>0.995301</td><td>1.0</td><td>1.0</td><td>0.777778</td><td>0.428571</td><td>0.660819</td><td>0.163264</td><td>0.5</td><td>0.142857</td><td>1.0</td><td>1.0</td><td>1.0</td><td>1.0</td><td>1.0</td><td>1.0</td><td>1.0</td><td>1.0</td><td>1.0</td><td>1.0</td><td>1.0</td><td>1.0</td><td>0</td><td>0</td></tr>\n",
              "<tr><td>0.951703</td><td>0.704918</td><td>0.836325</td><td>0.0</td><td>0.0</td><td>0.704918</td><td>0.0</td><td>0.934284</td><td>0.954003</td><td>0.5</td><td>0.956967</td><td>0.0</td><td>0.0</td><td>0.0</td><td>0.0</td><td>0.722222</td><td>0.0586419</td><td>0.975303</td><td>0.488643</td><td>0.992593</td><td>0.84663</td><td>0.984144</td><td>0.671701</td><td>0</td><td>0</td></tr>\n",
              "<tr><td>0.0678466</td><td>0.333333</td><td>0.28481</td><td>1.0</td><td>1.0</td><td>0.833333</td><td>0.75</td><td>0.0333333</td><td>0.891071</td><td>0.333333</td><td>0.809524</td><td>1.0</td><td>1.0</td><td>1.0</td><td>1.0</td><td>0.375</td><td>0.583333</td><td>0.851613</td><td>0.840813</td><td>0.5</td><td>0.533923</td><td>0.626667</td><td>0.599494</td><td>0</td><td>0</td></tr>\n",
              "<tr><td>0.687316</td><td>0.444444</td><td>0.437168</td><td>1.0</td><td>1.0</td><td>0.944444</td><td>0.9</td><td>0.462963</td><td>1.0</td><td>0.666667</td><td>0.714286</td><td>1.0</td><td>1.0</td><td>1.0</td><td>1.0</td><td>1.0</td><td>1.0</td><td>1.0</td><td>1.0</td><td>1.0</td><td>1.0</td><td>1.0</td><td>1.0</td><td>0</td><td>0</td></tr>\n",
              "<tr><td>0.999669</td><td>0.388889</td><td>0.999798</td><td>1.0</td><td>1.0</td><td>0.944444</td><td>0.909091</td><td>0.677778</td><td>1.0</td><td>0.8</td><td>0.52381</td><td>1.0</td><td>1.0</td><td>1.0</td><td>1.0</td><td>1.0</td><td>1.0</td><td>1.0</td><td>1.0</td><td>1.0</td><td>1.0</td><td>1.0</td><td>1.0</td><td>0</td><td>0</td></tr>\n",
              "<tr><td>0.997546</td><td>0.5</td><td>0.998773</td><td>1.0</td><td>1.0</td><td>0.944444</td><td>0.888889</td><td>0.892593</td><td>1.0</td><td>0.933333</td><td>0.3</td><td>1.0</td><td>1.0</td><td>1.0</td><td>1.0</td><td>1.0</td><td>1.0</td><td>1.0</td><td>1.0</td><td>1.0</td><td>1.0</td><td>1.0</td><td>1.0</td><td>0</td><td>0</td></tr>\n",
              "<tr><td>0.92569</td><td>0.166667</td><td>0.938075</td><td>1.0</td><td>1.0</td><td>0.5</td><td>0.4</td><td>0.704082</td><td>0.603636</td><td>0.0</td><td>0.461538</td><td>1.0</td><td>1.0</td><td>1.0</td><td>1.0</td><td>0.8</td><td>0.76</td><td>0.432258</td><td>0.957811</td><td>0.988636</td><td>0.847077</td><td>0.530667</td><td>0.965124</td><td>0</td><td>0</td></tr>\n",
              "<tr><td>0.918841</td><td>0.5</td><td>0.959421</td><td>1.0</td><td>1.0</td><td>0.888889</td><td>0.777778</td><td>0.792115</td><td>0.65379</td><td>0.333333</td><td>0.25</td><td>1.0</td><td>1.0</td><td>0.0</td><td>1.0</td><td>1.0</td><td>1.0</td><td>1.0</td><td>1.0</td><td>1.0</td><td>1.0</td><td>1.0</td><td>1.0</td><td>0</td><td>0</td></tr>\n",
              "<tr><td>0.0855457</td><td>0.611111</td><td>0.574731</td><td>1.0</td><td>1.0</td><td>0.944444</td><td>0.857143</td><td>0.37931</td><td>1.0</td><td>0.0</td><td>0.904762</td><td>1.0</td><td>1.0</td><td>1.0</td><td>1.0</td><td>1.0</td><td>1.0</td><td>1.0</td><td>1.0</td><td>1.0</td><td>1.0</td><td>1.0</td><td>1.0</td><td>1</td><td>0</td></tr>\n",
              "<tr><td>0.961652</td><td>0.222222</td><td>0.950695</td><td>1.0</td><td>1.0</td><td>1.0</td><td>1.0</td><td>1.0</td><td>1.0</td><td>1.0</td><td>1.0</td><td>1.0</td><td>1.0</td><td>1.0</td><td>1.0</td><td>1.0</td><td>1.0</td><td>1.0</td><td>1.0</td><td>1.0</td><td>1.0</td><td>1.0</td><td>1.0</td><td>0</td><td>0</td></tr>\n",
              "<tr><td>0.858407</td><td>0.555556</td><td>0.681416</td><td>1.0</td><td>1.0</td><td>0.944444</td><td>0.875</td><td>0.93287</td><td>1.0</td><td>0.958333</td><td>0.5625</td><td>1.0</td><td>1.0</td><td>1.0</td><td>1.0</td><td>1.0</td><td>1.0</td><td>1.0</td><td>1.0</td><td>1.0</td><td>1.0</td><td>1.0</td><td>1.0</td><td>0</td><td>0</td></tr>\n",
              "<tr><td>0.383481</td><td>0.555556</td><td>0.279107</td><td>1.0</td><td>1.0</td><td>0.944444</td><td>0.875</td><td>0.892593</td><td>1.0</td><td>0.933333</td><td>0.3</td><td>1.0</td><td>1.0</td><td>1.0</td><td>1.0</td><td>1.0</td><td>1.0</td><td>1.0</td><td>1.0</td><td>1.0</td><td>1.0</td><td>1.0</td><td>1.0</td><td>0</td><td>0</td></tr>\n",
              "<tr><td>0.705015</td><td>0.666667</td><td>0.115044</td><td>0.0</td><td>0.0</td><td>0.666667</td><td>0.0</td><td>0.12069</td><td>0.753402</td><td>0.0</td><td>0.761905</td><td>0.0</td><td>0.0</td><td>0.0</td><td>0.0</td><td>1.0</td><td>1.0</td><td>1.0</td><td>1.0</td><td>1.0</td><td>1.0</td><td>1.0</td><td>1.0</td><td>0</td><td>0</td></tr>\n",
              "<tr><td>0.0678466</td><td>0.333333</td><td>0.28481</td><td>1.0</td><td>1.0</td><td>0.833333</td><td>0.75</td><td>0.0333333</td><td>0.891071</td><td>0.333333</td><td>0.809524</td><td>1.0</td><td>1.0</td><td>1.0</td><td>1.0</td><td>0.375</td><td>0.583333</td><td>0.851613</td><td>0.840813</td><td>0.5</td><td>0.533923</td><td>0.626667</td><td>0.599494</td><td>0</td><td>0</td></tr>\n",
              "<tr><td>0.772861</td><td>0.111111</td><td>0.744469</td><td>1.0</td><td>1.0</td><td>0.833333</td><td>0.8125</td><td>0.887597</td><td>0.873601</td><td>0.0</td><td>0.727273</td><td>1.0</td><td>1.0</td><td>1.0</td><td>1.0</td><td>1.0</td><td>1.0</td><td>1.0</td><td>1.0</td><td>1.0</td><td>1.0</td><td>1.0</td><td>1.0</td><td>0</td><td>0</td></tr>\n",
              "</table>\n",
              "only showing top 20 rows\n"
            ]
          },
          "metadata": {},
          "execution_count": 34
        }
      ]
    },
    {
      "cell_type": "code",
      "source": [
        "# Create vector assembler\n",
        "labelCol = 'datesets_subject_main_match'\n",
        "numericCols = ['num_instances','num_attributes',\n",
        " 'dimensionality','num_numeric_attr','pct_numeric_attr','num_nominal_attr', 'pct_nominal_attr',\n",
        " 'avg_nominal_values','sd_nominal_values','min_nominal_values','max_nominal_values','avg_numeric_mean',\n",
        " 'sd_numeric_mean','min_numeric_mean','max_numeric_mean','missing_attr_cnt','missing_attr_pct',\n",
        " 'missing_instances_max_cnt','missing_instances_max_pct','missing_instances_min_cnt','missing_instances_min_pct',\n",
        " 'missing_instances_mean','missing_instances_mean_pct']\n",
        "assembler = VectorAssembler(inputCols=numericCols, outputCol=\"features\")\n",
        "\n",
        "# Transform the  data\n",
        "data = assembler.transform(data)\n",
        "\n"
      ],
      "metadata": {
        "id": "gv9fIE5mC5lc"
      },
      "execution_count": 35,
      "outputs": []
    },
    {
      "cell_type": "markdown",
      "source": [
        "### Cluster-based undersampling\n"
      ],
      "metadata": {
        "id": "v4bXYSDEXvGM"
      }
    },
    {
      "cell_type": "code",
      "source": [
        "# Filter the data where `datesets_subject_main_match` is equal to zero\n",
        "filtered_data_0 = data.filter(col(\"datesets_subject_main_match\") == 0)\n",
        "\n",
        "# Show the filtered data\n",
        "filtered_data_0.show()\n",
        "\n"
      ],
      "metadata": {
        "colab": {
          "base_uri": "https://localhost:8080/"
        },
        "id": "S1VDzTTWWpQg",
        "outputId": "7a335a17-4fe5-482a-a9bc-a037103ccadd"
      },
      "execution_count": 36,
      "outputs": [
        {
          "output_type": "stream",
          "name": "stdout",
          "text": [
            "+-------------+--------------+--------------+----------------+----------------+----------------+----------------+------------------+-----------------+------------------+------------------+----------------+---------------+----------------+----------------+----------------+----------------+-------------------------+-------------------------+-------------------------+-------------------------+----------------------+--------------------------+---------------------------+-------------------------+--------------------+\n",
            "|num_instances|num_attributes|dimensionality|num_numeric_attr|pct_numeric_attr|num_nominal_attr|pct_nominal_attr|avg_nominal_values|sd_nominal_values|min_nominal_values|max_nominal_values|avg_numeric_mean|sd_numeric_mean|min_numeric_mean|max_numeric_mean|missing_attr_cnt|missing_attr_pct|missing_instances_max_cnt|missing_instances_max_pct|missing_instances_min_cnt|missing_instances_min_pct|missing_instances_mean|missing_instances_mean_pct|datesets_subject_main_match|datesets_duplicates_match|            features|\n",
            "+-------------+--------------+--------------+----------------+----------------+----------------+----------------+------------------+-----------------+------------------+------------------+----------------+---------------+----------------+----------------+----------------+----------------+-------------------------+-------------------------+-------------------------+-------------------------+----------------------+--------------------------+---------------------------+-------------------------+--------------------+\n",
            "|     0.747015|           0.0|      0.747015|             1.0|             1.0|        0.833333|        0.833333|          0.992834|         0.993118|          0.333333|          0.984317|             1.0|            1.0|             0.0|             1.0|             0.8|             0.8|                 0.870968|                 0.967357|                     0.95|                  0.80236|              0.911111|                  0.977512|                          0|                        0|[0.747015,0.0,0.7...|\n",
            "|     0.996786|      0.976654|      0.862327|             1.0|             1.0|        0.666667|        0.992218|          0.870246|         0.838809|               0.0|          0.671875|             1.0|            1.0|             1.0|             1.0|        0.990476|        0.592063|                  0.99177|                  0.60947|                      0.0|                 0.996786|              0.987738|                   0.73788|                          0|                        0|[0.996786,0.97665...|\n",
            "|     0.843658|      0.333333|      0.765487|             1.0|             1.0|        0.944444|        0.916667|          0.939203|              1.0|          0.962264|          0.603774|             1.0|            1.0|             0.0|             1.0|             1.0|             1.0|                      1.0|                      1.0|                      1.0|                      1.0|                   1.0|                       1.0|                          0|                        0|[0.843658,0.33333...|\n",
            "|    0.0678466|      0.333333|       0.28481|             1.0|             1.0|        0.833333|            0.75|         0.0333333|         0.891071|          0.333333|          0.809524|             1.0|            1.0|             1.0|             1.0|           0.375|        0.583333|                 0.851613|                 0.840813|                      0.5|                 0.533923|              0.626667|                  0.599494|                          0|                        0|[0.0678466,0.3333...|\n",
            "|     0.823009|     0.0555556|      0.812598|             1.0|             1.0|        0.166667|        0.117647|          0.121212|         0.838432|          0.333333|          0.761905|             1.0|            1.0|             1.0|             1.0|             1.0|             1.0|                      1.0|                      1.0|                      1.0|                      1.0|                   1.0|                       1.0|                          0|                        0|[0.823009,0.05555...|\n",
            "|     0.987917|      0.611111|      0.995301|             1.0|             1.0|        0.777778|        0.428571|          0.660819|         0.163264|               0.5|          0.142857|             1.0|            1.0|             1.0|             1.0|             1.0|             1.0|                      1.0|                      1.0|                      1.0|                      1.0|                   1.0|                       1.0|                          0|                        0|[0.987917,0.61111...|\n",
            "|     0.951703|      0.704918|      0.836325|             0.0|             0.0|        0.704918|             0.0|          0.934284|         0.954003|               0.5|          0.956967|             0.0|            0.0|             0.0|             0.0|        0.722222|       0.0586419|                 0.975303|                 0.488643|                 0.992593|                  0.84663|              0.984144|                  0.671701|                          0|                        0|[0.951703,0.70491...|\n",
            "|    0.0678466|      0.333333|       0.28481|             1.0|             1.0|        0.833333|            0.75|         0.0333333|         0.891071|          0.333333|          0.809524|             1.0|            1.0|             1.0|             1.0|           0.375|        0.583333|                 0.851613|                 0.840813|                      0.5|                 0.533923|              0.626667|                  0.599494|                          0|                        0|[0.0678466,0.3333...|\n",
            "|     0.687316|      0.444444|      0.437168|             1.0|             1.0|        0.944444|             0.9|          0.462963|              1.0|          0.666667|          0.714286|             1.0|            1.0|             1.0|             1.0|             1.0|             1.0|                      1.0|                      1.0|                      1.0|                      1.0|                   1.0|                       1.0|                          0|                        0|[0.687316,0.44444...|\n",
            "|     0.999669|      0.388889|      0.999798|             1.0|             1.0|        0.944444|        0.909091|          0.677778|              1.0|               0.8|           0.52381|             1.0|            1.0|             1.0|             1.0|             1.0|             1.0|                      1.0|                      1.0|                      1.0|                      1.0|                   1.0|                       1.0|                          0|                        0|[0.999669,0.38888...|\n",
            "|     0.997546|           0.5|      0.998773|             1.0|             1.0|        0.944444|        0.888889|          0.892593|              1.0|          0.933333|               0.3|             1.0|            1.0|             1.0|             1.0|             1.0|             1.0|                      1.0|                      1.0|                      1.0|                      1.0|                   1.0|                       1.0|                          0|                        0|[0.997546,0.5,0.9...|\n",
            "|      0.92569|      0.166667|      0.938075|             1.0|             1.0|             0.5|             0.4|          0.704082|         0.603636|               0.0|          0.461538|             1.0|            1.0|             1.0|             1.0|             0.8|            0.76|                 0.432258|                 0.957811|                 0.988636|                 0.847077|              0.530667|                  0.965124|                          0|                        0|[0.92569,0.166667...|\n",
            "|     0.918841|           0.5|      0.959421|             1.0|             1.0|        0.888889|        0.777778|          0.792115|          0.65379|          0.333333|              0.25|             1.0|            1.0|             0.0|             1.0|             1.0|             1.0|                      1.0|                      1.0|                      1.0|                      1.0|                   1.0|                       1.0|                          0|                        0|[0.918841,0.5,0.9...|\n",
            "|     0.961652|      0.222222|      0.950695|             1.0|             1.0|             1.0|             1.0|               1.0|              1.0|               1.0|               1.0|             1.0|            1.0|             1.0|             1.0|             1.0|             1.0|                      1.0|                      1.0|                      1.0|                      1.0|                   1.0|                       1.0|                          0|                        0|[0.961652,0.22222...|\n",
            "|     0.858407|      0.555556|      0.681416|             1.0|             1.0|        0.944444|           0.875|           0.93287|              1.0|          0.958333|            0.5625|             1.0|            1.0|             1.0|             1.0|             1.0|             1.0|                      1.0|                      1.0|                      1.0|                      1.0|                   1.0|                       1.0|                          0|                        0|[0.858407,0.55555...|\n",
            "|     0.383481|      0.555556|      0.279107|             1.0|             1.0|        0.944444|           0.875|          0.892593|              1.0|          0.933333|               0.3|             1.0|            1.0|             1.0|             1.0|             1.0|             1.0|                      1.0|                      1.0|                      1.0|                      1.0|                   1.0|                       1.0|                          0|                        0|[0.383481,0.55555...|\n",
            "|     0.705015|      0.666667|      0.115044|             0.0|             0.0|        0.666667|             0.0|           0.12069|         0.753402|               0.0|          0.761905|             0.0|            0.0|             0.0|             0.0|             1.0|             1.0|                      1.0|                      1.0|                      1.0|                      1.0|                   1.0|                       1.0|                          0|                        0|[0.705015,0.66666...|\n",
            "|    0.0678466|      0.333333|       0.28481|             1.0|             1.0|        0.833333|            0.75|         0.0333333|         0.891071|          0.333333|          0.809524|             1.0|            1.0|             1.0|             1.0|           0.375|        0.583333|                 0.851613|                 0.840813|                      0.5|                 0.533923|              0.626667|                  0.599494|                          0|                        0|[0.0678466,0.3333...|\n",
            "|     0.772861|      0.111111|      0.744469|             1.0|             1.0|        0.833333|          0.8125|          0.887597|         0.873601|               0.0|          0.727273|             1.0|            1.0|             1.0|             1.0|             1.0|             1.0|                      1.0|                      1.0|                      1.0|                      1.0|                   1.0|                       1.0|                          0|                        0|[0.772861,0.11111...|\n",
            "|     0.939345|      0.513514|      0.875321|             1.0|             1.0|        0.944444|        0.972973|           0.37931|              1.0|               0.0|          0.904762|             1.0|            1.0|             0.0|             1.0|             1.0|             1.0|                      1.0|                      1.0|                      1.0|                      1.0|                   1.0|                       1.0|                          0|                        0|[0.939345,0.51351...|\n",
            "+-------------+--------------+--------------+----------------+----------------+----------------+----------------+------------------+-----------------+------------------+------------------+----------------+---------------+----------------+----------------+----------------+----------------+-------------------------+-------------------------+-------------------------+-------------------------+----------------------+--------------------------+---------------------------+-------------------------+--------------------+\n",
            "only showing top 20 rows\n",
            "\n"
          ]
        }
      ]
    },
    {
      "cell_type": "code",
      "source": [
        "# Filter the data where `datesets_subject_main_match` is equal to one\n",
        "filtered_data_1 = data.filter(col(\"datesets_subject_main_match\") == 1)\n",
        "\n",
        "# Show the filtered data\n",
        "filtered_data_1.show()\n"
      ],
      "metadata": {
        "colab": {
          "base_uri": "https://localhost:8080/"
        },
        "id": "2F2QHpKFWpkb",
        "outputId": "e21d560c-cc74-4d2e-ab72-0f8a50ed88c7"
      },
      "execution_count": 37,
      "outputs": [
        {
          "output_type": "stream",
          "name": "stdout",
          "text": [
            "+-------------+--------------+--------------+----------------+----------------+----------------+----------------+------------------+-----------------+------------------+------------------+----------------+---------------+----------------+----------------+----------------+----------------+-------------------------+-------------------------+-------------------------+-------------------------+----------------------+--------------------------+---------------------------+-------------------------+--------------------+\n",
            "|num_instances|num_attributes|dimensionality|num_numeric_attr|pct_numeric_attr|num_nominal_attr|pct_nominal_attr|avg_nominal_values|sd_nominal_values|min_nominal_values|max_nominal_values|avg_numeric_mean|sd_numeric_mean|min_numeric_mean|max_numeric_mean|missing_attr_cnt|missing_attr_pct|missing_instances_max_cnt|missing_instances_max_pct|missing_instances_min_cnt|missing_instances_min_pct|missing_instances_mean|missing_instances_mean_pct|datesets_subject_main_match|datesets_duplicates_match|            features|\n",
            "+-------------+--------------+--------------+----------------+----------------+----------------+----------------+------------------+-----------------+------------------+------------------+----------------+---------------+----------------+----------------+----------------+----------------+-------------------------+-------------------------+-------------------------+-------------------------+----------------------+--------------------------+---------------------------+-------------------------+--------------------+\n",
            "|    0.0855457|      0.611111|      0.574731|             1.0|             1.0|        0.944444|        0.857143|           0.37931|              1.0|               0.0|          0.904762|             1.0|            1.0|             1.0|             1.0|             1.0|             1.0|                      1.0|                      1.0|                      1.0|                      1.0|                   1.0|                       1.0|                          1|                        0|[0.0855457,0.6111...|\n",
            "|     0.404218|      0.419355|     0.0254068|             1.0|             1.0|        0.944444|        0.967742|           0.37931|              1.0|               0.0|          0.904762|             1.0|            1.0|             0.0|             1.0|             1.0|             1.0|                      1.0|                      1.0|                      1.0|                      1.0|                   1.0|                       1.0|                          1|                        0|[0.404218,0.41935...|\n",
            "|     0.616519|      0.444444|      0.309735|             1.0|             1.0|        0.833333|             0.7|           0.37931|              1.0|               0.0|          0.904762|             1.0|            1.0|             0.0|             1.0|        0.285714|        0.603175|                 0.632258|                0.0410422|                      0.0|                 0.616519|                 0.224|                  0.505824|                          1|                        0|[0.616519,0.44444...|\n",
            "|     0.156342|      0.444444|      0.341492|             1.0|             1.0|        0.555556|             0.2|          0.303303|         0.159079|               0.0|          0.142857|             1.0|            1.0|             1.0|             1.0|             0.6|            0.28|                 0.948387|                 0.938822|                      0.0|                 0.156342|                 0.928|                  0.914657|                          1|                        0|[0.156342,0.44444...|\n",
            "|    0.0855457|      0.611111|      0.574731|             1.0|             1.0|        0.944444|        0.857143|         0.0689655|              1.0|          0.333333|          0.857143|             1.0|            1.0|             1.0|             1.0|             1.0|             1.0|                      1.0|                      1.0|                      1.0|                      1.0|                   1.0|                       1.0|                          1|                        0|[0.0855457,0.6111...|\n",
            "|     0.832278|           0.0|      0.832278|        0.181818|        0.181818|        0.666667|        0.666667|          0.937107|              1.0|          0.943396|          0.924528|        0.733892|       0.764294|             1.0|          0.7625|             1.0|             1.0|                      1.0|                      1.0|                      1.0|                      1.0|                   1.0|                       1.0|                          1|                        0|[0.832278,0.0,0.8...|\n",
            "|          0.0|           0.0|           0.0|             0.0|             0.0|             0.0|             0.0|               0.0|              0.0|               0.0|               0.0|       0.0119904|     0.00817033|        0.666667|             0.0|             0.0|             0.0|                      0.0|                      0.0|                      0.0|                      0.0|                   0.0|                       0.0|                          1|                        1|(23,[11,12,13],[0...|\n",
            "|          0.0|           0.0|           0.0|             0.0|             0.0|             0.0|             0.0|               0.0|              0.0|               0.0|               0.0|       0.0119904|     0.00817033|        0.666667|             0.0|             0.0|             0.0|                      0.0|                      0.0|                      0.0|                      0.0|                   0.0|                       0.0|                          1|                        1|(23,[11,12,13],[0...|\n",
            "|          0.0|           0.0|           0.0|             0.0|             0.0|             0.0|             0.0|               0.0|              0.0|               0.0|               0.0|       0.0024213|     0.00169685|             0.5|             0.0|             0.0|             0.0|                      0.0|                      0.0|                      0.0|                      0.0|                   0.0|                       0.0|                          1|                        1|(23,[11,12,13],[0...|\n",
            "|      0.35005|      0.754098|      0.621661|             1.0|             1.0|        0.852459|             0.4|          0.777926|         0.883952|               0.5|          0.920082|             1.0|            1.0|             1.0|             1.0|        0.944444|        0.774074|                 0.985978|                 0.978427|                 0.348148|               0.00291742|              0.992558|                   0.98855|                          1|                        0|[0.35005,0.754098...|\n",
            "|     0.784435|      0.737705|      0.943458|             1.0|             1.0|        0.852459|          0.4375|          0.771128|         0.878217|               0.5|          0.915984|             1.0|            1.0|             1.0|             1.0|        0.833333|        0.364583|                 0.706342|                 0.936698|                 0.768439|                0.0690802|              0.662108|                  0.927162|                          1|                        0|[0.784435,0.73770...|\n",
            "|     0.923921|      0.819672|      0.578106|             1.0|             1.0|        0.885246|        0.363636|           0.94173|         0.985595|               0.5|          0.987705|             1.0|            1.0|             1.0|             1.0|             1.0|             1.0|                      1.0|                      1.0|                      1.0|                      1.0|                   1.0|                       1.0|                          1|                        0|[0.923921,0.81967...|\n",
            "|     0.835304|      0.901639|      0.402774|             1.0|             1.0|        0.934426|        0.333333|          0.806252|         0.920284|               0.5|          0.965164|             1.0|            1.0|             1.0|             1.0|             1.0|             1.0|                      1.0|                      1.0|                      1.0|                      1.0|                   1.0|                       1.0|                          1|                        0|[0.835304,0.90163...|\n",
            "|     0.928765|      0.901639|      0.275775|             1.0|             1.0|        0.934426|        0.333333|          0.913323|         0.964449|               0.5|          0.979508|             1.0|            1.0|             1.0|             1.0|        0.888889|        0.114754|                 0.995857|                 0.941844|                 0.955556|                 0.376089|              0.993235|                   0.90503|                          1|                        0|[0.928765,0.90163...|\n",
            "|     0.856292|      0.754098|      0.964662|             1.0|             1.0|        0.852459|             0.4|          0.771128|         0.878217|               0.5|          0.915984|             1.0|            1.0|             1.0|             1.0|        0.833333|        0.322222|                 0.552422|                 0.935679|                 0.842474|                0.0877186|              0.453285|                  0.921432|                          1|                        0|[0.856292,0.75409...|\n",
            "|     0.832278|           0.0|      0.832278|        0.181818|        0.181818|        0.666667|        0.666667|          0.937107|              1.0|          0.943396|          0.924528|        0.737083|       0.762353|             1.0|          0.7625|             1.0|             1.0|                      1.0|                      1.0|                      1.0|                      1.0|                   1.0|                       1.0|                          1|                        0|[0.832278,0.0,0.8...|\n",
            "|          0.0|           0.0|           0.0|             0.0|             0.0|             0.0|             0.0|               0.0|              0.0|               0.0|               0.0|             0.0|            0.0|             0.0|             0.0|             0.0|             0.0|                      0.0|                      0.0|                      0.0|                      0.0|                   0.0|                       0.0|                          1|                        1|          (23,[],[])|\n",
            "|          0.0|           0.0|           0.0|             0.0|             0.0|             0.0|             0.0|               0.0|              0.0|               0.0|               0.0|      0.00959229|     0.00648448|        0.333333|             0.0|             0.0|             0.0|                      0.0|                      0.0|                      0.0|                      0.0|                   0.0|                       0.0|                          1|                        1|(23,[11,12,13],[0...|\n",
            "|     0.859894|        0.0625|      0.850553|        0.142857|       0.0857143|             0.0|          0.0625|         0.0297029|        0.0470935|               0.0|         0.0487805|         0.07677|      0.0771673|             0.0|      0.00679831|        0.666667|        0.644444|                 0.952252|                   0.6592|                 0.849057|                0.0717961|              0.977976|                  0.842804|                          1|                        0|[0.859894,0.0625,...|\n",
            "|     0.906597|           0.0|      0.906597|             0.0|             0.0|             0.0|             0.0|         0.0297029|        0.0470935|               0.0|         0.0487805|      0.00806868|     0.00726245|             0.0|      0.00739492|        0.666667|        0.666667|                 0.968672|                 0.664595|                 0.897316|                0.0903801|              0.986388|                  0.854269|                          1|                        0|[0.906597,0.0,0.9...|\n",
            "+-------------+--------------+--------------+----------------+----------------+----------------+----------------+------------------+-----------------+------------------+------------------+----------------+---------------+----------------+----------------+----------------+----------------+-------------------------+-------------------------+-------------------------+-------------------------+----------------------+--------------------------+---------------------------+-------------------------+--------------------+\n",
            "only showing top 20 rows\n",
            "\n"
          ]
        }
      ]
    },
    {
      "cell_type": "code",
      "source": [
        "#Standard scaling the filtered datasets\n",
        "scale=StandardScaler(inputCol='features',outputCol='standardized')\n",
        "data_scale=scale.fit(filtered_data_0)\n",
        "data_scale_output_0=data_scale.transform(filtered_data_0)\n",
        "data_scale_output_0.show(2)"
      ],
      "metadata": {
        "id": "LAFw05YsC6Io",
        "colab": {
          "base_uri": "https://localhost:8080/"
        },
        "outputId": "5876943c-146d-4d33-e6c5-9bc893de01b6"
      },
      "execution_count": 38,
      "outputs": [
        {
          "output_type": "stream",
          "name": "stdout",
          "text": [
            "+-------------+--------------+--------------+----------------+----------------+----------------+----------------+------------------+-----------------+------------------+------------------+----------------+---------------+----------------+----------------+----------------+----------------+-------------------------+-------------------------+-------------------------+-------------------------+----------------------+--------------------------+---------------------------+-------------------------+--------------------+--------------------+\n",
            "|num_instances|num_attributes|dimensionality|num_numeric_attr|pct_numeric_attr|num_nominal_attr|pct_nominal_attr|avg_nominal_values|sd_nominal_values|min_nominal_values|max_nominal_values|avg_numeric_mean|sd_numeric_mean|min_numeric_mean|max_numeric_mean|missing_attr_cnt|missing_attr_pct|missing_instances_max_cnt|missing_instances_max_pct|missing_instances_min_cnt|missing_instances_min_pct|missing_instances_mean|missing_instances_mean_pct|datesets_subject_main_match|datesets_duplicates_match|            features|        standardized|\n",
            "+-------------+--------------+--------------+----------------+----------------+----------------+----------------+------------------+-----------------+------------------+------------------+----------------+---------------+----------------+----------------+----------------+----------------+-------------------------+-------------------------+-------------------------+-------------------------+----------------------+--------------------------+---------------------------+-------------------------+--------------------+--------------------+\n",
            "|     0.747015|           0.0|      0.747015|             1.0|             1.0|        0.833333|        0.833333|          0.992834|         0.993118|          0.333333|          0.984317|             1.0|            1.0|             0.0|             1.0|             0.8|             0.8|                 0.870968|                 0.967357|                     0.95|                  0.80236|              0.911111|                  0.977512|                          0|                        0|[0.747015,0.0,0.7...|[2.87404659892467...|\n",
            "|     0.996786|      0.976654|      0.862327|             1.0|             1.0|        0.666667|        0.992218|          0.870246|         0.838809|               0.0|          0.671875|             1.0|            1.0|             1.0|             1.0|        0.990476|        0.592063|                  0.99177|                  0.60947|                      0.0|                 0.996786|              0.987738|                   0.73788|                          0|                        0|[0.996786,0.97665...|[3.83500922090685...|\n",
            "+-------------+--------------+--------------+----------------+----------------+----------------+----------------+------------------+-----------------+------------------+------------------+----------------+---------------+----------------+----------------+----------------+----------------+-------------------------+-------------------------+-------------------------+-------------------------+----------------------+--------------------------+---------------------------+-------------------------+--------------------+--------------------+\n",
            "only showing top 2 rows\n",
            "\n"
          ]
        }
      ]
    },
    {
      "cell_type": "code",
      "source": [
        "#Standard scaling the filtered datasets\n",
        "scale=StandardScaler(inputCol='features',outputCol='standardized')\n",
        "data_scale=scale.fit(filtered_data_1)\n",
        "data_scale_output_1=data_scale.transform(filtered_data_1)\n",
        "data_scale_output_1.show(2)\n"
      ],
      "metadata": {
        "colab": {
          "base_uri": "https://localhost:8080/"
        },
        "id": "Pk0lLDtrcpx8",
        "outputId": "96ec9827-31f7-4891-d4e3-88167be0dade"
      },
      "execution_count": 39,
      "outputs": [
        {
          "output_type": "stream",
          "name": "stdout",
          "text": [
            "+-------------+--------------+--------------+----------------+----------------+----------------+----------------+------------------+-----------------+------------------+------------------+----------------+---------------+----------------+----------------+----------------+----------------+-------------------------+-------------------------+-------------------------+-------------------------+----------------------+--------------------------+---------------------------+-------------------------+--------------------+--------------------+\n",
            "|num_instances|num_attributes|dimensionality|num_numeric_attr|pct_numeric_attr|num_nominal_attr|pct_nominal_attr|avg_nominal_values|sd_nominal_values|min_nominal_values|max_nominal_values|avg_numeric_mean|sd_numeric_mean|min_numeric_mean|max_numeric_mean|missing_attr_cnt|missing_attr_pct|missing_instances_max_cnt|missing_instances_max_pct|missing_instances_min_cnt|missing_instances_min_pct|missing_instances_mean|missing_instances_mean_pct|datesets_subject_main_match|datesets_duplicates_match|            features|        standardized|\n",
            "+-------------+--------------+--------------+----------------+----------------+----------------+----------------+------------------+-----------------+------------------+------------------+----------------+---------------+----------------+----------------+----------------+----------------+-------------------------+-------------------------+-------------------------+-------------------------+----------------------+--------------------------+---------------------------+-------------------------+--------------------+--------------------+\n",
            "|    0.0855457|      0.611111|      0.574731|             1.0|             1.0|        0.944444|        0.857143|           0.37931|              1.0|               0.0|          0.904762|             1.0|            1.0|             1.0|             1.0|             1.0|             1.0|                      1.0|                      1.0|                      1.0|                      1.0|                   1.0|                       1.0|                          1|                        0|[0.0855457,0.6111...|[0.23804101607296...|\n",
            "|     0.404218|      0.419355|     0.0254068|             1.0|             1.0|        0.944444|        0.967742|           0.37931|              1.0|               0.0|          0.904762|             1.0|            1.0|             0.0|             1.0|             1.0|             1.0|                      1.0|                      1.0|                      1.0|                      1.0|                   1.0|                       1.0|                          1|                        0|[0.404218,0.41935...|[1.12478433673441...|\n",
            "+-------------+--------------+--------------+----------------+----------------+----------------+----------------+------------------+-----------------+------------------+------------------+----------------+---------------+----------------+----------------+----------------+----------------+-------------------------+-------------------------+-------------------------+-------------------------+----------------------+--------------------------+---------------------------+-------------------------+--------------------+--------------------+\n",
            "only showing top 2 rows\n",
            "\n"
          ]
        }
      ]
    },
    {
      "cell_type": "markdown",
      "source": [
        "## Clustering Dataset Using Kmeans\n",
        "Choice of K based on Elbow Method"
      ],
      "metadata": {
        "id": "UKcz-3nEJeTc"
      }
    },
    {
      "cell_type": "code",
      "source": [
        "# Create an empty list to store the SSE (Sum of Squared Errors) values\n",
        "sse = []\n",
        "\n",
        "# Define the range of cluster numbers to evaluate\n",
        "k_values = range(2, 11)  # Range from 2 to 10 clusters\n",
        "\n",
        "# Iterate over each cluster number\n",
        "for k in k_values:\n",
        "    # Create a KMeans instance with the current cluster number\n",
        "    kmeans = KMeans(featuresCol='standardized', k=k)\n",
        "    \n",
        "    # Fit the KMeans model to the data\n",
        "    model = kmeans.fit(data_scale_output_0)\n",
        "    \n",
        "    # Make predictions on the data\n",
        "    predictions = model.transform(data_scale_output_0)\n",
        "    \n",
        "    # Evaluate the clustering performance using the SSE metric\n",
        "    evaluator = ClusteringEvaluator()\n",
        "    sse_value = evaluator.evaluate(predictions)\n",
        "    sse.append(sse_value)\n",
        "\n",
        "# Plot the SSE values against the number of clusters\n",
        "plt.plot(k_values, sse, 'bo-')\n",
        "plt.xlabel('Number of Clusters (k)')\n",
        "plt.ylabel('Sum of Squared Errors (SSE)')\n",
        "plt.title('Elbow Method')\n",
        "plt.show()\n",
        "\n",
        "\n"
      ],
      "metadata": {
        "colab": {
          "base_uri": "https://localhost:8080/",
          "height": 472
        },
        "id": "GOfaSJBThBew",
        "outputId": "aae9bfd3-f1d3-4c6f-b770-3df602ae0f95"
      },
      "execution_count": 25,
      "outputs": [
        {
          "output_type": "display_data",
          "data": {
            "text/plain": [
              "<Figure size 640x480 with 1 Axes>"
            ],
            "image/png": "[encoded data removed]"
          },
          "metadata": {}
        }
      ]
    },
    {
      "cell_type": "code",
      "source": [
        "from pyspark.ml.clustering import KMeans\n",
        "from pyspark.ml.evaluation import ClusteringEvaluator\n",
        "silhouette_score=[]\n",
        "evaluator = ClusteringEvaluator(predictionCol='prediction', featuresCol='standardized', \\\n",
        "                                metricName='silhouette', distanceMeasure='squaredEuclidean')\n",
        "for i in range(2,10):\n",
        "    \n",
        "    KMeans_algo=KMeans(featuresCol='standardized', k=i)\n",
        "    \n",
        "    KMeans_fit=KMeans_algo.fit(data_scale_output_0)\n",
        "    \n",
        "    output=KMeans_fit.transform(data_scale_output_0)\n",
        "\n",
        "    score=evaluator.evaluate(output)\n",
        "    \n",
        "    silhouette_score.append(score)\n",
        "    \n",
        "    print(\"Silhouette Score:\",score)\n",
        "\n",
        "\n",
        "    "
      ],
      "metadata": {
        "id": "QKyviiSsAXWS",
        "colab": {
          "base_uri": "https://localhost:8080/"
        },
        "outputId": "1215bfbc-3773-430c-a27f-39f9e9cb6f4a"
      },
      "execution_count": 40,
      "outputs": [
        {
          "output_type": "stream",
          "name": "stdout",
          "text": [
            "Silhouette Score: 0.5310452052177468\n",
            "Silhouette Score: 0.3860541641212114\n",
            "Silhouette Score: 0.3658375205076225\n",
            "Silhouette Score: 0.3327099222406903\n",
            "Silhouette Score: 0.3459237875895103\n",
            "Silhouette Score: 0.32380084203892573\n",
            "Silhouette Score: 0.3306408928968907\n",
            "Silhouette Score: 0.32544293928388046\n"
          ]
        }
      ]
    },
    {
      "cell_type": "markdown",
      "source": [
        "## Clustering Dataset Using Kmeans\n",
        "Choice of K based on Silhouette Score Cost Function"
      ],
      "metadata": {
        "id": "rAZ7ixOMJ3k_"
      }
    },
    {
      "cell_type": "code",
      "execution_count": 52,
      "metadata": {
        "id": "Xn33j2GN-CXm",
        "colab": {
          "base_uri": "https://localhost:8080/",
          "height": 559
        },
        "outputId": "207b6147-e9e6-472b-e420-70b57be02a9a"
      },
      "outputs": [
        {
          "output_type": "execute_result",
          "data": {
            "text/plain": [
              "Text(0, 0.5, 'cost')"
            ]
          },
          "metadata": {},
          "execution_count": 52
        },
        {
          "output_type": "display_data",
          "data": {
            "text/plain": [
              "<Figure size 800x600 with 1 Axes>"
            ],
            "image/png": "[encoded data removed]"
          },
          "metadata": {}
        }
      ],
      "source": [
        "#Visualizing the silhouette scores in a plot\n",
        "import matplotlib.pyplot as plt\n",
        "fig, ax = plt.subplots(1,1, figsize =(8,6))\n",
        "ax.plot(range(2,10),silhouette_score)\n",
        "ax.set_xlabel(\"k\")\n",
        "ax.set_ylabel(\"cost\")"
      ]
    },
    {
      "cell_type": "code",
      "source": [
        "\n",
        "# Perform clustered sampling from the different clusters\n",
        "sampling_ratio = 0.05  # Define the sampling ratio, e.g., 80% of the data\n",
        "seed = 42  # Set a seed for reproducibility\n",
        "\n",
        "# Get the cluster labels from the output DataFrame\n",
        "cluster_labels = output.select(\"prediction\").distinct().rdd.flatMap(lambda x: x).collect()\n",
        "\n",
        "# Perform sampling from each cluster\n",
        "sampled_data = None\n",
        "\n",
        "for label in cluster_labels:\n",
        "    # Filter the data based on the cluster label\n",
        "    cluster_data = output.filter(col(\"prediction\") == label)\n",
        "    \n",
        "    # Perform clustered sampling on the cluster data\n",
        "    cluster_sample = cluster_data.sample(False, sampling_ratio, seed)\n",
        "    \n",
        "    # Union the sampled data with the previous clusters' sampled data\n",
        "    if sampled_data is None:\n",
        "        sampled_data = cluster_sample\n",
        "    else:\n",
        "        sampled_data = sampled_data.union(cluster_sample)\n",
        "\n",
        "# Show the sampled data\n",
        "sampled_data.show()\n",
        "\n"
      ],
      "metadata": {
        "id": "fiwKhDA7GvAC",
        "colab": {
          "base_uri": "https://localhost:8080/"
        },
        "outputId": "11261c64-612f-41f8-f0f6-26cd28ce79be"
      },
      "execution_count": 42,
      "outputs": [
        {
          "output_type": "stream",
          "name": "stdout",
          "text": [
            "+-------------+--------------+--------------+----------------+----------------+----------------+----------------+------------------+-----------------+------------------+------------------+----------------+---------------+----------------+----------------+----------------+----------------+-------------------------+-------------------------+-------------------------+-------------------------+----------------------+--------------------------+---------------------------+-------------------------+--------------------+--------------------+----------+\n",
            "|num_instances|num_attributes|dimensionality|num_numeric_attr|pct_numeric_attr|num_nominal_attr|pct_nominal_attr|avg_nominal_values|sd_nominal_values|min_nominal_values|max_nominal_values|avg_numeric_mean|sd_numeric_mean|min_numeric_mean|max_numeric_mean|missing_attr_cnt|missing_attr_pct|missing_instances_max_cnt|missing_instances_max_pct|missing_instances_min_cnt|missing_instances_min_pct|missing_instances_mean|missing_instances_mean_pct|datesets_subject_main_match|datesets_duplicates_match|            features|        standardized|prediction|\n",
            "+-------------+--------------+--------------+----------------+----------------+----------------+----------------+------------------+-----------------+------------------+------------------+----------------+---------------+----------------+----------------+----------------+----------------+-------------------------+-------------------------+-------------------------+-------------------------+----------------------+--------------------------+---------------------------+-------------------------+--------------------+--------------------+----------+\n",
            "|     0.980572|           0.6|       0.95143|           0.625|          0.0625|             0.0|             0.6|          0.333333|              0.0|          0.333333|          0.333333|        0.960399|       0.708958|        0.978261|        0.943396|             0.0|             0.0|                      0.0|                      0.0|                      0.0|                      0.0|                   0.0|                       0.0|                          0|                        0|(23,[0,1,2,3,4,6,...|(23,[0,1,2,3,4,6,...|         1|\n",
            "|     0.866166|      0.864865|     0.0096261|        0.888889|        0.177778|             0.0|        0.864865|               0.0|              0.0|               0.0|               0.0|        0.773501|       0.305867|             1.0|        0.447958|             0.0|             0.0|                      0.0|                      0.0|                      0.0|                      0.0|                   0.0|                       0.0|                          0|                        0|(23,[0,1,2,3,4,6,...|(23,[0,1,2,3,4,6,...|         1|\n",
            "|      0.89696|        0.9966|       0.99965|        0.966967|        0.897083|             0.0|          0.9966|               0.0|              0.0|               0.0|               0.0|        0.999315|       0.999748|             0.0|         0.99971|             0.0|             0.0|                      0.0|                      0.0|                      0.0|                      0.0|                   0.0|                       0.0|                          0|                        0|(23,[0,1,2,3,4,6,...|(23,[0,1,2,3,4,6,...|         1|\n",
            "|     0.998585|      0.184211|      0.998846|        0.189189|      0.00610291|             0.0|        0.184211|               0.0|              0.0|               0.0|               0.0|        0.920373|        0.92404|             0.0|        0.915782|             0.0|             0.0|                      0.0|                      0.0|                      0.0|                      0.0|                   0.0|                       0.0|                          0|                        0|(23,[0,1,2,3,4,6,...|(23,[0,1,2,3,4,6,...|         1|\n",
            "|     0.973097|      0.605263|      0.989381|        0.621622|       0.0414414|             0.0|        0.605263|               0.0|              0.0|               0.0|               0.0|        0.941648|       0.855246|             1.0|         0.41841|             0.0|             0.0|                      0.0|                      0.0|                      0.0|                      0.0|                   0.0|                       0.0|                          0|                        0|(23,[0,1,2,3,4,6,...|(23,[0,1,2,3,4,6,...|         1|\n",
            "|     0.876331|      0.465517|       0.76862|        0.473684|       0.0152802|             0.0|        0.465517|               0.0|              0.0|               0.0|               0.0|        0.901777|       0.804674|             0.0|        0.678774|             0.0|             0.0|                      0.0|                      0.0|                      0.0|                      0.0|                   0.0|                       0.0|                          0|                        0|(23,[0,1,2,3,4,6,...|(23,[0,1,2,3,4,6,...|         1|\n",
            "|     0.886546|       0.62069|      0.700895|        0.631579|       0.0287082|             0.0|         0.62069|               0.0|              0.0|               0.0|               0.0|        0.993792|       0.990438|             0.0|        0.984738|             0.0|             0.0|                      0.0|                      0.0|                      0.0|                      0.0|                   0.0|                       0.0|                          0|                        0|(23,[0,1,2,3,4,6,...|(23,[0,1,2,3,4,6,...|         1|\n",
            "|     0.895661|      0.605263|      0.958814|        0.621622|       0.0414414|             0.0|        0.605263|               0.0|              0.0|               0.0|               0.0|        0.766468|       0.966102|             1.0|        0.863704|             0.0|             0.0|                      0.0|                      0.0|                      0.0|                      0.0|                   0.0|                       0.0|                          0|                        0|(23,[0,1,2,3,4,6,...|(23,[0,1,2,3,4,6,...|         1|\n",
            "|      0.99032|      0.842105|      0.998472|        0.851064|       0.0567375|             0.0|        0.842105|               0.0|              0.0|               0.0|               0.0|        0.701061|        0.97735|             1.0|        0.939095|             0.0|             0.0|                      0.0|                      0.0|                      0.0|                      0.0|                   0.0|                       0.0|                          0|                        0|(23,[0,1,2,3,4,6,...|(23,[0,1,2,3,4,6,...|         1|\n",
            "|     0.764039|          0.15|      0.799433|        0.153846|       0.0045249|             0.0|            0.15|               0.0|              0.0|               0.0|               0.0|        0.996284|       0.994496|             0.0|        0.991684|             0.0|             0.0|                      0.0|                      0.0|                      0.0|                      0.0|                   0.0|                       0.0|                          0|                        0|(23,[0,1,2,3,4,6,...|(23,[0,1,2,3,4,6,...|         1|\n",
            "|        0.492|      0.545455|      0.769091|        0.545455|             0.0|             0.0|             0.0|               0.0|              0.0|               0.0|               0.0|         0.86616|       0.971726|            0.25|        0.952663|             0.0|             0.0|                      0.0|                      0.0|                      0.0|                      0.0|                   0.0|                       0.0|                          0|                        0|(23,[0,1,2,3,11,1...|(23,[0,1,2,3,11,1...|         1|\n",
            "|     0.659574|           0.5|      0.319149|             0.5|             0.0|             0.0|             0.0|               0.0|              0.0|               0.0|               0.0|        0.997379|       0.997951|             1.0|        0.997465|             0.0|             0.0|                      0.0|                      0.0|                      0.0|                      0.0|                   0.0|                       0.0|                          0|                        0|(23,[0,1,2,3,11,1...|(23,[0,1,2,3,11,1...|         1|\n",
            "|     0.896484|           0.7|      0.968945|        0.777778|        0.259259|             0.0|             0.7|          0.333333|              0.0|          0.333333|          0.333333|        0.397011|       0.944071|        0.195652|        0.604478|             0.0|             0.0|                      0.0|                      0.0|                      0.0|                      0.0|                   0.0|                       0.0|                          0|                        0|(23,[0,1,2,3,4,6,...|(23,[0,1,2,3,4,6,...|         1|\n",
            "|      0.26932|       0.92482|      0.897109|        0.925773|       0.0126818|             0.0|         0.92482|               0.0|              0.0|               0.0|               0.0|        0.817906|       0.969664|             1.0|        0.986226|             0.0|             0.0|                      0.0|                      0.0|                      0.0|                      0.0|                   0.0|                       0.0|                          0|                        0|(23,[0,1,2,3,4,6,...|(23,[0,1,2,3,4,6,...|         1|\n",
            "|     0.759083|      0.887745|      0.972956|         0.88866|      0.00815285|             0.0|        0.887745|               0.0|              0.0|               0.0|               0.0|        0.358465|       0.789691|             1.0|        0.840728|             0.0|             0.0|                      0.0|                      0.0|                      0.0|                      0.0|                   0.0|                       0.0|                          0|                        0|(23,[0,1,2,3,4,6,...|(23,[0,1,2,3,4,6,...|         1|\n",
            "|     0.789532|       0.74359|      0.179176|             0.5|        0.487179|        0.787879|        0.172727|          0.161616|        0.0441807|               0.5|              0.25|        0.662363|       0.633295|        0.956522|        0.571138|             0.0|             0.0|                      0.0|                      0.0|                      0.0|                      0.0|                   0.0|                       0.0|                          0|                        0|[0.789532,0.74359...|[3.03762542832767...|         1|\n",
            "|      0.96151|         0.375|      0.975944|        0.428571|       0.0857143|             0.0|           0.375|              0.25|              0.0|              0.25|              0.25|        0.821429|       0.917748|             0.0|        0.866667|             0.0|             0.0|                      0.0|                      0.0|                      0.0|                      0.0|                   0.0|                       0.0|                          0|                        0|(23,[0,1,2,3,4,6,...|(23,[0,1,2,3,4,6,...|         1|\n",
            "|     0.998413|      0.357143|       0.99898|        0.357143|             0.0|             0.0|             0.0|               0.0|              0.0|               0.0|               0.0|        0.999997|       0.999997|             1.0|        0.999998|             0.0|             0.0|                      0.0|                      0.0|                      0.0|                      0.0|                   0.0|                       0.0|                          0|                        0|(23,[0,1,2,3,11,1...|(23,[0,1,2,3,11,1...|         1|\n",
            "|     0.974487|      0.222222|      0.967198|        0.222222|             0.0|             0.0|             0.0|               0.0|              0.0|               0.0|               0.0|        0.999948|       0.999923|             1.0|        0.999915|             0.0|             0.0|                      0.0|                      0.0|                      0.0|                      0.0|                   0.0|                       0.0|                          0|                        0|(23,[0,1,2,3,11,1...|(23,[0,1,2,3,11,1...|         1|\n",
            "|     0.275362|         0.625|        0.4825|        0.666667|        0.111111|             0.6|          0.0625|         0.0117648|         0.129391|               0.0|          0.285714|        0.664251|       0.917097|        0.948718|        0.901672|        0.714286|        0.238095|                      0.5|                 0.637681|                      0.0|                 0.275362|              0.214844|                  0.431046|                          0|                        0|[0.275362,0.625,0...|[1.05942078749837...|         1|\n",
            "+-------------+--------------+--------------+----------------+----------------+----------------+----------------+------------------+-----------------+------------------+------------------+----------------+---------------+----------------+----------------+----------------+----------------+-------------------------+-------------------------+-------------------------+-------------------------+----------------------+--------------------------+---------------------------+-------------------------+--------------------+--------------------+----------+\n",
            "only showing top 20 rows\n",
            "\n"
          ]
        }
      ]
    },
    {
      "cell_type": "code",
      "source": [
        "rows = sampled_data.count()\n",
        "print(f\"DataFrame Rows count : {rows}\") \n"
      ],
      "metadata": {
        "id": "E1CRsWCcPej7",
        "colab": {
          "base_uri": "https://localhost:8080/"
        },
        "outputId": "d36c7247-b7b6-4b95-e2ad-09413b35871d"
      },
      "execution_count": 43,
      "outputs": [
        {
          "output_type": "stream",
          "name": "stdout",
          "text": [
            "DataFrame Rows count : 1233\n"
          ]
        }
      ]
    },
    {
      "cell_type": "code",
      "source": [
        "filtered_data_1.dtypes"
      ],
      "metadata": {
        "id": "OBJtj03Hl-AZ",
        "colab": {
          "base_uri": "https://localhost:8080/"
        },
        "outputId": "98bcac5c-3543-4306-e67b-5c104cecf3da"
      },
      "execution_count": 44,
      "outputs": [
        {
          "output_type": "execute_result",
          "data": {
            "text/plain": [
              "[('num_instances', 'double'),\n",
              " ('num_attributes', 'double'),\n",
              " ('dimensionality', 'double'),\n",
              " ('num_numeric_attr', 'double'),\n",
              " ('pct_numeric_attr', 'double'),\n",
              " ('num_nominal_attr', 'double'),\n",
              " ('pct_nominal_attr', 'double'),\n",
              " ('avg_nominal_values', 'double'),\n",
              " ('sd_nominal_values', 'double'),\n",
              " ('min_nominal_values', 'double'),\n",
              " ('max_nominal_values', 'double'),\n",
              " ('avg_numeric_mean', 'double'),\n",
              " ('sd_numeric_mean', 'double'),\n",
              " ('min_numeric_mean', 'double'),\n",
              " ('max_numeric_mean', 'double'),\n",
              " ('missing_attr_cnt', 'double'),\n",
              " ('missing_attr_pct', 'double'),\n",
              " ('missing_instances_max_cnt', 'double'),\n",
              " ('missing_instances_max_pct', 'double'),\n",
              " ('missing_instances_min_cnt', 'double'),\n",
              " ('missing_instances_min_pct', 'double'),\n",
              " ('missing_instances_mean', 'double'),\n",
              " ('missing_instances_mean_pct', 'double'),\n",
              " ('datesets_subject_main_match', 'int'),\n",
              " ('datesets_duplicates_match', 'int'),\n",
              " ('features', 'vector')]"
            ]
          },
          "metadata": {},
          "execution_count": 44
        }
      ]
    },
    {
      "cell_type": "code",
      "source": [
        "sampled_data.dtypes "
      ],
      "metadata": {
        "id": "Qi6opUlAlpWX",
        "colab": {
          "base_uri": "https://localhost:8080/"
        },
        "outputId": "bf062781-a21c-4ca3-e7cf-ba5af71bbf62"
      },
      "execution_count": 45,
      "outputs": [
        {
          "output_type": "execute_result",
          "data": {
            "text/plain": [
              "[('num_instances', 'double'),\n",
              " ('num_attributes', 'double'),\n",
              " ('dimensionality', 'double'),\n",
              " ('num_numeric_attr', 'double'),\n",
              " ('pct_numeric_attr', 'double'),\n",
              " ('num_nominal_attr', 'double'),\n",
              " ('pct_nominal_attr', 'double'),\n",
              " ('avg_nominal_values', 'double'),\n",
              " ('sd_nominal_values', 'double'),\n",
              " ('min_nominal_values', 'double'),\n",
              " ('max_nominal_values', 'double'),\n",
              " ('avg_numeric_mean', 'double'),\n",
              " ('sd_numeric_mean', 'double'),\n",
              " ('min_numeric_mean', 'double'),\n",
              " ('max_numeric_mean', 'double'),\n",
              " ('missing_attr_cnt', 'double'),\n",
              " ('missing_attr_pct', 'double'),\n",
              " ('missing_instances_max_cnt', 'double'),\n",
              " ('missing_instances_max_pct', 'double'),\n",
              " ('missing_instances_min_cnt', 'double'),\n",
              " ('missing_instances_min_pct', 'double'),\n",
              " ('missing_instances_mean', 'double'),\n",
              " ('missing_instances_mean_pct', 'double'),\n",
              " ('datesets_subject_main_match', 'int'),\n",
              " ('datesets_duplicates_match', 'int'),\n",
              " ('features', 'vector'),\n",
              " ('standardized', 'vector'),\n",
              " ('prediction', 'int')]"
            ]
          },
          "metadata": {},
          "execution_count": 45
        }
      ]
    },
    {
      "cell_type": "code",
      "source": [
        "sampled_data=sampled_data.drop(\"standardized\",\"prediction\")\n",
        "sampled_data\n"
      ],
      "metadata": {
        "id": "MAj_DtBEmIHY",
        "colab": {
          "base_uri": "https://localhost:8080/",
          "height": 545
        },
        "outputId": "35cc85d7-ff18-4d90-df07-4e995c86a3eb"
      },
      "execution_count": 46,
      "outputs": [
        {
          "output_type": "execute_result",
          "data": {
            "text/plain": [
              "+-------------+--------------+--------------+----------------+----------------+----------------+----------------+------------------+-----------------+------------------+------------------+----------------+---------------+----------------+----------------+----------------+----------------+-------------------------+-------------------------+-------------------------+-------------------------+----------------------+--------------------------+---------------------------+-------------------------+--------------------+\n",
              "|num_instances|num_attributes|dimensionality|num_numeric_attr|pct_numeric_attr|num_nominal_attr|pct_nominal_attr|avg_nominal_values|sd_nominal_values|min_nominal_values|max_nominal_values|avg_numeric_mean|sd_numeric_mean|min_numeric_mean|max_numeric_mean|missing_attr_cnt|missing_attr_pct|missing_instances_max_cnt|missing_instances_max_pct|missing_instances_min_cnt|missing_instances_min_pct|missing_instances_mean|missing_instances_mean_pct|datesets_subject_main_match|datesets_duplicates_match|            features|\n",
              "+-------------+--------------+--------------+----------------+----------------+----------------+----------------+------------------+-----------------+------------------+------------------+----------------+---------------+----------------+----------------+----------------+----------------+-------------------------+-------------------------+-------------------------+-------------------------+----------------------+--------------------------+---------------------------+-------------------------+--------------------+\n",
              "|     0.980572|           0.6|       0.95143|           0.625|          0.0625|             0.0|             0.6|          0.333333|              0.0|          0.333333|          0.333333|        0.960399|       0.708958|        0.978261|        0.943396|             0.0|             0.0|                      0.0|                      0.0|                      0.0|                      0.0|                   0.0|                       0.0|                          0|                        0|(23,[0,1,2,3,4,6,...|\n",
              "|     0.866166|      0.864865|     0.0096261|        0.888889|        0.177778|             0.0|        0.864865|               0.0|              0.0|               0.0|               0.0|        0.773501|       0.305867|             1.0|        0.447958|             0.0|             0.0|                      0.0|                      0.0|                      0.0|                      0.0|                   0.0|                       0.0|                          0|                        0|(23,[0,1,2,3,4,6,...|\n",
              "|      0.89696|        0.9966|       0.99965|        0.966967|        0.897083|             0.0|          0.9966|               0.0|              0.0|               0.0|               0.0|        0.999315|       0.999748|             0.0|         0.99971|             0.0|             0.0|                      0.0|                      0.0|                      0.0|                      0.0|                   0.0|                       0.0|                          0|                        0|(23,[0,1,2,3,4,6,...|\n",
              "|     0.998585|      0.184211|      0.998846|        0.189189|      0.00610291|             0.0|        0.184211|               0.0|              0.0|               0.0|               0.0|        0.920373|        0.92404|             0.0|        0.915782|             0.0|             0.0|                      0.0|                      0.0|                      0.0|                      0.0|                   0.0|                       0.0|                          0|                        0|(23,[0,1,2,3,4,6,...|\n",
              "|     0.973097|      0.605263|      0.989381|        0.621622|       0.0414414|             0.0|        0.605263|               0.0|              0.0|               0.0|               0.0|        0.941648|       0.855246|             1.0|         0.41841|             0.0|             0.0|                      0.0|                      0.0|                      0.0|                      0.0|                   0.0|                       0.0|                          0|                        0|(23,[0,1,2,3,4,6,...|\n",
              "|     0.876331|      0.465517|       0.76862|        0.473684|       0.0152802|             0.0|        0.465517|               0.0|              0.0|               0.0|               0.0|        0.901777|       0.804674|             0.0|        0.678774|             0.0|             0.0|                      0.0|                      0.0|                      0.0|                      0.0|                   0.0|                       0.0|                          0|                        0|(23,[0,1,2,3,4,6,...|\n",
              "|     0.886546|       0.62069|      0.700895|        0.631579|       0.0287082|             0.0|         0.62069|               0.0|              0.0|               0.0|               0.0|        0.993792|       0.990438|             0.0|        0.984738|             0.0|             0.0|                      0.0|                      0.0|                      0.0|                      0.0|                   0.0|                       0.0|                          0|                        0|(23,[0,1,2,3,4,6,...|\n",
              "|     0.895661|      0.605263|      0.958814|        0.621622|       0.0414414|             0.0|        0.605263|               0.0|              0.0|               0.0|               0.0|        0.766468|       0.966102|             1.0|        0.863704|             0.0|             0.0|                      0.0|                      0.0|                      0.0|                      0.0|                   0.0|                       0.0|                          0|                        0|(23,[0,1,2,3,4,6,...|\n",
              "|      0.99032|      0.842105|      0.998472|        0.851064|       0.0567375|             0.0|        0.842105|               0.0|              0.0|               0.0|               0.0|        0.701061|        0.97735|             1.0|        0.939095|             0.0|             0.0|                      0.0|                      0.0|                      0.0|                      0.0|                   0.0|                       0.0|                          0|                        0|(23,[0,1,2,3,4,6,...|\n",
              "|     0.764039|          0.15|      0.799433|        0.153846|       0.0045249|             0.0|            0.15|               0.0|              0.0|               0.0|               0.0|        0.996284|       0.994496|             0.0|        0.991684|             0.0|             0.0|                      0.0|                      0.0|                      0.0|                      0.0|                   0.0|                       0.0|                          0|                        0|(23,[0,1,2,3,4,6,...|\n",
              "|        0.492|      0.545455|      0.769091|        0.545455|             0.0|             0.0|             0.0|               0.0|              0.0|               0.0|               0.0|         0.86616|       0.971726|            0.25|        0.952663|             0.0|             0.0|                      0.0|                      0.0|                      0.0|                      0.0|                   0.0|                       0.0|                          0|                        0|(23,[0,1,2,3,11,1...|\n",
              "|     0.659574|           0.5|      0.319149|             0.5|             0.0|             0.0|             0.0|               0.0|              0.0|               0.0|               0.0|        0.997379|       0.997951|             1.0|        0.997465|             0.0|             0.0|                      0.0|                      0.0|                      0.0|                      0.0|                   0.0|                       0.0|                          0|                        0|(23,[0,1,2,3,11,1...|\n",
              "|     0.896484|           0.7|      0.968945|        0.777778|        0.259259|             0.0|             0.7|          0.333333|              0.0|          0.333333|          0.333333|        0.397011|       0.944071|        0.195652|        0.604478|             0.0|             0.0|                      0.0|                      0.0|                      0.0|                      0.0|                   0.0|                       0.0|                          0|                        0|(23,[0,1,2,3,4,6,...|\n",
              "|      0.26932|       0.92482|      0.897109|        0.925773|       0.0126818|             0.0|         0.92482|               0.0|              0.0|               0.0|               0.0|        0.817906|       0.969664|             1.0|        0.986226|             0.0|             0.0|                      0.0|                      0.0|                      0.0|                      0.0|                   0.0|                       0.0|                          0|                        0|(23,[0,1,2,3,4,6,...|\n",
              "|     0.759083|      0.887745|      0.972956|         0.88866|      0.00815285|             0.0|        0.887745|               0.0|              0.0|               0.0|               0.0|        0.358465|       0.789691|             1.0|        0.840728|             0.0|             0.0|                      0.0|                      0.0|                      0.0|                      0.0|                   0.0|                       0.0|                          0|                        0|(23,[0,1,2,3,4,6,...|\n",
              "|     0.789532|       0.74359|      0.179176|             0.5|        0.487179|        0.787879|        0.172727|          0.161616|        0.0441807|               0.5|              0.25|        0.662363|       0.633295|        0.956522|        0.571138|             0.0|             0.0|                      0.0|                      0.0|                      0.0|                      0.0|                   0.0|                       0.0|                          0|                        0|[0.789532,0.74359...|\n",
              "|      0.96151|         0.375|      0.975944|        0.428571|       0.0857143|             0.0|           0.375|              0.25|              0.0|              0.25|              0.25|        0.821429|       0.917748|             0.0|        0.866667|             0.0|             0.0|                      0.0|                      0.0|                      0.0|                      0.0|                   0.0|                       0.0|                          0|                        0|(23,[0,1,2,3,4,6,...|\n",
              "|     0.998413|      0.357143|       0.99898|        0.357143|             0.0|             0.0|             0.0|               0.0|              0.0|               0.0|               0.0|        0.999997|       0.999997|             1.0|        0.999998|             0.0|             0.0|                      0.0|                      0.0|                      0.0|                      0.0|                   0.0|                       0.0|                          0|                        0|(23,[0,1,2,3,11,1...|\n",
              "|     0.974487|      0.222222|      0.967198|        0.222222|             0.0|             0.0|             0.0|               0.0|              0.0|               0.0|               0.0|        0.999948|       0.999923|             1.0|        0.999915|             0.0|             0.0|                      0.0|                      0.0|                      0.0|                      0.0|                   0.0|                       0.0|                          0|                        0|(23,[0,1,2,3,11,1...|\n",
              "|     0.275362|         0.625|        0.4825|        0.666667|        0.111111|             0.6|          0.0625|         0.0117648|         0.129391|               0.0|          0.285714|        0.664251|       0.917097|        0.948718|        0.901672|        0.714286|        0.238095|                      0.5|                 0.637681|                      0.0|                 0.275362|              0.214844|                  0.431046|                          0|                        0|[0.275362,0.625,0...|\n",
              "+-------------+--------------+--------------+----------------+----------------+----------------+----------------+------------------+-----------------+------------------+------------------+----------------+---------------+----------------+----------------+----------------+----------------+-------------------------+-------------------------+-------------------------+-------------------------+----------------------+--------------------------+---------------------------+-------------------------+--------------------+\n",
              "only showing top 20 rows"
            ],
            "text/html": [
              "<table border='1'>\n",
              "<tr><th>num_instances</th><th>num_attributes</th><th>dimensionality</th><th>num_numeric_attr</th><th>pct_numeric_attr</th><th>num_nominal_attr</th><th>pct_nominal_attr</th><th>avg_nominal_values</th><th>sd_nominal_values</th><th>min_nominal_values</th><th>max_nominal_values</th><th>avg_numeric_mean</th><th>sd_numeric_mean</th><th>min_numeric_mean</th><th>max_numeric_mean</th><th>missing_attr_cnt</th><th>missing_attr_pct</th><th>missing_instances_max_cnt</th><th>missing_instances_max_pct</th><th>missing_instances_min_cnt</th><th>missing_instances_min_pct</th><th>missing_instances_mean</th><th>missing_instances_mean_pct</th><th>datesets_subject_main_match</th><th>datesets_duplicates_match</th><th>features</th></tr>\n",
              "<tr><td>0.980572</td><td>0.6</td><td>0.95143</td><td>0.625</td><td>0.0625</td><td>0.0</td><td>0.6</td><td>0.333333</td><td>0.0</td><td>0.333333</td><td>0.333333</td><td>0.960399</td><td>0.708958</td><td>0.978261</td><td>0.943396</td><td>0.0</td><td>0.0</td><td>0.0</td><td>0.0</td><td>0.0</td><td>0.0</td><td>0.0</td><td>0.0</td><td>0</td><td>0</td><td>(23,[0,1,2,3,4,6,...</td></tr>\n",
              "<tr><td>0.866166</td><td>0.864865</td><td>0.0096261</td><td>0.888889</td><td>0.177778</td><td>0.0</td><td>0.864865</td><td>0.0</td><td>0.0</td><td>0.0</td><td>0.0</td><td>0.773501</td><td>0.305867</td><td>1.0</td><td>0.447958</td><td>0.0</td><td>0.0</td><td>0.0</td><td>0.0</td><td>0.0</td><td>0.0</td><td>0.0</td><td>0.0</td><td>0</td><td>0</td><td>(23,[0,1,2,3,4,6,...</td></tr>\n",
              "<tr><td>0.89696</td><td>0.9966</td><td>0.99965</td><td>0.966967</td><td>0.897083</td><td>0.0</td><td>0.9966</td><td>0.0</td><td>0.0</td><td>0.0</td><td>0.0</td><td>0.999315</td><td>0.999748</td><td>0.0</td><td>0.99971</td><td>0.0</td><td>0.0</td><td>0.0</td><td>0.0</td><td>0.0</td><td>0.0</td><td>0.0</td><td>0.0</td><td>0</td><td>0</td><td>(23,[0,1,2,3,4,6,...</td></tr>\n",
              "<tr><td>0.998585</td><td>0.184211</td><td>0.998846</td><td>0.189189</td><td>0.00610291</td><td>0.0</td><td>0.184211</td><td>0.0</td><td>0.0</td><td>0.0</td><td>0.0</td><td>0.920373</td><td>0.92404</td><td>0.0</td><td>0.915782</td><td>0.0</td><td>0.0</td><td>0.0</td><td>0.0</td><td>0.0</td><td>0.0</td><td>0.0</td><td>0.0</td><td>0</td><td>0</td><td>(23,[0,1,2,3,4,6,...</td></tr>\n",
              "<tr><td>0.973097</td><td>0.605263</td><td>0.989381</td><td>0.621622</td><td>0.0414414</td><td>0.0</td><td>0.605263</td><td>0.0</td><td>0.0</td><td>0.0</td><td>0.0</td><td>0.941648</td><td>0.855246</td><td>1.0</td><td>0.41841</td><td>0.0</td><td>0.0</td><td>0.0</td><td>0.0</td><td>0.0</td><td>0.0</td><td>0.0</td><td>0.0</td><td>0</td><td>0</td><td>(23,[0,1,2,3,4,6,...</td></tr>\n",
              "<tr><td>0.876331</td><td>0.465517</td><td>0.76862</td><td>0.473684</td><td>0.0152802</td><td>0.0</td><td>0.465517</td><td>0.0</td><td>0.0</td><td>0.0</td><td>0.0</td><td>0.901777</td><td>0.804674</td><td>0.0</td><td>0.678774</td><td>0.0</td><td>0.0</td><td>0.0</td><td>0.0</td><td>0.0</td><td>0.0</td><td>0.0</td><td>0.0</td><td>0</td><td>0</td><td>(23,[0,1,2,3,4,6,...</td></tr>\n",
              "<tr><td>0.886546</td><td>0.62069</td><td>0.700895</td><td>0.631579</td><td>0.0287082</td><td>0.0</td><td>0.62069</td><td>0.0</td><td>0.0</td><td>0.0</td><td>0.0</td><td>0.993792</td><td>0.990438</td><td>0.0</td><td>0.984738</td><td>0.0</td><td>0.0</td><td>0.0</td><td>0.0</td><td>0.0</td><td>0.0</td><td>0.0</td><td>0.0</td><td>0</td><td>0</td><td>(23,[0,1,2,3,4,6,...</td></tr>\n",
              "<tr><td>0.895661</td><td>0.605263</td><td>0.958814</td><td>0.621622</td><td>0.0414414</td><td>0.0</td><td>0.605263</td><td>0.0</td><td>0.0</td><td>0.0</td><td>0.0</td><td>0.766468</td><td>0.966102</td><td>1.0</td><td>0.863704</td><td>0.0</td><td>0.0</td><td>0.0</td><td>0.0</td><td>0.0</td><td>0.0</td><td>0.0</td><td>0.0</td><td>0</td><td>0</td><td>(23,[0,1,2,3,4,6,...</td></tr>\n",
              "<tr><td>0.99032</td><td>0.842105</td><td>0.998472</td><td>0.851064</td><td>0.0567375</td><td>0.0</td><td>0.842105</td><td>0.0</td><td>0.0</td><td>0.0</td><td>0.0</td><td>0.701061</td><td>0.97735</td><td>1.0</td><td>0.939095</td><td>0.0</td><td>0.0</td><td>0.0</td><td>0.0</td><td>0.0</td><td>0.0</td><td>0.0</td><td>0.0</td><td>0</td><td>0</td><td>(23,[0,1,2,3,4,6,...</td></tr>\n",
              "<tr><td>0.764039</td><td>0.15</td><td>0.799433</td><td>0.153846</td><td>0.0045249</td><td>0.0</td><td>0.15</td><td>0.0</td><td>0.0</td><td>0.0</td><td>0.0</td><td>0.996284</td><td>0.994496</td><td>0.0</td><td>0.991684</td><td>0.0</td><td>0.0</td><td>0.0</td><td>0.0</td><td>0.0</td><td>0.0</td><td>0.0</td><td>0.0</td><td>0</td><td>0</td><td>(23,[0,1,2,3,4,6,...</td></tr>\n",
              "<tr><td>0.492</td><td>0.545455</td><td>0.769091</td><td>0.545455</td><td>0.0</td><td>0.0</td><td>0.0</td><td>0.0</td><td>0.0</td><td>0.0</td><td>0.0</td><td>0.86616</td><td>0.971726</td><td>0.25</td><td>0.952663</td><td>0.0</td><td>0.0</td><td>0.0</td><td>0.0</td><td>0.0</td><td>0.0</td><td>0.0</td><td>0.0</td><td>0</td><td>0</td><td>(23,[0,1,2,3,11,1...</td></tr>\n",
              "<tr><td>0.659574</td><td>0.5</td><td>0.319149</td><td>0.5</td><td>0.0</td><td>0.0</td><td>0.0</td><td>0.0</td><td>0.0</td><td>0.0</td><td>0.0</td><td>0.997379</td><td>0.997951</td><td>1.0</td><td>0.997465</td><td>0.0</td><td>0.0</td><td>0.0</td><td>0.0</td><td>0.0</td><td>0.0</td><td>0.0</td><td>0.0</td><td>0</td><td>0</td><td>(23,[0,1,2,3,11,1...</td></tr>\n",
              "<tr><td>0.896484</td><td>0.7</td><td>0.968945</td><td>0.777778</td><td>0.259259</td><td>0.0</td><td>0.7</td><td>0.333333</td><td>0.0</td><td>0.333333</td><td>0.333333</td><td>0.397011</td><td>0.944071</td><td>0.195652</td><td>0.604478</td><td>0.0</td><td>0.0</td><td>0.0</td><td>0.0</td><td>0.0</td><td>0.0</td><td>0.0</td><td>0.0</td><td>0</td><td>0</td><td>(23,[0,1,2,3,4,6,...</td></tr>\n",
              "<tr><td>0.26932</td><td>0.92482</td><td>0.897109</td><td>0.925773</td><td>0.0126818</td><td>0.0</td><td>0.92482</td><td>0.0</td><td>0.0</td><td>0.0</td><td>0.0</td><td>0.817906</td><td>0.969664</td><td>1.0</td><td>0.986226</td><td>0.0</td><td>0.0</td><td>0.0</td><td>0.0</td><td>0.0</td><td>0.0</td><td>0.0</td><td>0.0</td><td>0</td><td>0</td><td>(23,[0,1,2,3,4,6,...</td></tr>\n",
              "<tr><td>0.759083</td><td>0.887745</td><td>0.972956</td><td>0.88866</td><td>0.00815285</td><td>0.0</td><td>0.887745</td><td>0.0</td><td>0.0</td><td>0.0</td><td>0.0</td><td>0.358465</td><td>0.789691</td><td>1.0</td><td>0.840728</td><td>0.0</td><td>0.0</td><td>0.0</td><td>0.0</td><td>0.0</td><td>0.0</td><td>0.0</td><td>0.0</td><td>0</td><td>0</td><td>(23,[0,1,2,3,4,6,...</td></tr>\n",
              "<tr><td>0.789532</td><td>0.74359</td><td>0.179176</td><td>0.5</td><td>0.487179</td><td>0.787879</td><td>0.172727</td><td>0.161616</td><td>0.0441807</td><td>0.5</td><td>0.25</td><td>0.662363</td><td>0.633295</td><td>0.956522</td><td>0.571138</td><td>0.0</td><td>0.0</td><td>0.0</td><td>0.0</td><td>0.0</td><td>0.0</td><td>0.0</td><td>0.0</td><td>0</td><td>0</td><td>[0.789532,0.74359...</td></tr>\n",
              "<tr><td>0.96151</td><td>0.375</td><td>0.975944</td><td>0.428571</td><td>0.0857143</td><td>0.0</td><td>0.375</td><td>0.25</td><td>0.0</td><td>0.25</td><td>0.25</td><td>0.821429</td><td>0.917748</td><td>0.0</td><td>0.866667</td><td>0.0</td><td>0.0</td><td>0.0</td><td>0.0</td><td>0.0</td><td>0.0</td><td>0.0</td><td>0.0</td><td>0</td><td>0</td><td>(23,[0,1,2,3,4,6,...</td></tr>\n",
              "<tr><td>0.998413</td><td>0.357143</td><td>0.99898</td><td>0.357143</td><td>0.0</td><td>0.0</td><td>0.0</td><td>0.0</td><td>0.0</td><td>0.0</td><td>0.0</td><td>0.999997</td><td>0.999997</td><td>1.0</td><td>0.999998</td><td>0.0</td><td>0.0</td><td>0.0</td><td>0.0</td><td>0.0</td><td>0.0</td><td>0.0</td><td>0.0</td><td>0</td><td>0</td><td>(23,[0,1,2,3,11,1...</td></tr>\n",
              "<tr><td>0.974487</td><td>0.222222</td><td>0.967198</td><td>0.222222</td><td>0.0</td><td>0.0</td><td>0.0</td><td>0.0</td><td>0.0</td><td>0.0</td><td>0.0</td><td>0.999948</td><td>0.999923</td><td>1.0</td><td>0.999915</td><td>0.0</td><td>0.0</td><td>0.0</td><td>0.0</td><td>0.0</td><td>0.0</td><td>0.0</td><td>0.0</td><td>0</td><td>0</td><td>(23,[0,1,2,3,11,1...</td></tr>\n",
              "<tr><td>0.275362</td><td>0.625</td><td>0.4825</td><td>0.666667</td><td>0.111111</td><td>0.6</td><td>0.0625</td><td>0.0117648</td><td>0.129391</td><td>0.0</td><td>0.285714</td><td>0.664251</td><td>0.917097</td><td>0.948718</td><td>0.901672</td><td>0.714286</td><td>0.238095</td><td>0.5</td><td>0.637681</td><td>0.0</td><td>0.275362</td><td>0.214844</td><td>0.431046</td><td>0</td><td>0</td><td>[0.275362,0.625,0...</td></tr>\n",
              "</table>\n",
              "only showing top 20 rows\n"
            ]
          },
          "metadata": {},
          "execution_count": 46
        }
      ]
    },
    {
      "cell_type": "code",
      "source": [
        "result = sampled_data.union(filtered_data_1)"
      ],
      "metadata": {
        "id": "PjgPUiISRvP0"
      },
      "execution_count": 47,
      "outputs": []
    },
    {
      "cell_type": "code",
      "source": [
        "result.count()"
      ],
      "metadata": {
        "id": "Ao5uByVFlghL",
        "colab": {
          "base_uri": "https://localhost:8080/"
        },
        "outputId": "f8f95db5-9a1a-46bd-e86c-98ccbe8b7d79"
      },
      "execution_count": 48,
      "outputs": [
        {
          "output_type": "execute_result",
          "data": {
            "text/plain": [
              "1803"
            ]
          },
          "metadata": {},
          "execution_count": 48
        }
      ]
    },
    {
      "cell_type": "markdown",
      "source": [
        "## Modeling"
      ],
      "metadata": {
        "id": "jM17wHw4MDRk"
      }
    },
    {
      "cell_type": "code",
      "source": [
        "rf=RandomForestClassifier(labelCol=\"datesets_subject_main_match\", featuresCol=\"features\")\n",
        "\n",
        "# Define the parameter grid for tuning\n",
        "param_grid = ParamGridBuilder() \\\n",
        "    .addGrid(rf.numTrees, [10, 20, 30]) \\\n",
        "    .addGrid(rf.maxDepth, [5, 10]) \\\n",
        "    .build()\n",
        "\n",
        "# Create a Leave-One-Out Cross Validator\n",
        "crossval = CrossValidator(estimator=RandomForestClassifier(labelCol=\"datesets_subject_main_match\", featuresCol=\"features\"),\n",
        "                          estimatorParamMaps=param_grid,\n",
        "                          evaluator=MulticlassClassificationEvaluator(labelCol=\"datesets_subject_main_match\", predictionCol=\"prediction\", metricName=\"accuracy\"))\n",
        "\n",
        "\n",
        "# Fit the model using the cross validator\n",
        "model = crossval.fit(result)\n",
        "\n",
        "# Get the best model from cross validation\n",
        "best_model = model.bestModel\n",
        "\n",
        "# Make predictions on the entire dataset\n",
        "predictions = best_model.transform(result)\n",
        "\n"
      ],
      "metadata": {
        "id": "YXEOT047mmTS"
      },
      "execution_count": 51,
      "outputs": []
    },
    {
      "cell_type": "markdown",
      "source": [
        "## Evaluation"
      ],
      "metadata": {
        "id": "q3tLIutjMLPi"
      }
    },
    {
      "cell_type": "code",
      "source": [
        "# Evaluate the model's performance\n",
        "evaluator = MulticlassClassificationEvaluator(labelCol=\"datesets_subject_main_match\", predictionCol=\"prediction\", metricName=\"accuracy\")\n",
        "accuracy = evaluator.evaluate(predictions)\n",
        "f1_score = evaluator.setMetricName(\"f1\").evaluate(predictions)\n",
        "precision = evaluator.setMetricName(\"weightedPrecision\").evaluate(predictions)\n",
        "recall = evaluator.setMetricName(\"weightedRecall\").evaluate(predictions)\n",
        "\n",
        "print(\"Accuracy: {:.2f}%\".format(accuracy * 100))\n",
        "print(\"F1 Score: {:.2f}\".format(f1_score* 100))\n",
        "print(\"Precision: {:.2f}\".format(precision* 100))\n",
        "print(\"Recall: {:.2f}\".format(recall* 100))"
      ],
      "metadata": {
        "colab": {
          "base_uri": "https://localhost:8080/"
        },
        "id": "7OjtN4afnbMD",
        "outputId": "4f642c82-92b9-4a45-e63a-bf1b7878bdf5"
      },
      "execution_count": 50,
      "outputs": [
        {
          "output_type": "stream",
          "name": "stdout",
          "text": [
            "Accuracy: 81.53%\n",
            "F1 Score: 79.82\n",
            "Precision: 82.39\n",
            "Recall: 81.53\n"
          ]
        }
      ]
    }
  ]
}